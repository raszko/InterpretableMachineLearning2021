{
 "cells": [
  {
   "cell_type": "markdown",
   "metadata": {},
   "source": [
    "Solving mushroom classification problem from https://github.com/pbiecek/InterpretableMachineLearning2020/issues/5"
   ]
  },
  {
   "cell_type": "code",
   "execution_count": 1,
   "metadata": {
    "tags": [
     "remove_cell"
    ]
   },
   "outputs": [],
   "source": [
    "import numpy as np\n",
    "import pandas as pd\n",
    "from sklearn import preprocessing\n",
    "from sklearn.ensemble import RandomForestClassifier\n",
    "from sklearn.linear_model import LogisticRegression\n",
    "from sklearn.model_selection import train_test_split\n",
    "from ceteris_paribus import explainer, profiles\n",
    "from ceteris_paribus.plots import plots\n",
    "%matplotlib inline"
   ]
  },
  {
   "cell_type": "code",
   "execution_count": 2,
   "metadata": {
    "tags": [
     "remove_cell"
    ]
   },
   "outputs": [
    {
     "data": {
      "text/html": [
       "<div>\n",
       "<style scoped>\n",
       "    .dataframe tbody tr th:only-of-type {\n",
       "        vertical-align: middle;\n",
       "    }\n",
       "\n",
       "    .dataframe tbody tr th {\n",
       "        vertical-align: top;\n",
       "    }\n",
       "\n",
       "    .dataframe thead th {\n",
       "        text-align: right;\n",
       "    }\n",
       "</style>\n",
       "<table border=\"1\" class=\"dataframe\">\n",
       "  <thead>\n",
       "    <tr style=\"text-align: right;\">\n",
       "      <th></th>\n",
       "      <th>cap-shape</th>\n",
       "      <th>cap-surface</th>\n",
       "      <th>cap-color</th>\n",
       "      <th>bruises%3F</th>\n",
       "      <th>odor</th>\n",
       "      <th>gill-attachment</th>\n",
       "      <th>gill-spacing</th>\n",
       "      <th>gill-size</th>\n",
       "      <th>gill-color</th>\n",
       "      <th>stalk-shape</th>\n",
       "      <th>...</th>\n",
       "      <th>stalk-color-above-ring</th>\n",
       "      <th>stalk-color-below-ring</th>\n",
       "      <th>veil-type</th>\n",
       "      <th>veil-color</th>\n",
       "      <th>ring-number</th>\n",
       "      <th>ring-type</th>\n",
       "      <th>spore-print-color</th>\n",
       "      <th>population</th>\n",
       "      <th>habitat</th>\n",
       "      <th>class</th>\n",
       "    </tr>\n",
       "  </thead>\n",
       "  <tbody>\n",
       "    <tr>\n",
       "      <th>0</th>\n",
       "      <td>x</td>\n",
       "      <td>s</td>\n",
       "      <td>n</td>\n",
       "      <td>t</td>\n",
       "      <td>p</td>\n",
       "      <td>f</td>\n",
       "      <td>c</td>\n",
       "      <td>n</td>\n",
       "      <td>k</td>\n",
       "      <td>e</td>\n",
       "      <td>...</td>\n",
       "      <td>w</td>\n",
       "      <td>w</td>\n",
       "      <td>p</td>\n",
       "      <td>w</td>\n",
       "      <td>o</td>\n",
       "      <td>p</td>\n",
       "      <td>k</td>\n",
       "      <td>s</td>\n",
       "      <td>u</td>\n",
       "      <td>p</td>\n",
       "    </tr>\n",
       "    <tr>\n",
       "      <th>1</th>\n",
       "      <td>x</td>\n",
       "      <td>s</td>\n",
       "      <td>y</td>\n",
       "      <td>t</td>\n",
       "      <td>a</td>\n",
       "      <td>f</td>\n",
       "      <td>c</td>\n",
       "      <td>b</td>\n",
       "      <td>k</td>\n",
       "      <td>e</td>\n",
       "      <td>...</td>\n",
       "      <td>w</td>\n",
       "      <td>w</td>\n",
       "      <td>p</td>\n",
       "      <td>w</td>\n",
       "      <td>o</td>\n",
       "      <td>p</td>\n",
       "      <td>n</td>\n",
       "      <td>n</td>\n",
       "      <td>g</td>\n",
       "      <td>e</td>\n",
       "    </tr>\n",
       "    <tr>\n",
       "      <th>2</th>\n",
       "      <td>b</td>\n",
       "      <td>s</td>\n",
       "      <td>w</td>\n",
       "      <td>t</td>\n",
       "      <td>l</td>\n",
       "      <td>f</td>\n",
       "      <td>c</td>\n",
       "      <td>b</td>\n",
       "      <td>n</td>\n",
       "      <td>e</td>\n",
       "      <td>...</td>\n",
       "      <td>w</td>\n",
       "      <td>w</td>\n",
       "      <td>p</td>\n",
       "      <td>w</td>\n",
       "      <td>o</td>\n",
       "      <td>p</td>\n",
       "      <td>n</td>\n",
       "      <td>n</td>\n",
       "      <td>m</td>\n",
       "      <td>e</td>\n",
       "    </tr>\n",
       "    <tr>\n",
       "      <th>3</th>\n",
       "      <td>x</td>\n",
       "      <td>y</td>\n",
       "      <td>w</td>\n",
       "      <td>t</td>\n",
       "      <td>p</td>\n",
       "      <td>f</td>\n",
       "      <td>c</td>\n",
       "      <td>n</td>\n",
       "      <td>n</td>\n",
       "      <td>e</td>\n",
       "      <td>...</td>\n",
       "      <td>w</td>\n",
       "      <td>w</td>\n",
       "      <td>p</td>\n",
       "      <td>w</td>\n",
       "      <td>o</td>\n",
       "      <td>p</td>\n",
       "      <td>k</td>\n",
       "      <td>s</td>\n",
       "      <td>u</td>\n",
       "      <td>p</td>\n",
       "    </tr>\n",
       "    <tr>\n",
       "      <th>4</th>\n",
       "      <td>x</td>\n",
       "      <td>s</td>\n",
       "      <td>g</td>\n",
       "      <td>f</td>\n",
       "      <td>n</td>\n",
       "      <td>f</td>\n",
       "      <td>w</td>\n",
       "      <td>b</td>\n",
       "      <td>k</td>\n",
       "      <td>t</td>\n",
       "      <td>...</td>\n",
       "      <td>w</td>\n",
       "      <td>w</td>\n",
       "      <td>p</td>\n",
       "      <td>w</td>\n",
       "      <td>o</td>\n",
       "      <td>e</td>\n",
       "      <td>n</td>\n",
       "      <td>a</td>\n",
       "      <td>g</td>\n",
       "      <td>e</td>\n",
       "    </tr>\n",
       "  </tbody>\n",
       "</table>\n",
       "<p>5 rows × 23 columns</p>\n",
       "</div>"
      ],
      "text/plain": [
       "  cap-shape cap-surface cap-color bruises%3F odor gill-attachment  \\\n",
       "0         x           s         n          t    p               f   \n",
       "1         x           s         y          t    a               f   \n",
       "2         b           s         w          t    l               f   \n",
       "3         x           y         w          t    p               f   \n",
       "4         x           s         g          f    n               f   \n",
       "\n",
       "  gill-spacing gill-size gill-color stalk-shape  ... stalk-color-above-ring  \\\n",
       "0            c         n          k           e  ...                      w   \n",
       "1            c         b          k           e  ...                      w   \n",
       "2            c         b          n           e  ...                      w   \n",
       "3            c         n          n           e  ...                      w   \n",
       "4            w         b          k           t  ...                      w   \n",
       "\n",
       "  stalk-color-below-ring veil-type veil-color ring-number ring-type  \\\n",
       "0                      w         p          w           o         p   \n",
       "1                      w         p          w           o         p   \n",
       "2                      w         p          w           o         p   \n",
       "3                      w         p          w           o         p   \n",
       "4                      w         p          w           o         e   \n",
       "\n",
       "  spore-print-color population habitat class  \n",
       "0                 k          s       u     p  \n",
       "1                 n          n       g     e  \n",
       "2                 n          n       m     e  \n",
       "3                 k          s       u     p  \n",
       "4                 n          a       g     e  \n",
       "\n",
       "[5 rows x 23 columns]"
      ]
     },
     "execution_count": 2,
     "metadata": {},
     "output_type": "execute_result"
    }
   ],
   "source": [
    "data = pd.read_csv(\"dataset_24_mushroom.csv\")\n",
    "#remove aphostrophes from values\n",
    "for col in data.columns:\n",
    "    data[col] = data[col].str.replace(\"'\", \"\")\n",
    "data.head()"
   ]
  },
  {
   "cell_type": "markdown",
   "metadata": {},
   "source": [
    "Target class is in column \"class\", \"p\" means poissonous, \"e\" means eatable. Let's preprocess the data ie. encode classes."
   ]
  },
  {
   "cell_type": "code",
   "execution_count": 3,
   "metadata": {
    "tags": [
     "remove_cell"
    ]
   },
   "outputs": [
    {
     "name": "stdout",
     "output_type": "stream",
     "text": [
      "Number of samples: 8124\n"
     ]
    }
   ],
   "source": [
    "X = data.drop(columns=[\"class\"])\n",
    "class_enc = preprocessing.LabelEncoder().fit(data[\"class\"])\n",
    "y = class_enc.transform(data[\"class\"])\n",
    "encoders = {}\n",
    "categorical_names = {}\n",
    "for col in X.columns:\n",
    "    encoders[col] = preprocessing.LabelEncoder().fit(X[col])\n",
    "    categorical_names[X.columns.get_loc(col)] = encoders[col].classes_\n",
    "    X[col] = encoders[col].transform(X[col])\n",
    "\n",
    "print(\"Number of samples: %d\" % len(y))"
   ]
  },
  {
   "cell_type": "markdown",
   "metadata": {},
   "source": [
    "Let's train and evaluate Random Forest model. Using 20% of data as test set."
   ]
  },
  {
   "cell_type": "code",
   "execution_count": 4,
   "metadata": {
    "tags": [
     "remove_cell"
    ]
   },
   "outputs": [
    {
     "name": "stdout",
     "output_type": "stream",
     "text": [
      "Accuracy: 1.000000\n"
     ]
    }
   ],
   "source": [
    "encoder = preprocessing.OneHotEncoder().fit(X)\n",
    "X_train, X_test, y_train, y_test = train_test_split(X, y, test_size=0.2, random_state=3234)\n",
    "X_train_enc = encoder.transform(X_train)\n",
    "classifier = RandomForestClassifier().fit(X_train_enc, y_train)\n",
    "pred = classifier.predict(encoder.transform(X_test))\n",
    "acc = np.mean(pred == y_test)\n",
    "print(\"Accuracy: %f\" % acc)"
   ]
  },
  {
   "cell_type": "markdown",
   "metadata": {},
   "source": [
    "We have perfect accuracy. Now let's check CeterisParibus explanations and focus on 4 features that in LIME explanations were most important."
   ]
  },
  {
   "cell_type": "code",
   "execution_count": 5,
   "metadata": {
    "tags": [
     "remove_cell"
    ]
   },
   "outputs": [
    {
     "name": "stdout",
     "output_type": "stream",
     "text": [
      "Case 1 (result: e)\n"
     ]
    },
    {
     "data": {
      "text/html": [
       "\n",
       "        <iframe\n",
       "            width=\"660\"\n",
       "            height=\"550\"\n",
       "            src=\"_plot_files/plots0.html\"\n",
       "            frameborder=\"0\"\n",
       "            allowfullscreen\n",
       "        ></iframe>\n",
       "        "
      ],
      "text/plain": [
       "<IPython.lib.display.IFrame at 0x7fb0f74f3df0>"
      ]
     },
     "metadata": {},
     "output_type": "display_data"
    }
   ],
   "source": [
    "def predict(data):\n",
    "    return classifier.predict_proba(encoder.transform(data))[::, 1]\n",
    "expl = explainer.explain(classifier, data=X_train, y=y_train, label='Random Forest', \n",
    "                                              predict_function=predict)\n",
    "print(\"Case 1 (result: %s)\" % class_enc.classes_[y[32]])\n",
    "p1 = profiles.individual_variable_profile(expl, X.iloc[32], y[32], variables=[\"odor\", \"gill-size\", \"gill-spacing\", \"stalk-surface-above-ring\"])\n",
    "plots.plot_notebook(p1, selected_variables=[\"odor\", \"gill-size\", \"gill-spacing\", \"stalk-surface-above-ring\"], print_observations=False)"
   ]
  },
  {
   "cell_type": "code",
   "execution_count": 6,
   "metadata": {
    "tags": [
     "remove_cell"
    ]
   },
   "outputs": [
    {
     "name": "stdout",
     "output_type": "stream",
     "text": [
      "Case 2 (result: e)\n"
     ]
    },
    {
     "data": {
      "text/html": [
       "\n",
       "        <iframe\n",
       "            width=\"660\"\n",
       "            height=\"550\"\n",
       "            src=\"_plot_files/plots1.html\"\n",
       "            frameborder=\"0\"\n",
       "            allowfullscreen\n",
       "        ></iframe>\n",
       "        "
      ],
      "text/plain": [
       "<IPython.lib.display.IFrame at 0x7fb0f748f850>"
      ]
     },
     "metadata": {},
     "output_type": "display_data"
    }
   ],
   "source": [
    "print(\"Case 2 (result: %s)\" % class_enc.classes_[y[123]])\n",
    "p2 = profiles.individual_variable_profile(expl, X.iloc[123], y[123], variables=[\"odor\", \"gill-size\", \"gill-spacing\", \"stalk-surface-above-ring\"])\n",
    "plots.plot_notebook(p2, selected_variables=[\"odor\", \"gill-size\", \"gill-spacing\", \"stalk-surface-above-ring\"], print_observations=False)"
   ]
  },
  {
   "cell_type": "code",
   "execution_count": 7,
   "metadata": {
    "tags": [
     "remove_cell"
    ]
   },
   "outputs": [
    {
     "name": "stdout",
     "output_type": "stream",
     "text": [
      "Case 3 (result: e)\n"
     ]
    },
    {
     "data": {
      "text/html": [
       "\n",
       "        <iframe\n",
       "            width=\"660\"\n",
       "            height=\"550\"\n",
       "            src=\"_plot_files/plots2.html\"\n",
       "            frameborder=\"0\"\n",
       "            allowfullscreen\n",
       "        ></iframe>\n",
       "        "
      ],
      "text/plain": [
       "<IPython.lib.display.IFrame at 0x7fb0f733fee0>"
      ]
     },
     "metadata": {},
     "output_type": "display_data"
    }
   ],
   "source": [
    "print(\"Case 3 (result: %s)\" % class_enc.classes_[y[675]])\n",
    "p3 = profiles.individual_variable_profile(expl, X.iloc[675], y[675], variables=[\"odor\", \"gill-size\", \"gill-spacing\", \"stalk-surface-above-ring\"])\n",
    "plots.plot_notebook(p3, selected_variables=[\"odor\", \"gill-size\", \"gill-spacing\", \"stalk-surface-above-ring\"], print_observations=False)"
   ]
  },
  {
   "cell_type": "markdown",
   "metadata": {},
   "source": [
    "We see that, the CP profiles for different samples can differ. The shape for plot of odor in first example does not resemble shapes in second and third example. Also the dependency on gill-size is opposite in second and third example."
   ]
  },
  {
   "cell_type": "markdown",
   "metadata": {},
   "source": [
    "Let's train another model (Logistic Regression) and compare explanations."
   ]
  },
  {
   "cell_type": "code",
   "execution_count": 8,
   "metadata": {
    "tags": [
     "remove_cell"
    ]
   },
   "outputs": [
    {
     "name": "stdout",
     "output_type": "stream",
     "text": [
      "Accuracy: 1.000000\n"
     ]
    }
   ],
   "source": [
    "logistic_classifier = LogisticRegression().fit(X_train_enc, y_train)\n",
    "pred = logistic_classifier.predict(encoder.transform(X_test))\n",
    "acc = np.mean(pred == y_test)\n",
    "print(\"Accuracy: %f\" % acc)\n",
    "def predict_l(data):\n",
    "    return logistic_classifier.predict_proba(encoder.transform(data))[::, 1]"
   ]
  },
  {
   "cell_type": "code",
   "execution_count": 9,
   "metadata": {
    "tags": [
     "remove_cell"
    ]
   },
   "outputs": [
    {
     "name": "stdout",
     "output_type": "stream",
     "text": [
      "Case 1 (result: e)\n"
     ]
    },
    {
     "data": {
      "text/html": [
       "\n",
       "        <iframe\n",
       "            width=\"660\"\n",
       "            height=\"550\"\n",
       "            src=\"_plot_files/plots3.html\"\n",
       "            frameborder=\"0\"\n",
       "            allowfullscreen\n",
       "        ></iframe>\n",
       "        "
      ],
      "text/plain": [
       "<IPython.lib.display.IFrame at 0x7fb0f748f850>"
      ]
     },
     "metadata": {},
     "output_type": "display_data"
    }
   ],
   "source": [
    "expl_l = explainer.explain(logistic_classifier, data=X, y=y, label='Logistic Regression', \n",
    "                                              predict_function=predict_l)\n",
    "print(\"Case 1 (result: %s)\" % class_enc.classes_[y[32]])\n",
    "p1_l = profiles.individual_variable_profile(expl_l, X.iloc[32], y[32])\n",
    "plots.plot_notebook(p1_l, selected_variables=[\"odor\", \"gill-size\", \"gill-spacing\", \"stalk-surface-above-ring\"], print_observations=False)"
   ]
  },
  {
   "cell_type": "code",
   "execution_count": 10,
   "metadata": {
    "scrolled": false,
    "tags": [
     "remove_cell"
    ]
   },
   "outputs": [
    {
     "name": "stdout",
     "output_type": "stream",
     "text": [
      "Case 2 (result: e)\n"
     ]
    },
    {
     "data": {
      "text/html": [
       "\n",
       "        <iframe\n",
       "            width=\"660\"\n",
       "            height=\"550\"\n",
       "            src=\"_plot_files/plots4.html\"\n",
       "            frameborder=\"0\"\n",
       "            allowfullscreen\n",
       "        ></iframe>\n",
       "        "
      ],
      "text/plain": [
       "<IPython.lib.display.IFrame at 0x7fb0f746d220>"
      ]
     },
     "metadata": {},
     "output_type": "display_data"
    }
   ],
   "source": [
    "print(\"Case 2 (result: %s)\" % class_enc.classes_[y[123]])\n",
    "p2_l = profiles.individual_variable_profile(expl_l, X.iloc[123], y[123])\n",
    "plots.plot_notebook(p2_l, selected_variables=[\"odor\", \"gill-size\", \"gill-spacing\", \"stalk-surface-above-ring\"], print_observations=False)"
   ]
  },
  {
   "cell_type": "code",
   "execution_count": 11,
   "metadata": {
    "scrolled": false,
    "tags": [
     "remove_cell"
    ]
   },
   "outputs": [
    {
     "name": "stdout",
     "output_type": "stream",
     "text": [
      "Case 3 (result: e)\n"
     ]
    },
    {
     "data": {
      "text/html": [
       "\n",
       "        <iframe\n",
       "            width=\"660\"\n",
       "            height=\"550\"\n",
       "            src=\"_plot_files/plots5.html\"\n",
       "            frameborder=\"0\"\n",
       "            allowfullscreen\n",
       "        ></iframe>\n",
       "        "
      ],
      "text/plain": [
       "<IPython.lib.display.IFrame at 0x7fb0f7481a30>"
      ]
     },
     "metadata": {},
     "output_type": "display_data"
    }
   ],
   "source": [
    "print(\"Case 3 (result: %s)\" % class_enc.classes_[y[675]])\n",
    "p3_l = profiles.individual_variable_profile(expl_l, X.iloc[675], y[675])\n",
    "plots.plot_notebook(p3_l, selected_variables=[\"odor\", \"gill-size\", \"gill-spacing\", \"stalk-surface-above-ring\"], print_observations=False)"
   ]
  },
  {
   "cell_type": "markdown",
   "metadata": {},
   "source": [
    "CP profiles between models also differ significally. Logistic Regression have very different profiles for odor (but simillar in different samples) and almost no dependence on gill-size and gill-spacing. Profiles for stalk-surface-above-ring have simillar shape, but more variability in Random Forest."
   ]
  },
  {
   "cell_type": "markdown",
   "metadata": {},
   "source": [
    "Concluding, analysis of Ceteris Paribus profiles shows us different structure of this two models. Both of them achieve 100% accuracy, so they give the same (and correct) predicions, but depend on data in different ways. Logistic Regression uses mostly odor for predicting results, whereas Random Forest have different dependency on odor, but depends also on other parameters, like gill-size or stalk-surface-above-ring."
   ]
  },
  {
   "cell_type": "markdown",
   "metadata": {},
   "source": [
    "## Appendix: code"
   ]
  },
  {
   "cell_type": "code",
   "execution_count": null,
   "metadata": {},
   "outputs": [],
   "source": [
    "import numpy as np\n",
    "import pandas as pd\n",
    "from sklearn import preprocessing\n",
    "from sklearn.ensemble import RandomForestClassifier\n",
    "from sklearn.linear_model import LogisticRegression\n",
    "from sklearn.model_selection import train_test_split\n",
    "from ceteris_paribus import explainer, profiles\n",
    "from ceteris_paribus.plots import plots\n",
    "\n",
    "data = pd.read_csv(\"dataset_24_mushroom.csv\")\n",
    "#remove aphostrophes from values\n",
    "for col in data.columns:\n",
    "    data[col] = data[col].str.replace(\"'\", \"\")\n",
    "data.head()\n",
    "\n",
    "X = data.drop(columns=[\"class\"])\n",
    "class_enc = preprocessing.LabelEncoder().fit(data[\"class\"])\n",
    "y = class_enc.transform(data[\"class\"])\n",
    "encoders = {}\n",
    "categorical_names = {}\n",
    "for col in X.columns:\n",
    "    encoders[col] = preprocessing.LabelEncoder().fit(X[col])\n",
    "    categorical_names[X.columns.get_loc(col)] = encoders[col].classes_\n",
    "    X[col] = encoders[col].transform(X[col])\n",
    "\n",
    "print(\"Number of samples: %d\" % len(y))\n",
    "\n",
    "encoder = preprocessing.OneHotEncoder().fit(X)\n",
    "X_train, X_test, y_train, y_test = train_test_split(X, y, test_size=0.2, random_state=3234)\n",
    "X_train_enc = encoder.transform(X_train)\n",
    "classifier = RandomForestClassifier().fit(X_train_enc, y_train)\n",
    "pred = classifier.predict(encoder.transform(X_test))\n",
    "acc = np.mean(pred == y_test)\n",
    "print(\"Accuracy: %f\" % acc)\n",
    "\n",
    "def predict(data):\n",
    "    return classifier.predict_proba(encoder.transform(data))[::, 1]\n",
    "expl = explainer.explain(classifier, data=X_train, y=y_train, label='Random Forest', \n",
    "                                              predict_function=predict)\n",
    "\n",
    "p1 = profiles.individual_variable_profile(expl, X.iloc[32], y[32], variables=[\"odor\", \"gill-size\", \"gill-spacing\", \"stalk-surface-above-ring\"])\n",
    "plots.plot_notebook(p1, selected_variables=[\"odor\", \"gill-size\", \"gill-spacing\", \"stalk-surface-above-ring\"], print_observations=False)\n",
    "\n",
    "p2 = profiles.individual_variable_profile(expl, X.iloc[123], y[123], variables=[\"odor\", \"gill-size\", \"gill-spacing\", \"stalk-surface-above-ring\"])\n",
    "plots.plot_notebook(p2, selected_variables=[\"odor\", \"gill-size\", \"gill-spacing\", \"stalk-surface-above-ring\"], print_observations=False)\n",
    "\n",
    "p3 = profiles.individual_variable_profile(expl, X.iloc[675], y[675], variables=[\"odor\", \"gill-size\", \"gill-spacing\", \"stalk-surface-above-ring\"])\n",
    "plots.plot_notebook(p3, selected_variables=[\"odor\", \"gill-size\", \"gill-spacing\", \"stalk-surface-above-ring\"], print_observations=False)\n",
    "\n",
    "logistic_classifier = LogisticRegression().fit(X_train_enc, y_train)\n",
    "pred = logistic_classifier.predict(encoder.transform(X_test))\n",
    "acc = np.mean(pred == y_test)\n",
    "print(\"Accuracy: %f\" % acc)\n",
    "def predict_l(data):\n",
    "    return logistic_classifier.predict_proba(encoder.transform(data))[::, 1]\n",
    "\n",
    "expl_l = explainer.explain(logistic_classifier, data=X, y=y, label='Logistic Regression', \n",
    "                                              predict_function=predict_l)\n",
    "p1_l = profiles.individual_variable_profile(expl_l, X.iloc[32], y[32])\n",
    "plots.plot_notebook(p1_l, selected_variables=[\"odor\", \"gill-size\", \"gill-spacing\", \"stalk-surface-above-ring\"], print_observations=False)\n",
    "\n",
    "p2_l = profiles.individual_variable_profile(expl_l, X.iloc[123], y[123])\n",
    "plots.plot_notebook(p2_l, selected_variables=[\"odor\", \"gill-size\", \"gill-spacing\", \"stalk-surface-above-ring\"], print_observations=False)\n",
    "\n",
    "p3_l = profiles.individual_variable_profile(expl_l, X.iloc[675], y[675])\n",
    "plots.plot_notebook(p3_l, selected_variables=[\"odor\", \"gill-size\", \"gill-spacing\", \"stalk-surface-above-ring\"], print_observations=False)"
   ]
  }
 ],
 "metadata": {
  "celltoolbar": "Edit Metadata",
  "kernelspec": {
   "display_name": "Python 3",
   "language": "python",
   "name": "python3"
  },
  "language_info": {
   "codemirror_mode": {
    "name": "ipython",
    "version": 3
   },
   "file_extension": ".py",
   "mimetype": "text/x-python",
   "name": "python",
   "nbconvert_exporter": "python",
   "pygments_lexer": "ipython3",
   "version": "3.9.3"
  },
  "name": "Mushroom_classification.ipynb"
 },
 "nbformat": 4,
 "nbformat_minor": 4
}
