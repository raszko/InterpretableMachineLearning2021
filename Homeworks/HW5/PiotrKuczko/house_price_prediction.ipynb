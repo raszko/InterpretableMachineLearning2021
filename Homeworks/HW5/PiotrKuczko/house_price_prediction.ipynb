{
 "cells": [
  {
   "cell_type": "markdown",
   "id": "negative-patrick",
   "metadata": {},
   "source": [
    "# House Sales in King County, USA\n",
    "### Predict house price using regression"
   ]
  },
  {
   "cell_type": "markdown",
   "id": "banner-customs",
   "metadata": {},
   "source": [
    "Dane zawierają takie dane jak:\n",
    "- id - unikalny id domu\n",
    "- date - data sprzedaży domu\n",
    "- price - cena sprzedanego domu\n",
    "\n",
    "\n",
    "- bedrooms\n",
    "- bathrooms - liczba łazienek, gdzie 0.5 znaczy łazienka bez prysznica\n",
    "- sqft_living - powierzchnia mieszkalna\n",
    "- sqft_lot - powierzchnia ogródka\n",
    "- sqft_above - powierzchnia domu nad powierzchnią ziemi \n",
    "- sqft_basement\n",
    "- yr_built\n",
    "- yr_renovated\n",
    "- floors - liczba pięter\n",
    "\n",
    "\n",
    "- waterfront - Zmienna określająca czy mieszkanie wychodziło na nabrzeże\n",
    "- view - ocena widoku [0, 4]\n",
    "- condition - stan mieszkania [1, 5]\n",
    "- grade - ocena zgodności budynku z projektem i jakości wykonania [1, 13]\n",
    "\n",
    "\n",
    "- zipcode\n",
    "- lat - Szerokość geograficzna\n",
    "- long - Długość geograficzna\n",
    "- sqft_living15 - powierzchnia mieszkań najbliższych 15 sąsiadów\n",
    "- sqft_lot15 - powierzchnia ziemi najbliższych sąsiadów"
   ]
  },
  {
   "cell_type": "markdown",
   "id": "industrial-niagara",
   "metadata": {},
   "source": [
    "1. Model XGB Regression z ustawionymi optymalnymi parametrami znalezionymi za pomocą Grid Search. Najważniejszym atrybutem według XGB jest szerokość geograficzna, natomiast na drugim miejscu jest ocena zgodności budynku z projektem i jakość wykonania. Widać też, że najważniejsze są pierwsze cztery atrybuty według tego modelu, czyli (szerokość geograficzna, ocena stanu budynku, powierzchnia mieszkalna, długość geograficzna)."
   ]
  },
  {
   "cell_type": "markdown",
   "id": "herbal-copying",
   "metadata": {},
   "source": [
    "![XGB Regression](xgb.png \"Title\")"
   ]
  },
  {
   "cell_type": "markdown",
   "id": "endless-arnold",
   "metadata": {},
   "source": [
    "2. Model XGB Regression z domyślnymi parametrami. Można tutaj zauważyć, że top4 atrybutów jest taki sami jak w poprzednim XGBoost, kolejność atrybutów nieznacznie się różni. Patrząc też na atrybuty można zauważyć, że są one z tego samego rozkładu. Co ciekawe w XGB z domyślnymi parametrami, suma ważności top4 atrybutów jest większa niż w poprzednim przypadku. Stąd może wynikać, że ten model jest lekko nie douczony względem poprzedniego przypadku."
   ]
  },
  {
   "cell_type": "markdown",
   "id": "detected-belgium",
   "metadata": {},
   "source": [
    "![XGB Regression2](xgb2.png \"Title\")"
   ]
  },
  {
   "cell_type": "markdown",
   "id": "reported-airline",
   "metadata": {},
   "source": [
    "3. Model regresji liniowej z domyślnymi parametrami. Tutaj widać, że rozkład atrybutów jest zupełnie różny. Długość geograficzna, która znajdowała się w top4 ważności poprzednich modeli teraz znajduje się dopiero na 11 pozycji. Widać natomiast tutaj, że najważniejsza jest ocena stanu budynku, a na kolejnym miejscu jest wielkość powierzchni mieszkalnej. Najważniejszy atrybut nie ma takiej dużej istotności jak w przypadku XGBoosta."
   ]
  },
  {
   "cell_type": "markdown",
   "id": "sacred-proposal",
   "metadata": {},
   "source": [
    "![Linear Regression](lr.png \"Title\")"
   ]
  },
  {
   "cell_type": "markdown",
   "id": "emotional-honolulu",
   "metadata": {},
   "source": [
    "4. Model lasu losowego z domyślnymi parametrami. Tutaj można zaobserwować, że las losowy nauczył się istotności atrybutów bardzo podobnie do XGBoost'a. Najważniejsza jest szerokość geograficzna, a na drugim miejscu znajduje się wielkość powierzchni mieszkalnej."
   ]
  },
  {
   "cell_type": "markdown",
   "id": "starting-vegetable",
   "metadata": {},
   "source": [
    "![Random Forest](rf.png \"Title\")"
   ]
  },
  {
   "cell_type": "markdown",
   "id": "educational-hartford",
   "metadata": {},
   "source": [
    "## Podsumowanie\n",
    "Łatwo można zauważyć, że XGBoost i Random Forest zachowują się w bardzo podobny sposób. Natomiast regresja liniowa nauczyła się przewidywać ceny domów w zupełnie inny sposób i bierze ona więcej atrybutów, gdzie każdy z nich ma większy wpływ na wynik niż poprzednio opisane modele. "
   ]
  },
  {
   "cell_type": "code",
   "execution_count": null,
   "id": "valued-demonstration",
   "metadata": {},
   "outputs": [],
   "source": []
  }
 ],
 "metadata": {
  "kernelspec": {
   "display_name": "Python 3",
   "language": "python",
   "name": "python3"
  },
  "language_info": {
   "codemirror_mode": {
    "name": "ipython",
    "version": 3
   },
   "file_extension": ".py",
   "mimetype": "text/x-python",
   "name": "python",
   "nbconvert_exporter": "python",
   "pygments_lexer": "ipython3",
   "version": "3.8.5"
  }
 },
 "nbformat": 4,
 "nbformat_minor": 5
}
