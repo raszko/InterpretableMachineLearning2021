{
 "cells": [
  {
   "cell_type": "markdown",
   "metadata": {},
   "source": [
    "## Praca domowa 3, WUM \n",
    "* Autor: Piotr Nawrot\n",
    "* Data: 26.03.2021"
   ]
  },
  {
   "cell_type": "markdown",
   "metadata": {},
   "source": [
    "## Do rozwiązania zadania 3 używam tych samych danych co w zadaniu 1 więc pozwoliłem sobie zostawić już poczynione obserwacje i opisy. Konkretnie rozwiązane podpunkty zadania 3 znajdują się na dole, po części z zadania 1."
   ]
  },
  {
   "cell_type": "markdown",
   "metadata": {},
   "source": [
    "# Problem Portugalskiego banku i oferty lokat terminowych\n",
    "\n",
    "* Celem zadania jest zbudowanie modelu, który na podstawie historycznych danych określi czy klient zechce założyć lokatę w naszym portugalskim banku.\n",
    "* Od predykcji modelu będzie zależała strategia banku, na podstawie prawdopodobieństwa skorzystania z oferty przez potencjalnego klienta pracownicy banku będą decydować czy warto się z nim kontaktować.\n",
    "    * Z tego powodu będziemy optymalizować metrykę ROC_AUC\n",
    "* Dane użyte w poniższym notebooku są oparte o https://archive.ics.uci.edu/ml/datasets/bank+marketing \n",
    "    * Jedyna modyfikacja danych polega na tym, że zostało usunięte kilka kolumn celem utrudnienia zadania - w danych wyjściowo był dosyć duży leak, a mianowicie kolumna z czasem ostatniej rozmowy banku z klientem. \n",
    "    * Czas tej rozmowy miał bardzo dużą korelację z faktem założenia lokaty. "
   ]
  },
  {
   "cell_type": "markdown",
   "metadata": {},
   "source": [
    "## Wczytanie danych i zaimportowanie bibliotek, nic ciekawego"
   ]
  },
  {
   "cell_type": "code",
   "execution_count": 81,
   "metadata": {
    "id": "EOxaPzZ_Fg69"
   },
   "outputs": [],
   "source": [
    "# %matplotlib inline\n",
    "import matplotlib as mpl\n",
    "import matplotlib.pyplot as plt\n",
    "mpl.rc('axes', labelsize=14)\n",
    "mpl.rc('xtick', labelsize=12)\n",
    "mpl.rc('ytick', labelsize=12)\n",
    "import seaborn as sns\n",
    "sns.set(style=\"darkgrid\")\n",
    "\n",
    "import pandas as pd\n",
    "import numpy as np\n",
    "from collections import defaultdict\n",
    "\n",
    "from sklearn.pipeline import Pipeline\n",
    "from sklearn.preprocessing import StandardScaler\n",
    "from sklearn.impute import SimpleImputer \n",
    "from sklearn.preprocessing import OneHotEncoder\n",
    "from sklearn.base import BaseEstimator, TransformerMixin\n",
    "from sklearn.model_selection import train_test_split\n",
    "from sklearn.linear_model import SGDClassifier\n",
    "\n",
    "from sklearn.model_selection import cross_val_score\n",
    "from sklearn.model_selection import StratifiedKFold\n",
    "from sklearn.metrics import roc_auc_score\n",
    "\n",
    "from xgboost import XGBClassifier\n",
    "from sklearn.ensemble import RandomForestClassifier\n",
    "import dalex as dx\n",
    "\n",
    "from sklearn.model_selection import GridSearchCV\n",
    "from sklearn.model_selection import RandomizedSearchCV"
   ]
  },
  {
   "cell_type": "code",
   "execution_count": 28,
   "metadata": {
    "colab": {
     "base_uri": "https://localhost:8080/"
    },
    "id": "piVtvr_CGKRE",
    "outputId": "3a4d35aa-9325-45f6-a6c6-5860567e8d71"
   },
   "outputs": [
    {
     "name": "stdout",
     "output_type": "stream",
     "text": [
      "(41188, 15)\n"
     ]
    }
   ],
   "source": [
    "full_dataset = pd.read_csv('bank-classification.csv')\n",
    "print(full_dataset.shape)\n",
    "data_len = full_dataset.shape[0]"
   ]
  },
  {
   "cell_type": "markdown",
   "metadata": {},
   "source": [
    "## Opis danych"
   ]
  },
  {
   "cell_type": "markdown",
   "metadata": {
    "id": "vAlv9P_hc6a5"
   },
   "source": [
    "* birth_date - self-explainable \n",
    "* job : type of job (categorical: 'admin.','blue-collar','entrepreneur','housemaid','management','retired', 'self- employed','services','student','technician','unemployed','unknown') \n",
    "* marital : marital status (categorical: 'divorced','married','single','unknown'; note: 'divorced' means divorced or widowed) \n",
    "* education (categorical: 'basic.4y','basic.6y','basic.9y','high.school','illiterate','professional.course','university.degree','unknown') \n",
    "* default: has credit in default? (categorical: 'no','yes','unknown') \n",
    "* housing: has housing loan? (categorical: 'no','yes','unknown') \n",
    "* loan: has personal loan? (categorical: 'no','yes','unknown') \n",
    "\n",
    "* contact_date: ostatnia data kontaktu \n",
    "* contact: contact communication type (categorical: 'cellular','telephone') \n",
    "\n",
    "* campaign: number of contacts performed during this campaign and for this client (numeric, includes last contact) \n",
    "* pdays: number of days that passed by after the client was last contacted from a previous campaign (numeric; 999 means client was not previously contacted) \n",
    "* previous: number of contacts performed before this campaign and for this client (numeric) \n",
    "* poutcome: outcome of the previous marketing campaign (categorical: 'failure','nonexistent','success') "
   ]
  },
  {
   "cell_type": "code",
   "execution_count": 29,
   "metadata": {},
   "outputs": [
    {
     "data": {
      "text/html": [
       "<div>\n",
       "<style scoped>\n",
       "    .dataframe tbody tr th:only-of-type {\n",
       "        vertical-align: middle;\n",
       "    }\n",
       "\n",
       "    .dataframe tbody tr th {\n",
       "        vertical-align: top;\n",
       "    }\n",
       "\n",
       "    .dataframe thead th {\n",
       "        text-align: right;\n",
       "    }\n",
       "</style>\n",
       "<table border=\"1\" class=\"dataframe\">\n",
       "  <thead>\n",
       "    <tr style=\"text-align: right;\">\n",
       "      <th></th>\n",
       "      <th>id</th>\n",
       "      <th>birth_date</th>\n",
       "      <th>job</th>\n",
       "      <th>marital</th>\n",
       "      <th>education</th>\n",
       "      <th>default</th>\n",
       "      <th>housing</th>\n",
       "      <th>loan</th>\n",
       "      <th>contact_date</th>\n",
       "      <th>contact</th>\n",
       "      <th>campaign</th>\n",
       "      <th>pdays</th>\n",
       "      <th>previous</th>\n",
       "      <th>poutcome</th>\n",
       "      <th>y</th>\n",
       "    </tr>\n",
       "  </thead>\n",
       "  <tbody>\n",
       "    <tr>\n",
       "      <th>0</th>\n",
       "      <td>1</td>\n",
       "      <td>1952-03-23</td>\n",
       "      <td>housemaid</td>\n",
       "      <td>married</td>\n",
       "      <td>basic.4y</td>\n",
       "      <td>no</td>\n",
       "      <td>no</td>\n",
       "      <td>no</td>\n",
       "      <td>2008-05-12</td>\n",
       "      <td>telephone</td>\n",
       "      <td>1</td>\n",
       "      <td>999</td>\n",
       "      <td>0</td>\n",
       "      <td>nonexistent</td>\n",
       "      <td>no</td>\n",
       "    </tr>\n",
       "    <tr>\n",
       "      <th>1</th>\n",
       "      <td>2</td>\n",
       "      <td>1951-03-24</td>\n",
       "      <td>services</td>\n",
       "      <td>married</td>\n",
       "      <td>high.school</td>\n",
       "      <td>unknown</td>\n",
       "      <td>no</td>\n",
       "      <td>no</td>\n",
       "      <td>2008-05-26</td>\n",
       "      <td>telephone</td>\n",
       "      <td>1</td>\n",
       "      <td>999</td>\n",
       "      <td>0</td>\n",
       "      <td>nonexistent</td>\n",
       "      <td>unknown</td>\n",
       "    </tr>\n",
       "    <tr>\n",
       "      <th>2</th>\n",
       "      <td>3</td>\n",
       "      <td>1971-05-19</td>\n",
       "      <td>services</td>\n",
       "      <td>married</td>\n",
       "      <td>high.school</td>\n",
       "      <td>no</td>\n",
       "      <td>yes</td>\n",
       "      <td>no</td>\n",
       "      <td>2008-05-05</td>\n",
       "      <td>telephone</td>\n",
       "      <td>1</td>\n",
       "      <td>999</td>\n",
       "      <td>0</td>\n",
       "      <td>nonexistent</td>\n",
       "      <td>no</td>\n",
       "    </tr>\n",
       "    <tr>\n",
       "      <th>3</th>\n",
       "      <td>4</td>\n",
       "      <td>1968-01-24</td>\n",
       "      <td>admin.</td>\n",
       "      <td>married</td>\n",
       "      <td>basic.6y</td>\n",
       "      <td>no</td>\n",
       "      <td>no</td>\n",
       "      <td>no</td>\n",
       "      <td>2008-05-19</td>\n",
       "      <td>telephone</td>\n",
       "      <td>1</td>\n",
       "      <td>999</td>\n",
       "      <td>0</td>\n",
       "      <td>nonexistent</td>\n",
       "      <td>unknown</td>\n",
       "    </tr>\n",
       "    <tr>\n",
       "      <th>4</th>\n",
       "      <td>5</td>\n",
       "      <td>1952-05-11</td>\n",
       "      <td>services</td>\n",
       "      <td>married</td>\n",
       "      <td>high.school</td>\n",
       "      <td>no</td>\n",
       "      <td>no</td>\n",
       "      <td>yes</td>\n",
       "      <td>2008-05-19</td>\n",
       "      <td>telephone</td>\n",
       "      <td>1</td>\n",
       "      <td>999</td>\n",
       "      <td>0</td>\n",
       "      <td>nonexistent</td>\n",
       "      <td>unknown</td>\n",
       "    </tr>\n",
       "  </tbody>\n",
       "</table>\n",
       "</div>"
      ],
      "text/plain": [
       "   id  birth_date        job  marital    education  default housing loan  \\\n",
       "0   1  1952-03-23  housemaid  married     basic.4y       no      no   no   \n",
       "1   2  1951-03-24   services  married  high.school  unknown      no   no   \n",
       "2   3  1971-05-19   services  married  high.school       no     yes   no   \n",
       "3   4  1968-01-24     admin.  married     basic.6y       no      no   no   \n",
       "4   5  1952-05-11   services  married  high.school       no      no  yes   \n",
       "\n",
       "  contact_date    contact  campaign  pdays  previous     poutcome        y  \n",
       "0   2008-05-12  telephone         1    999         0  nonexistent       no  \n",
       "1   2008-05-26  telephone         1    999         0  nonexistent  unknown  \n",
       "2   2008-05-05  telephone         1    999         0  nonexistent       no  \n",
       "3   2008-05-19  telephone         1    999         0  nonexistent  unknown  \n",
       "4   2008-05-19  telephone         1    999         0  nonexistent  unknown  "
      ]
     },
     "execution_count": 29,
     "metadata": {},
     "output_type": "execute_result"
    }
   ],
   "source": [
    "full_dataset.head()"
   ]
  },
  {
   "cell_type": "markdown",
   "metadata": {
    "id": "dkU8yOEBbgyZ"
   },
   "source": [
    "### Data anylysis\n",
    "\n",
    "Ciekawe obserwacje:\n",
    "* Uczniowie i emeryci zakładają stosunkowo więcej lokat niż pozostali, ma to trochę sensu, Ci ludzie nie mają kredytów i losowych wydatków\n",
    "* Osoby w związkach zakładają ciut mniej lokat niż single, możliwe, że wynika także z kredytów/wydatków na dzieci\n",
    "* Jeśli ktoś ma problemy ze spłatą kredytu to raczej nie zakłada lokaty, to może być ważny czynnik\n",
    "* Jeśli kontaktujemy się z kimś przez telefon komórkowy a nie stacjonarny to mamy większą szansę na wzięcie kredytu\n",
    "* Jeśli ktoś wcześniej korzystał z usług banku, to na pewno warto do niego zadzwonić"
   ]
  },
  {
   "cell_type": "code",
   "execution_count": 30,
   "metadata": {
    "colab": {
     "base_uri": "https://localhost:8080/",
     "height": 1000
    },
    "id": "snTkiZXZBpk4",
    "outputId": "cfcbec6a-dc16-4131-f436-69d68101d525"
   },
   "outputs": [
    {
     "data": {
      "image/png": "[encoded data removed]",
      "text/plain": [
       "<Figure size 432x288 with 1 Axes>"
      ]
     },
     "metadata": {},
     "output_type": "display_data"
    },
    {
     "data": {
      "image/png": "[encoded data removed]",
      "text/plain": [
       "<Figure size 432x288 with 1 Axes>"
      ]
     },
     "metadata": {},
     "output_type": "display_data"
    },
    {
     "data": {
      "image/png": "[encoded data removed]",
      "text/plain": [
       "<Figure size 432x288 with 1 Axes>"
      ]
     },
     "metadata": {},
     "output_type": "display_data"
    },
    {
     "data": {
      "image/png": "[encoded data removed]",
      "text/plain": [
       "<Figure size 432x288 with 1 Axes>"
      ]
     },
     "metadata": {},
     "output_type": "display_data"
    },
    {
     "data": {
      "image/png": "[encoded data removed]",
      "text/plain": [
       "<Figure size 432x288 with 1 Axes>"
      ]
     },
     "metadata": {},
     "output_type": "display_data"
    },
    {
     "data": {
      "image/png": "[encoded data removed]",
      "text/plain": [
       "<Figure size 432x288 with 1 Axes>"
      ]
     },
     "metadata": {},
     "output_type": "display_data"
    },
    {
     "data": {
      "image/png": "[encoded data removed]",
      "text/plain": [
       "<Figure size 432x288 with 1 Axes>"
      ]
     },
     "metadata": {},
     "output_type": "display_data"
    },
    {
     "data": {
      "image/png": "[encoded data removed]",
      "text/plain": [
       "<Figure size 432x288 with 1 Axes>"
      ]
     },
     "metadata": {},
     "output_type": "display_data"
    }
   ],
   "source": [
    "data = full_dataset.copy()\n",
    "\n",
    "def plot_bar(column):\n",
    "    df = pd.DataFrame()\n",
    "    df['Nie założył lokaty'] = data[data['y'] == 'no'][column].value_counts()\n",
    "    df['Założył lokatę'] = data[data['y'] == 'yes'][column].value_counts()\n",
    "    df = df.div(df.sum(axis=1), axis=0)\n",
    "    df.plot.bar(title = 'Column ---- {}'.format(column))\n",
    "    plt.show()\n",
    "\n",
    "for feature in ['job', 'marital', 'education', 'default', 'housing', 'loan', 'contact', 'poutcome']:\n",
    "    plot_bar(feature)"
   ]
  },
  {
   "cell_type": "markdown",
   "metadata": {},
   "source": [
    "* Spójrzmy jeszcze na wiek, skoro wcześniej zauważyliśmy że emeryci i studenci częściej biorą kredyty to powinno to się też potwierdzić pod kątem wieku\n",
    "    * I rzeczywiście, potwierdza się:\n",
    "        * Dla osób poniżej 19 roku życia i po 58 wskaźnik wzięcia lokaty jest znacząco wyższy na poziomie >35% podczas gdy dla osób w średnim wieku wynik wacha się w okolicach 10-15%"
   ]
  },
  {
   "cell_type": "code",
   "execution_count": 31,
   "metadata": {
    "colab": {
     "base_uri": "https://localhost:8080/"
    },
    "id": "DS1hnIlrQA0n",
    "outputId": "6ad81219-2342-483f-b697-7c919f2b5665"
   },
   "outputs": [
    {
     "name": "stdout",
     "output_type": "stream",
     "text": [
      "Quantile of 0.002 equals to: 19.0. \n",
      "Score for this group eqauls to: 0.41818181818181815 \n",
      "Group contains of 107 members. \n",
      "\n",
      "Quantile of 0.03 equals to: 24.0. \n",
      "Score for this group eqauls to: 0.1987281399046105 \n",
      "Group contains of 1249 members. \n",
      "\n",
      "Quantile of 0.1 equals to: 28.0. \n",
      "Score for this group eqauls to: 0.1480637813211845 \n",
      "Group contains of 3534 members. \n",
      "\n",
      "Quantile of 0.4 equals to: 35.0. \n",
      "Score for this group eqauls to: 0.10900095754867539 \n",
      "Group contains of 12456 members. \n",
      "\n",
      "Quantile of 0.7 equals to: 45.0. \n",
      "Score for this group eqauls to: 0.0866067203028869 \n",
      "Group contains of 12484 members. \n",
      "\n",
      "Quantile of 0.96 equals to: 58.0. \n",
      "Score for this group eqauls to: 0.09528565721134638 \n",
      "Group contains of 9902 members. \n",
      "\n",
      "Quantile of 1 equals to: 97.0. \n",
      "Score for this group eqauls to: 0.3516042780748663 \n",
      "Group contains of 1456 members. \n",
      "\n"
     ]
    }
   ],
   "source": [
    "data = full_dataset.copy()\n",
    "data['birth_date'] = pd.to_datetime(data['birth_date'])\n",
    "data['contact_date'] = pd.to_datetime(data['contact_date'])\n",
    "age = (data['contact_date'] - data['birth_date']).dt.days // 365\n",
    "\n",
    "l = 0\n",
    "\n",
    "def count_yes_ratio(mask):\n",
    "    data_subset = data[mask]\n",
    "    yes = (data_subset.y == 'yes').sum()\n",
    "    no = (data_subset.y == 'no').sum()\n",
    "    return yes / (yes + no)\n",
    "\n",
    "for idx, quantile in enumerate([0.002, 0.03, 0.1, 0.4, 0.7, 0.96, 1]):\n",
    "    r = int(age.quantile(quantile))\n",
    "    mask = ((age > l) & (age <= r))\n",
    "    score = count_yes_ratio(mask)\n",
    "    print(f'Quantile of {quantile} equals to: {age.quantile(quantile)}. \\n'  \n",
    "            f'Score for this group eqauls to: {score} \\n' + \n",
    "            f'Group contains of {mask.sum()} members. \\n')\n",
    "    l = r"
   ]
  },
  {
   "cell_type": "markdown",
   "metadata": {
    "id": "q9nje3kEY6ds"
   },
   "source": [
    "### Data preprocessing\n",
    "\n",
    "* Pomimo tego, że poniższy data processing jest ogromny, to nie ma tutaj nic specjalnie wartego uwagi\n",
    "* Wyciągnałem kilka featurów z daty kontaktu, takie jak miesiąc, rok, dzień miesiąca i tygodnia\n",
    "* Wyciągnąłem wiek klienta\n",
    "* Zmapowałem kategorie na inty żeby były odpowiednim wejściem do modelu w sposób mniej lub bardziej arbitralny"
   ]
  },
  {
   "cell_type": "code",
   "execution_count": 83,
   "metadata": {
    "id": "JUu__QUGIwAo"
   },
   "outputs": [],
   "source": [
    "data = full_dataset.copy()\n",
    "data['birth_date'] = pd.to_datetime(data['birth_date'])\n",
    "data['contact_date'] = pd.to_datetime(data['contact_date'])\n",
    "\n",
    "def calculate_age(data):\n",
    "    data['age'] = (data['contact_date'] - data['birth_date']).dt.days // 365\n",
    "    data['age'] = pd.qcut(data['age'], 5, labels=False, duplicates = 'drop')\n",
    "    return data\n",
    "\n",
    "data = calculate_age(data)\n",
    "\n",
    "data['contact_year'] = data.contact_date.dt.year\n",
    "data['contact_month'] = data.contact_date.dt.month\n",
    "data['contact_day_of_month'] = data.contact_date.dt.day\n",
    "data['contact_day_of_week'] = data.contact_date.dt.dayofweek\n",
    "\n",
    "data['job_cat'] = data['job'].map({'admin.': 8,\n",
    "                                    'blue-collar': 0,\n",
    "                                    'entrepreneur': 2,\n",
    "                                    'housemaid': 5,\n",
    "                                    'management': 3,\n",
    "                                    'retired': 10,\n",
    "                                    'self-employed': 4,\n",
    "                                    'services': 1,\n",
    "                                    'student': 11,\n",
    "                                    'technician': 6,\n",
    "                                    'unemployed': 9,\n",
    "                                    'unknown': 7}).astype('uint8')\n",
    "\n",
    "data['marital_cat'] = data['marital'].map({'married': 0, 'divorced': 1, 'single': 2, 'unknown': 0}).astype('uint8')\n",
    "\n",
    "data['education_cat'] = data['education'].map({'basic.6y': 0, 'basic.9y': 1, 'basic.4y': 2, 'professional.course': 3, \n",
    "                                               'high.school': 4, 'university.degree': 5, 'illiterate': 6, 'unknown': 4}).astype('uint8')\n",
    "\n",
    "data['default_cat'] = data['default'].map({'no': 0, 'yes': 1, 'unknown': 1}).astype('uint8')\n",
    "\n",
    "data['housing_cat'] = data['housing'].map({'no': 0, 'yes': 1, 'unknown': 1}).astype('uint8')\n",
    "\n",
    "data['loan_cat'] = data['loan'].map({'no': 0, 'yes': 1, 'unknown': 0}).astype('uint8')\n",
    "\n",
    "data['contact_cat'] = data['contact'].map({'telephone': 0, 'cellular': 1}).astype('uint8')\n",
    "\n",
    "data['poutcome_cat'] = data['poutcome'].map({'nonexistent': 0, 'failure': 1, 'success': 2}).astype('uint8')\n",
    "\n",
    "data['some_loan'] = ((data['loan_cat'] == 1) | (data['housing_cat'] == 1) | (data['default_cat'] == 1)).astype('uint8')\n",
    "\n",
    "columns_to_onehot = []\n",
    "data = pd.get_dummies(data, prefix=columns_to_onehot, columns=columns_to_onehot)\n",
    "\n",
    "columns_to_drop = ['id', 'birth_date', 'contact_date'] + ['job', 'marital', 'education', 'default', 'housing', 'loan', 'contact', 'poutcome']\n",
    "data = data.drop(columns_to_drop, axis = 1)\n",
    "\n",
    "np.random.seed(42)\n",
    "\n",
    "train_set = data.copy()[data['y'] != 'unknown']\n",
    "train_set.loc[:, 'y'] = train_set.y.map({'no':0.0, 'yes':1.0}).astype('float')\n",
    "\n",
    "test_set = data.copy()[data['y'] == 'unknown'].drop('y', axis = 1)\n",
    "\n",
    "X = train_set.copy().drop('y', axis = 1)\n",
    "y = train_set.copy()['y'].to_numpy()\n",
    "\n",
    "cv = StratifiedKFold(n_splits=5, shuffle=True, random_state=42)"
   ]
  },
  {
   "cell_type": "markdown",
   "metadata": {},
   "source": [
    "# Spójrzmy na feature importance, może dowiemy się czegoś nowego"
   ]
  },
  {
   "cell_type": "markdown",
   "metadata": {},
   "source": [
    "* Rok kontaktu ma ogromne znaczenie - rzeczywiście dane są z okresu 2008-2010\n",
    "    * 2008 - 0.049353617598742947\n",
    "    * 2009 - 0.19854343679556094\n",
    "    * 2010 - 0.527643064985451\n",
    "    * Albo rolę gra kryzys finansowy, albo bank uczy się na swoich błędach i udoskonala swoje metody\n",
    "* Ogromne znaczenie mają też dane na temat poprzedniej kampanii - pdays i poutcome\n",
    "* Dalej ważne były kategorie o których myśleliśmy na począktu takie jak forma kontaktu, czy problemy ze spłatą kredytu, ponad to jeszcze zatrudnienie\n",
    "* Co ciekawe ważny jest też w tym wszystkim miesiąc kontaktu"
   ]
  },
  {
   "cell_type": "code",
   "execution_count": 33,
   "metadata": {},
   "outputs": [
    {
     "name": "stdout",
     "output_type": "stream",
     "text": [
      "2008 0.049353617598742947\n",
      "2009 0.19854343679556094\n",
      "2010 0.527643064985451\n"
     ]
    }
   ],
   "source": [
    "def count_yes_ratio(mask):\n",
    "    data_subset = data[mask]\n",
    "    yes = (data_subset.y == 'yes').sum()\n",
    "    no = (data_subset.y == 'no').sum()\n",
    "    return yes / (yes + no)\n",
    "\n",
    "for year in range(2008, 2011):\n",
    "    print(year, count_yes_ratio(data['contact_year'] == year))"
   ]
  },
  {
   "cell_type": "markdown",
   "metadata": {},
   "source": [
    "# Praca domowa"
   ]
  },
  {
   "cell_type": "code",
   "execution_count": 99,
   "metadata": {},
   "outputs": [
    {
     "name": "stderr",
     "output_type": "stream",
     "text": [
      "/Users/piotrnawrot/miniconda/envs/xai/lib/python3.7/site-packages/xgboost/sklearn.py:1146: UserWarning:\n",
      "\n",
      "The use of label encoder in XGBClassifier is deprecated and will be removed in a future release. To remove this warning, do the following: 1) Pass option use_label_encoder=False when constructing XGBClassifier object; and 2) Encode your labels (y) as integers starting with 0, i.e. 0, 1, 2, ..., [num_class - 1].\n",
      "\n"
     ]
    },
    {
     "name": "stdout",
     "output_type": "stream",
     "text": [
      "[23:40:13] WARNING: /Users/travis/build/dmlc/xgboost/src/learner.cc:1095: Starting in XGBoost 1.3.0, the default evaluation metric used with the objective 'binary:logistic' was changed from 'error' to 'logloss'. Explicitly set eval_metric if you'd like to restore the old behavior.\n",
      "Preparation of a new explainer is initiated\n",
      "\n",
      "  -> data              : 20799 rows 17 cols\n",
      "  -> target variable   : 20799 values\n",
      "  -> model_class       : xgboost.sklearn.XGBClassifier (default)\n",
      "  -> label             : L Explainer\n",
      "  -> predict function  : <function yhat_proba_default at 0x7f854e479dd0> will be used (default)\n",
      "  -> predict function  : Accepts pandas.DataFrame and numpy.ndarray.\n",
      "  -> predicted values  : min = 6.21e-05, mean = 0.115, max = 0.997\n",
      "  -> model type        : classification will be used (default)\n",
      "  -> residual function : difference between y and yhat (default)\n",
      "  -> residuals         : min = -0.826, mean = -0.000196, max = 0.977\n",
      "  -> model_info        : package xgboost\n",
      "\n",
      "A new explainer has been created!\n"
     ]
    },
    {
     "name": "stderr",
     "output_type": "stream",
     "text": [
      "/Users/piotrnawrot/miniconda/envs/xai/lib/python3.7/site-packages/xgboost/data.py:114: UserWarning:\n",
      "\n",
      "Use subset (sliced data) of np.ndarray is not recommended because it will generate extra copies and increase memory consumption\n",
      "\n"
     ]
    },
    {
     "data": {
      "application/vnd.plotly.v1+json": {
       "config": {
        "displaylogo": false,
        "modeBarButtonsToRemove": [
         "sendDataToCloud",
         "lasso2d",
         "autoScale2d",
         "select2d",
         "zoom2d",
         "pan2d",
         "zoomIn2d",
         "zoomOut2d",
         "resetScale2d",
         "toggleSpikelines",
         "hoverCompareCartesian",
         "hoverClosestCartesian"
        ],
        "plotlyServerURL": "https://plot.ly",
        "staticPlot": false,
        "toImageButtonOptions": {
         "height": null,
         "width": null
        }
       },
       "data": [
        {
         "base": 0.017857142857142794,
         "hoverinfo": "text",
         "hoverlabel": {
          "bgcolor": "rgba(0,0,0,0.8)"
         },
         "hovertext": [
          "Model: L Explainer loss after<br>variable: contact_day_of_month is permuted: 0.404<br>Drop-out loss change: +0.386",
          "Model: L Explainer loss after<br>variable: job_cat is permuted: 0.146<br>Drop-out loss change: +0.128",
          "Model: L Explainer loss after<br>variable: campaign is permuted: 0.134<br>Drop-out loss change: +0.116",
          "Model: L Explainer loss after<br>variable: housing_cat is permuted: 0.101<br>Drop-out loss change: +0.084",
          "Model: L Explainer loss after<br>variable: default_cat is permuted: 0.094<br>Drop-out loss change: +0.076",
          "Model: L Explainer loss after<br>variable: age is permuted: 0.067<br>Drop-out loss change: +0.049",
          "Model: L Explainer loss after<br>variable: marital_cat is permuted: 0.034<br>Drop-out loss change: +0.016",
          "Model: L Explainer loss after<br>variable: education_cat is permuted: 0.033<br>Drop-out loss change: +0.015",
          "Model: L Explainer loss after<br>variable: loan_cat is permuted: 0.03<br>Drop-out loss change: +0.013",
          "Model: L Explainer loss after<br>variable: some_loan is permuted: 0.018<br>Drop-out loss change: +0.0"
         ],
         "marker": {
          "color": "#46bac2"
         },
         "orientation": "h",
         "showlegend": false,
         "text": [
          "+0.386",
          "+0.128",
          "+0.116",
          "+0.084",
          "+0.076",
          "+0.049",
          "+0.016",
          "+0.015",
          "+0.013",
          "+0.0"
         ],
         "textposition": "outside",
         "type": "bar",
         "x": [
          0.38596938775510214,
          0.1281887755102041,
          0.11645408163265311,
          0.08354591836734701,
          0.07627551020408171,
          0.04936224489795925,
          0.015943877551020467,
          0.014668367346938847,
          0.012627551020408256,
          0.00012755102040822378
         ],
         "xaxis": "x",
         "y": [
          "contact_day_of_month",
          "job_cat",
          "campaign",
          "housing_cat",
          "default_cat",
          "age",
          "marital_cat",
          "education_cat",
          "loan_cat",
          "some_loan"
         ],
         "yaxis": "y"
        }
       ],
       "layout": {
        "annotations": [
         {
          "font": {
           "size": 16
          },
          "showarrow": false,
          "text": "L Explainer",
          "x": 0.5,
          "xanchor": "center",
          "xref": "paper",
          "y": 1,
          "yanchor": "bottom",
          "yref": "paper"
         },
         {
          "font": {
           "size": 16
          },
          "showarrow": false,
          "text": "drop-out loss",
          "x": 0.5,
          "xanchor": "center",
          "xref": "paper",
          "y": 0,
          "yanchor": "top",
          "yref": "paper",
          "yshift": -30
         }
        ],
        "font": {
         "color": "#371ea3"
        },
        "height": 383,
        "margin": {
         "b": 71,
         "r": 30,
         "t": 78
        },
        "shapes": [
         {
          "line": {
           "color": "#371ea3",
           "dash": "dot",
           "width": 1.5
          },
          "type": "line",
          "x0": 0.017857142857142794,
          "x1": 0.017857142857142794,
          "xref": "x",
          "y0": -1,
          "y1": 10,
          "yref": "y"
         }
        ],
        "template": {
         "data": {
          "scatter": [
           {
            "type": "scatter"
           }
          ]
         }
        },
        "title": {
         "text": "Variable Importance",
         "x": 0.15
        },
        "xaxis": {
         "anchor": "y",
         "automargin": true,
         "domain": [
          0,
          1
         ],
         "fixedrange": true,
         "gridwidth": 2,
         "range": [
          -0.041358418367346925,
          0.4618941326530613
         ],
         "tickcolor": "white",
         "ticklen": 3,
         "ticks": "outside",
         "type": "linear",
         "zeroline": false
        },
        "yaxis": {
         "anchor": "x",
         "automargin": true,
         "autorange": "reversed",
         "domain": [
          0,
          1
         ],
         "fixedrange": true,
         "gridwidth": 2,
         "tickcolor": "white",
         "ticklen": 10,
         "ticks": "outside",
         "type": "category"
        }
       }
      },
      "text/html": [
       "<div>                            <div id=\"e9ee202d-c0d4-483a-ab93-8a85c832685d\" class=\"plotly-graph-div\" style=\"height:383.0px; width:100%;\"></div>            <script type=\"text/javascript\">                require([\"plotly\"], function(Plotly) {                    window.PLOTLYENV=window.PLOTLYENV || {};                                    if (document.getElementById(\"e9ee202d-c0d4-483a-ab93-8a85c832685d\")) {                    Plotly.newPlot(                        \"e9ee202d-c0d4-483a-ab93-8a85c832685d\",                        [{\"base\": 0.017857142857142794, \"hoverinfo\": \"text\", \"hoverlabel\": {\"bgcolor\": \"rgba(0,0,0,0.8)\"}, \"hovertext\": [\"Model: L Explainer loss after<br>variable: contact_day_of_month is permuted: 0.404<br>Drop-out loss change: +0.386\", \"Model: L Explainer loss after<br>variable: job_cat is permuted: 0.146<br>Drop-out loss change: +0.128\", \"Model: L Explainer loss after<br>variable: campaign is permuted: 0.134<br>Drop-out loss change: +0.116\", \"Model: L Explainer loss after<br>variable: housing_cat is permuted: 0.101<br>Drop-out loss change: +0.084\", \"Model: L Explainer loss after<br>variable: default_cat is permuted: 0.094<br>Drop-out loss change: +0.076\", \"Model: L Explainer loss after<br>variable: age is permuted: 0.067<br>Drop-out loss change: +0.049\", \"Model: L Explainer loss after<br>variable: marital_cat is permuted: 0.034<br>Drop-out loss change: +0.016\", \"Model: L Explainer loss after<br>variable: education_cat is permuted: 0.033<br>Drop-out loss change: +0.015\", \"Model: L Explainer loss after<br>variable: loan_cat is permuted: 0.03<br>Drop-out loss change: +0.013\", \"Model: L Explainer loss after<br>variable: some_loan is permuted: 0.018<br>Drop-out loss change: +0.0\"], \"marker\": {\"color\": \"#46bac2\"}, \"orientation\": \"h\", \"showlegend\": false, \"text\": [\"+0.386\", \"+0.128\", \"+0.116\", \"+0.084\", \"+0.076\", \"+0.049\", \"+0.016\", \"+0.015\", \"+0.013\", \"+0.0\"], \"textposition\": \"outside\", \"type\": \"bar\", \"x\": [0.38596938775510214, 0.1281887755102041, 0.11645408163265311, 0.08354591836734701, 0.07627551020408171, 0.04936224489795925, 0.015943877551020467, 0.014668367346938847, 0.012627551020408256, 0.00012755102040822378], \"xaxis\": \"x\", \"y\": [\"contact_day_of_month\", \"job_cat\", \"campaign\", \"housing_cat\", \"default_cat\", \"age\", \"marital_cat\", \"education_cat\", \"loan_cat\", \"some_loan\"], \"yaxis\": \"y\"}],                        {\"annotations\": [{\"font\": {\"size\": 16}, \"showarrow\": false, \"text\": \"L Explainer\", \"x\": 0.5, \"xanchor\": \"center\", \"xref\": \"paper\", \"y\": 1.0, \"yanchor\": \"bottom\", \"yref\": \"paper\"}, {\"font\": {\"size\": 16}, \"showarrow\": false, \"text\": \"drop-out loss\", \"x\": 0.5, \"xanchor\": \"center\", \"xref\": \"paper\", \"y\": 0, \"yanchor\": \"top\", \"yref\": \"paper\", \"yshift\": -30}], \"font\": {\"color\": \"#371ea3\"}, \"height\": 383.0, \"margin\": {\"b\": 71, \"r\": 30, \"t\": 78}, \"shapes\": [{\"line\": {\"color\": \"#371ea3\", \"dash\": \"dot\", \"width\": 1.5}, \"type\": \"line\", \"x0\": 0.017857142857142794, \"x1\": 0.017857142857142794, \"xref\": \"x\", \"y0\": -1, \"y1\": 10, \"yref\": \"y\"}], \"template\": {\"data\": {\"scatter\": [{\"type\": \"scatter\"}]}}, \"title\": {\"text\": \"Variable Importance\", \"x\": 0.15}, \"xaxis\": {\"anchor\": \"y\", \"automargin\": true, \"domain\": [0.0, 1.0], \"fixedrange\": true, \"gridwidth\": 2, \"range\": [-0.041358418367346925, 0.4618941326530613], \"tickcolor\": \"white\", \"ticklen\": 3, \"ticks\": \"outside\", \"type\": \"linear\", \"zeroline\": false}, \"yaxis\": {\"anchor\": \"x\", \"automargin\": true, \"autorange\": \"reversed\", \"domain\": [0.0, 1.0], \"fixedrange\": true, \"gridwidth\": 2, \"tickcolor\": \"white\", \"ticklen\": 10, \"ticks\": \"outside\", \"type\": \"category\"}},                        {\"displaylogo\": false, \"staticPlot\": false, \"toImageButtonOptions\": {\"height\": null, \"width\": null}, \"modeBarButtonsToRemove\": [\"sendDataToCloud\", \"lasso2d\", \"autoScale2d\", \"select2d\", \"zoom2d\", \"pan2d\", \"zoomIn2d\", \"zoomOut2d\", \"resetScale2d\", \"toggleSpikelines\", \"hoverCompareCartesian\", \"hoverClosestCartesian\"], \"responsive\": true}                    ).then(function(){\n",
       "                            \n",
       "var gd = document.getElementById('e9ee202d-c0d4-483a-ab93-8a85c832685d');\n",
       "var x = new MutationObserver(function (mutations, observer) {{\n",
       "        var display = window.getComputedStyle(gd).display;\n",
       "        if (!display || display === 'none') {{\n",
       "            console.log([gd, 'removed!']);\n",
       "            Plotly.purge(gd);\n",
       "            observer.disconnect();\n",
       "        }}\n",
       "}});\n",
       "\n",
       "// Listen for the removal of the full notebook cells\n",
       "var notebookContainer = gd.closest('#notebook-container');\n",
       "if (notebookContainer) {{\n",
       "    x.observe(notebookContainer, {childList: true});\n",
       "}}\n",
       "\n",
       "// Listen for the clearing of the current output cell\n",
       "var outputEl = gd.closest('.output');\n",
       "if (outputEl) {{\n",
       "    x.observe(outputEl, {childList: true});\n",
       "}}\n",
       "\n",
       "                        })                };                });            </script>        </div>"
      ]
     },
     "metadata": {},
     "output_type": "display_data"
    }
   ],
   "source": [
    "model = XGBClassifier()\n",
    "model.fit(X, y)\n",
    "model_exp = dx.Explainer(model, X, y, label = \"L Explainer\")\n",
    "mp_rf = model_exp.model_parts(type='variable_importance', \n",
    "                              loss_function='1-auc', \n",
    "                              N=200, \n",
    "                              B=10,\n",
    "                              variables=None,\n",
    "                              variable_groups=None, \n",
    "                              processes=1)\n",
    "mp_rf.plot()"
   ]
  },
  {
   "cell_type": "code",
   "execution_count": 100,
   "metadata": {},
   "outputs": [
    {
     "name": "stdout",
     "output_type": "stream",
     "text": [
      "Preparation of a new explainer is initiated\n",
      "\n",
      "  -> data              : 20799 rows 17 cols\n",
      "  -> target variable   : 20799 values\n",
      "  -> model_class       : sklearn.ensemble._forest.RandomForestClassifier (default)\n",
      "  -> label             : L Explainer\n",
      "  -> predict function  : <function yhat_proba_default at 0x7f854e479dd0> will be used (default)\n",
      "  -> predict function  : Accepts pandas.DataFrame and numpy.ndarray.\n",
      "  -> predicted values  : min = 0.0, mean = 0.117, max = 1.0\n",
      "  -> model type        : classification will be used (default)\n",
      "  -> residual function : difference between y and yhat (default)\n",
      "  -> residuals         : min = -0.576, mean = -0.00268, max = 0.766\n",
      "  -> model_info        : package sklearn\n",
      "\n",
      "A new explainer has been created!\n"
     ]
    },
    {
     "data": {
      "application/vnd.plotly.v1+json": {
       "config": {
        "displaylogo": false,
        "modeBarButtonsToRemove": [
         "sendDataToCloud",
         "lasso2d",
         "autoScale2d",
         "select2d",
         "zoom2d",
         "pan2d",
         "zoomIn2d",
         "zoomOut2d",
         "resetScale2d",
         "toggleSpikelines",
         "hoverCompareCartesian",
         "hoverClosestCartesian"
        ],
        "plotlyServerURL": "https://plot.ly",
        "staticPlot": false,
        "toImageButtonOptions": {
         "height": null,
         "width": null
        }
       },
       "data": [
        {
         "base": 6.499043506869029e-05,
         "hoverinfo": "text",
         "hoverlabel": {
          "bgcolor": "rgba(0,0,0,0.8)"
         },
         "hovertext": [
          "Model: L Explainer loss after<br>variable: contact_year is permuted: 0.088<br>Drop-out loss change: +0.088",
          "Model: L Explainer loss after<br>variable: contact_month is permuted: 0.044<br>Drop-out loss change: +0.044",
          "Model: L Explainer loss after<br>variable: contact_day_of_month is permuted: 0.037<br>Drop-out loss change: +0.037",
          "Model: L Explainer loss after<br>variable: job_cat is permuted: 0.036<br>Drop-out loss change: +0.036",
          "Model: L Explainer loss after<br>variable: age is permuted: 0.03<br>Drop-out loss change: +0.03",
          "Model: L Explainer loss after<br>variable: campaign is permuted: 0.023<br>Drop-out loss change: +0.023",
          "Model: L Explainer loss after<br>variable: education_cat is permuted: 0.02<br>Drop-out loss change: +0.02",
          "Model: L Explainer loss after<br>variable: contact_day_of_week is permuted: 0.019<br>Drop-out loss change: +0.019",
          "Model: L Explainer loss after<br>variable: marital_cat is permuted: 0.012<br>Drop-out loss change: +0.012",
          "Model: L Explainer loss after<br>variable: contact_cat is permuted: 0.012<br>Drop-out loss change: +0.012"
         ],
         "marker": {
          "color": "#46bac2"
         },
         "orientation": "h",
         "showlegend": false,
         "text": [
          "+0.088",
          "+0.044",
          "+0.037",
          "+0.036",
          "+0.03",
          "+0.023",
          "+0.02",
          "+0.019",
          "+0.012",
          "+0.012"
         ],
         "textposition": "outside",
         "type": "bar",
         "x": [
          0.08758180149197412,
          0.044188048420953606,
          0.03658901955917817,
          0.03592649579512562,
          0.029578839625322918,
          0.02316500909501098,
          0.02037087890153614,
          0.019080026060046627,
          0.01226263207384034,
          0.012242243007197917
         ],
         "xaxis": "x",
         "y": [
          "contact_year",
          "contact_month",
          "contact_day_of_month",
          "job_cat",
          "age",
          "campaign",
          "education_cat",
          "contact_day_of_week",
          "marital_cat",
          "contact_cat"
         ],
         "yaxis": "y"
        }
       ],
       "layout": {
        "annotations": [
         {
          "font": {
           "size": 16
          },
          "showarrow": false,
          "text": "L Explainer",
          "x": 0.5,
          "xanchor": "center",
          "xref": "paper",
          "y": 1,
          "yanchor": "bottom",
          "yref": "paper"
         },
         {
          "font": {
           "size": 16
          },
          "showarrow": false,
          "text": "drop-out loss",
          "x": 0.5,
          "xanchor": "center",
          "xref": "paper",
          "y": 0,
          "yanchor": "top",
          "yref": "paper",
          "yshift": -30
         }
        ],
        "font": {
         "color": "#371ea3"
        },
        "height": 383,
        "margin": {
         "b": 71,
         "r": 30,
         "t": 78
        },
        "shapes": [
         {
          "line": {
           "color": "#371ea3",
           "dash": "dot",
           "width": 1.5
          },
          "type": "line",
          "x0": 6.499043506869029e-05,
          "x1": 6.499043506869029e-05,
          "xref": "x",
          "y0": -1,
          "y1": 10,
          "yref": "y"
         }
        ],
        "template": {
         "data": {
          "scatter": [
           {
            "type": "scatter"
           }
          ]
         }
        },
        "title": {
         "text": "Variable Importance",
         "x": 0.15
        },
        "xaxis": {
         "anchor": "y",
         "automargin": true,
         "domain": [
          0,
          1
         ],
         "fixedrange": true,
         "gridwidth": 2,
         "range": [
          -0.013072279788727426,
          0.10078406215083892
         ],
         "tickcolor": "white",
         "ticklen": 3,
         "ticks": "outside",
         "type": "linear",
         "zeroline": false
        },
        "yaxis": {
         "anchor": "x",
         "automargin": true,
         "autorange": "reversed",
         "domain": [
          0,
          1
         ],
         "fixedrange": true,
         "gridwidth": 2,
         "tickcolor": "white",
         "ticklen": 10,
         "ticks": "outside",
         "type": "category"
        }
       }
      },
      "text/html": [
       "<div>                            <div id=\"377c305e-a8cc-4e96-83a4-1514eb4094e1\" class=\"plotly-graph-div\" style=\"height:383.0px; width:100%;\"></div>            <script type=\"text/javascript\">                require([\"plotly\"], function(Plotly) {                    window.PLOTLYENV=window.PLOTLYENV || {};                                    if (document.getElementById(\"377c305e-a8cc-4e96-83a4-1514eb4094e1\")) {                    Plotly.newPlot(                        \"377c305e-a8cc-4e96-83a4-1514eb4094e1\",                        [{\"base\": 6.499043506869029e-05, \"hoverinfo\": \"text\", \"hoverlabel\": {\"bgcolor\": \"rgba(0,0,0,0.8)\"}, \"hovertext\": [\"Model: L Explainer loss after<br>variable: contact_year is permuted: 0.088<br>Drop-out loss change: +0.088\", \"Model: L Explainer loss after<br>variable: contact_month is permuted: 0.044<br>Drop-out loss change: +0.044\", \"Model: L Explainer loss after<br>variable: contact_day_of_month is permuted: 0.037<br>Drop-out loss change: +0.037\", \"Model: L Explainer loss after<br>variable: job_cat is permuted: 0.036<br>Drop-out loss change: +0.036\", \"Model: L Explainer loss after<br>variable: age is permuted: 0.03<br>Drop-out loss change: +0.03\", \"Model: L Explainer loss after<br>variable: campaign is permuted: 0.023<br>Drop-out loss change: +0.023\", \"Model: L Explainer loss after<br>variable: education_cat is permuted: 0.02<br>Drop-out loss change: +0.02\", \"Model: L Explainer loss after<br>variable: contact_day_of_week is permuted: 0.019<br>Drop-out loss change: +0.019\", \"Model: L Explainer loss after<br>variable: marital_cat is permuted: 0.012<br>Drop-out loss change: +0.012\", \"Model: L Explainer loss after<br>variable: contact_cat is permuted: 0.012<br>Drop-out loss change: +0.012\"], \"marker\": {\"color\": \"#46bac2\"}, \"orientation\": \"h\", \"showlegend\": false, \"text\": [\"+0.088\", \"+0.044\", \"+0.037\", \"+0.036\", \"+0.03\", \"+0.023\", \"+0.02\", \"+0.019\", \"+0.012\", \"+0.012\"], \"textposition\": \"outside\", \"type\": \"bar\", \"x\": [0.08758180149197412, 0.044188048420953606, 0.03658901955917817, 0.03592649579512562, 0.029578839625322918, 0.02316500909501098, 0.02037087890153614, 0.019080026060046627, 0.01226263207384034, 0.012242243007197917], \"xaxis\": \"x\", \"y\": [\"contact_year\", \"contact_month\", \"contact_day_of_month\", \"job_cat\", \"age\", \"campaign\", \"education_cat\", \"contact_day_of_week\", \"marital_cat\", \"contact_cat\"], \"yaxis\": \"y\"}],                        {\"annotations\": [{\"font\": {\"size\": 16}, \"showarrow\": false, \"text\": \"L Explainer\", \"x\": 0.5, \"xanchor\": \"center\", \"xref\": \"paper\", \"y\": 1.0, \"yanchor\": \"bottom\", \"yref\": \"paper\"}, {\"font\": {\"size\": 16}, \"showarrow\": false, \"text\": \"drop-out loss\", \"x\": 0.5, \"xanchor\": \"center\", \"xref\": \"paper\", \"y\": 0, \"yanchor\": \"top\", \"yref\": \"paper\", \"yshift\": -30}], \"font\": {\"color\": \"#371ea3\"}, \"height\": 383.0, \"margin\": {\"b\": 71, \"r\": 30, \"t\": 78}, \"shapes\": [{\"line\": {\"color\": \"#371ea3\", \"dash\": \"dot\", \"width\": 1.5}, \"type\": \"line\", \"x0\": 6.499043506869029e-05, \"x1\": 6.499043506869029e-05, \"xref\": \"x\", \"y0\": -1, \"y1\": 10, \"yref\": \"y\"}], \"template\": {\"data\": {\"scatter\": [{\"type\": \"scatter\"}]}}, \"title\": {\"text\": \"Variable Importance\", \"x\": 0.15}, \"xaxis\": {\"anchor\": \"y\", \"automargin\": true, \"domain\": [0.0, 1.0], \"fixedrange\": true, \"gridwidth\": 2, \"range\": [-0.013072279788727426, 0.10078406215083892], \"tickcolor\": \"white\", \"ticklen\": 3, \"ticks\": \"outside\", \"type\": \"linear\", \"zeroline\": false}, \"yaxis\": {\"anchor\": \"x\", \"automargin\": true, \"autorange\": \"reversed\", \"domain\": [0.0, 1.0], \"fixedrange\": true, \"gridwidth\": 2, \"tickcolor\": \"white\", \"ticklen\": 10, \"ticks\": \"outside\", \"type\": \"category\"}},                        {\"displaylogo\": false, \"staticPlot\": false, \"toImageButtonOptions\": {\"height\": null, \"width\": null}, \"modeBarButtonsToRemove\": [\"sendDataToCloud\", \"lasso2d\", \"autoScale2d\", \"select2d\", \"zoom2d\", \"pan2d\", \"zoomIn2d\", \"zoomOut2d\", \"resetScale2d\", \"toggleSpikelines\", \"hoverCompareCartesian\", \"hoverClosestCartesian\"], \"responsive\": true}                    ).then(function(){\n",
       "                            \n",
       "var gd = document.getElementById('377c305e-a8cc-4e96-83a4-1514eb4094e1');\n",
       "var x = new MutationObserver(function (mutations, observer) {{\n",
       "        var display = window.getComputedStyle(gd).display;\n",
       "        if (!display || display === 'none') {{\n",
       "            console.log([gd, 'removed!']);\n",
       "            Plotly.purge(gd);\n",
       "            observer.disconnect();\n",
       "        }}\n",
       "}});\n",
       "\n",
       "// Listen for the removal of the full notebook cells\n",
       "var notebookContainer = gd.closest('#notebook-container');\n",
       "if (notebookContainer) {{\n",
       "    x.observe(notebookContainer, {childList: true});\n",
       "}}\n",
       "\n",
       "// Listen for the clearing of the current output cell\n",
       "var outputEl = gd.closest('.output');\n",
       "if (outputEl) {{\n",
       "    x.observe(outputEl, {childList: true});\n",
       "}}\n",
       "\n",
       "                        })                };                });            </script>        </div>"
      ]
     },
     "metadata": {},
     "output_type": "display_data"
    }
   ],
   "source": [
    "model = RandomForestClassifier()\n",
    "model.fit(X, y)\n",
    "model_exp = dx.Explainer(model, X, y, label = \"L Explainer\")\n",
    "mp_rf = model_exp.model_parts(type='variable_importance', \n",
    "                              loss_function='1-auc', \n",
    "                              N=None, \n",
    "                              B=10,\n",
    "                              variables=None,\n",
    "                              variable_groups=None, \n",
    "                              processes=1)\n",
    "mp_rf.plot()"
   ]
  },
  {
   "cell_type": "code",
   "execution_count": 62,
   "metadata": {},
   "outputs": [
    {
     "name": "stdout",
     "output_type": "stream",
     "text": [
      "Preparation of a new explainer is initiated\n",
      "\n",
      "  -> data              : 20799 rows 17 cols\n",
      "  -> target variable   : 20799 values\n",
      "  -> model_class       : sklearn.ensemble._forest.RandomForestClassifier (default)\n",
      "  -> label             : RF Explainer\n",
      "  -> predict function  : <function yhat_proba_default at 0x7f854e479dd0> will be used (default)\n",
      "  -> predict function  : Accepts pandas.DataFrame and numpy.ndarray.\n",
      "  -> predicted values  : min = 0.0672, mean = 0.115, max = 0.603\n",
      "  -> model type        : classification will be used (default)\n",
      "  -> residual function : difference between y and yhat (default)\n",
      "  -> residuals         : min = -0.598, mean = -0.000195, max = 0.932\n",
      "  -> model_info        : package sklearn\n",
      "\n",
      "A new explainer has been created!\n"
     ]
    },
    {
     "data": {
      "application/vnd.plotly.v1+json": {
       "config": {
        "displaylogo": false,
        "modeBarButtonsToRemove": [
         "sendDataToCloud",
         "lasso2d",
         "autoScale2d",
         "select2d",
         "zoom2d",
         "pan2d",
         "zoomIn2d",
         "zoomOut2d",
         "resetScale2d",
         "toggleSpikelines",
         "hoverCompareCartesian",
         "hoverClosestCartesian"
        ],
        "plotlyServerURL": "https://plot.ly",
        "staticPlot": false,
        "toImageButtonOptions": {
         "height": null,
         "width": null
        }
       },
       "data": [
        {
         "base": 0.2248053366522786,
         "hoverinfo": "text",
         "hoverlabel": {
          "bgcolor": "rgba(0,0,0,0.8)"
         },
         "hovertext": [
          "Model: RF Explainer loss after<br>variable: contact_year is permuted: 0.319<br>Drop-out loss change: +0.095",
          "Model: RF Explainer loss after<br>variable: pdays is permuted: 0.238<br>Drop-out loss change: +0.013",
          "Model: RF Explainer loss after<br>variable: contact_cat is permuted: 0.236<br>Drop-out loss change: +0.011",
          "Model: RF Explainer loss after<br>variable: poutcome_cat is permuted: 0.235<br>Drop-out loss change: +0.01",
          "Model: RF Explainer loss after<br>variable: contact_month is permuted: 0.23<br>Drop-out loss change: +0.005",
          "Model: RF Explainer loss after<br>variable: default_cat is permuted: 0.23<br>Drop-out loss change: +0.005",
          "Model: RF Explainer loss after<br>variable: job_cat is permuted: 0.229<br>Drop-out loss change: +0.004",
          "Model: RF Explainer loss after<br>variable: previous is permuted: 0.227<br>Drop-out loss change: +0.003",
          "Model: RF Explainer loss after<br>variable: age is permuted: 0.226<br>Drop-out loss change: +0.002",
          "Model: RF Explainer loss after<br>variable: campaign is permuted: 0.226<br>Drop-out loss change: +0.001"
         ],
         "marker": {
          "color": "#46bac2"
         },
         "orientation": "h",
         "showlegend": false,
         "text": [
          "+0.095",
          "+0.013",
          "+0.011",
          "+0.01",
          "+0.005",
          "+0.005",
          "+0.004",
          "+0.003",
          "+0.002",
          "+0.001"
         ],
         "textposition": "outside",
         "type": "bar",
         "x": [
          0.09461905431046952,
          0.012992810675494515,
          0.011232311264263578,
          0.01040774711535089,
          0.0052203949064288935,
          0.005010903976118919,
          0.004436437803309601,
          0.0025733908308966658,
          0.0015803237522817593,
          0.0011358338872765883
         ],
         "xaxis": "x",
         "y": [
          "contact_year",
          "pdays",
          "contact_cat",
          "poutcome_cat",
          "contact_month",
          "default_cat",
          "job_cat",
          "previous",
          "age",
          "campaign"
         ],
         "yaxis": "y"
        }
       ],
       "layout": {
        "annotations": [
         {
          "font": {
           "size": 16
          },
          "showarrow": false,
          "text": "RF Explainer",
          "x": 0.5,
          "xanchor": "center",
          "xref": "paper",
          "y": 1,
          "yanchor": "bottom",
          "yref": "paper"
         },
         {
          "font": {
           "size": 16
          },
          "showarrow": false,
          "text": "drop-out loss",
          "x": 0.5,
          "xanchor": "center",
          "xref": "paper",
          "y": 0,
          "yanchor": "top",
          "yref": "paper",
          "yshift": -30
         }
        ],
        "font": {
         "color": "#371ea3"
        },
        "height": 383,
        "margin": {
         "b": 71,
         "r": 30,
         "t": 78
        },
        "shapes": [
         {
          "line": {
           "color": "#371ea3",
           "dash": "dot",
           "width": 1.5
          },
          "type": "line",
          "x0": 0.2248053366522786,
          "x1": 0.2248053366522786,
          "xref": "x",
          "y0": -1,
          "y1": 10,
          "yref": "y"
         }
        ],
        "template": {
         "data": {
          "scatter": [
           {
            "type": "scatter"
           }
          ]
         }
        },
        "title": {
         "text": "Variable Importance",
         "x": 0.15
        },
        "xaxis": {
         "anchor": "y",
         "automargin": true,
         "domain": [
          0,
          1
         ],
         "fixedrange": true,
         "gridwidth": 2,
         "range": [
          0.21061207713445335,
          0.3336173014620909
         ],
         "tickcolor": "white",
         "ticklen": 3,
         "ticks": "outside",
         "type": "linear",
         "zeroline": false
        },
        "yaxis": {
         "anchor": "x",
         "automargin": true,
         "autorange": "reversed",
         "domain": [
          0,
          1
         ],
         "fixedrange": true,
         "gridwidth": 2,
         "tickcolor": "white",
         "ticklen": 10,
         "ticks": "outside",
         "type": "category"
        }
       }
      },
      "text/html": [
       "<div>                            <div id=\"7fe31c86-c161-443f-b110-35aab3bf215e\" class=\"plotly-graph-div\" style=\"height:383.0px; width:100%;\"></div>            <script type=\"text/javascript\">                require([\"plotly\"], function(Plotly) {                    window.PLOTLYENV=window.PLOTLYENV || {};                                    if (document.getElementById(\"7fe31c86-c161-443f-b110-35aab3bf215e\")) {                    Plotly.newPlot(                        \"7fe31c86-c161-443f-b110-35aab3bf215e\",                        [{\"base\": 0.2248053366522786, \"hoverinfo\": \"text\", \"hoverlabel\": {\"bgcolor\": \"rgba(0,0,0,0.8)\"}, \"hovertext\": [\"Model: RF Explainer loss after<br>variable: contact_year is permuted: 0.319<br>Drop-out loss change: +0.095\", \"Model: RF Explainer loss after<br>variable: pdays is permuted: 0.238<br>Drop-out loss change: +0.013\", \"Model: RF Explainer loss after<br>variable: contact_cat is permuted: 0.236<br>Drop-out loss change: +0.011\", \"Model: RF Explainer loss after<br>variable: poutcome_cat is permuted: 0.235<br>Drop-out loss change: +0.01\", \"Model: RF Explainer loss after<br>variable: contact_month is permuted: 0.23<br>Drop-out loss change: +0.005\", \"Model: RF Explainer loss after<br>variable: default_cat is permuted: 0.23<br>Drop-out loss change: +0.005\", \"Model: RF Explainer loss after<br>variable: job_cat is permuted: 0.229<br>Drop-out loss change: +0.004\", \"Model: RF Explainer loss after<br>variable: previous is permuted: 0.227<br>Drop-out loss change: +0.003\", \"Model: RF Explainer loss after<br>variable: age is permuted: 0.226<br>Drop-out loss change: +0.002\", \"Model: RF Explainer loss after<br>variable: campaign is permuted: 0.226<br>Drop-out loss change: +0.001\"], \"marker\": {\"color\": \"#46bac2\"}, \"orientation\": \"h\", \"showlegend\": false, \"text\": [\"+0.095\", \"+0.013\", \"+0.011\", \"+0.01\", \"+0.005\", \"+0.005\", \"+0.004\", \"+0.003\", \"+0.002\", \"+0.001\"], \"textposition\": \"outside\", \"type\": \"bar\", \"x\": [0.09461905431046952, 0.012992810675494515, 0.011232311264263578, 0.01040774711535089, 0.0052203949064288935, 0.005010903976118919, 0.004436437803309601, 0.0025733908308966658, 0.0015803237522817593, 0.0011358338872765883], \"xaxis\": \"x\", \"y\": [\"contact_year\", \"pdays\", \"contact_cat\", \"poutcome_cat\", \"contact_month\", \"default_cat\", \"job_cat\", \"previous\", \"age\", \"campaign\"], \"yaxis\": \"y\"}],                        {\"annotations\": [{\"font\": {\"size\": 16}, \"showarrow\": false, \"text\": \"RF Explainer\", \"x\": 0.5, \"xanchor\": \"center\", \"xref\": \"paper\", \"y\": 1.0, \"yanchor\": \"bottom\", \"yref\": \"paper\"}, {\"font\": {\"size\": 16}, \"showarrow\": false, \"text\": \"drop-out loss\", \"x\": 0.5, \"xanchor\": \"center\", \"xref\": \"paper\", \"y\": 0, \"yanchor\": \"top\", \"yref\": \"paper\", \"yshift\": -30}], \"font\": {\"color\": \"#371ea3\"}, \"height\": 383.0, \"margin\": {\"b\": 71, \"r\": 30, \"t\": 78}, \"shapes\": [{\"line\": {\"color\": \"#371ea3\", \"dash\": \"dot\", \"width\": 1.5}, \"type\": \"line\", \"x0\": 0.2248053366522786, \"x1\": 0.2248053366522786, \"xref\": \"x\", \"y0\": -1, \"y1\": 10, \"yref\": \"y\"}], \"template\": {\"data\": {\"scatter\": [{\"type\": \"scatter\"}]}}, \"title\": {\"text\": \"Variable Importance\", \"x\": 0.15}, \"xaxis\": {\"anchor\": \"y\", \"automargin\": true, \"domain\": [0.0, 1.0], \"fixedrange\": true, \"gridwidth\": 2, \"range\": [0.21061207713445335, 0.3336173014620909], \"tickcolor\": \"white\", \"ticklen\": 3, \"ticks\": \"outside\", \"type\": \"linear\", \"zeroline\": false}, \"yaxis\": {\"anchor\": \"x\", \"automargin\": true, \"autorange\": \"reversed\", \"domain\": [0.0, 1.0], \"fixedrange\": true, \"gridwidth\": 2, \"tickcolor\": \"white\", \"ticklen\": 10, \"ticks\": \"outside\", \"type\": \"category\"}},                        {\"displaylogo\": false, \"staticPlot\": false, \"toImageButtonOptions\": {\"height\": null, \"width\": null}, \"modeBarButtonsToRemove\": [\"sendDataToCloud\", \"lasso2d\", \"autoScale2d\", \"select2d\", \"zoom2d\", \"pan2d\", \"zoomIn2d\", \"zoomOut2d\", \"resetScale2d\", \"toggleSpikelines\", \"hoverCompareCartesian\", \"hoverClosestCartesian\"], \"responsive\": true}                    ).then(function(){\n",
       "                            \n",
       "var gd = document.getElementById('7fe31c86-c161-443f-b110-35aab3bf215e');\n",
       "var x = new MutationObserver(function (mutations, observer) {{\n",
       "        var display = window.getComputedStyle(gd).display;\n",
       "        if (!display || display === 'none') {{\n",
       "            console.log([gd, 'removed!']);\n",
       "            Plotly.purge(gd);\n",
       "            observer.disconnect();\n",
       "        }}\n",
       "}});\n",
       "\n",
       "// Listen for the removal of the full notebook cells\n",
       "var notebookContainer = gd.closest('#notebook-container');\n",
       "if (notebookContainer) {{\n",
       "    x.observe(notebookContainer, {childList: true});\n",
       "}}\n",
       "\n",
       "// Listen for the clearing of the current output cell\n",
       "var outputEl = gd.closest('.output');\n",
       "if (outputEl) {{\n",
       "    x.observe(outputEl, {childList: true});\n",
       "}}\n",
       "\n",
       "                        })                };                });            </script>        </div>"
      ]
     },
     "metadata": {},
     "output_type": "display_data"
    }
   ],
   "source": [
    "model = RandomForestClassifier(max_depth=2)\n",
    "model.fit(X, y)\n",
    "model_exp = dx.Explainer(model, X, y, label = \"RF Explainer\")\n",
    "mp_rf = model_exp.model_parts(type='variable_importance', \n",
    "                              loss_function='1-auc', \n",
    "                              N=None, \n",
    "                              B=10,\n",
    "                              variables=None,\n",
    "                              variable_groups=None, \n",
    "                              processes=6)\n",
    "mp_rf.plot()"
   ]
  },
  {
   "cell_type": "code",
   "execution_count": 63,
   "metadata": {},
   "outputs": [
    {
     "name": "stdout",
     "output_type": "stream",
     "text": [
      "Cross validation score with 5 stratified folds is eval to 0.7725187158346656\n"
     ]
    }
   ],
   "source": [
    "print('Cross validation score with 5 stratified folds is eval to {}'.format(cross_val_score(RandomForestClassifier(max_depth=2), X, y, scoring='roc_auc', cv=cv).mean()))"
   ]
  },
  {
   "cell_type": "code",
   "execution_count": 64,
   "metadata": {},
   "outputs": [
    {
     "name": "stdout",
     "output_type": "stream",
     "text": [
      "Cross validation score with 5 stratified folds is eval to 0.7671315929507612\n"
     ]
    }
   ],
   "source": [
    "print('Cross validation score with 5 stratified folds is eval to {}'.format(cross_val_score(RandomForestClassifier(), X, y, scoring='roc_auc', cv=cv).mean()))"
   ]
  },
  {
   "cell_type": "code",
   "execution_count": 101,
   "metadata": {},
   "outputs": [
    {
     "name": "stdout",
     "output_type": "stream",
     "text": [
      "Preparation of a new explainer is initiated\n",
      "\n",
      "  -> data              : 20799 rows 17 cols\n",
      "  -> target variable   : 20799 values\n",
      "  -> model_class       : sklearn.ensemble._forest.RandomForestClassifier (default)\n",
      "  -> label             : RF Explainer\n",
      "  -> predict function  : <function yhat_proba_default at 0x7f854e479dd0> will be used (default)\n",
      "  -> predict function  : Accepts pandas.DataFrame and numpy.ndarray.\n",
      "  -> predicted values  : min = 0.0, mean = 0.117, max = 1.0\n",
      "  -> model type        : classification will be used (default)\n",
      "  -> residual function : difference between y and yhat (default)\n",
      "  -> residuals         : min = -0.577, mean = -0.0022, max = 0.802\n",
      "  -> model_info        : package sklearn\n",
      "\n",
      "A new explainer has been created!\n"
     ]
    },
    {
     "data": {
      "application/vnd.plotly.v1+json": {
       "config": {
        "displaylogo": false,
        "modeBarButtonsToRemove": [
         "sendDataToCloud",
         "lasso2d",
         "autoScale2d",
         "select2d",
         "zoom2d",
         "pan2d",
         "zoomIn2d",
         "zoomOut2d",
         "resetScale2d",
         "toggleSpikelines",
         "hoverCompareCartesian",
         "hoverClosestCartesian"
        ],
        "plotlyServerURL": "https://plot.ly",
        "staticPlot": false,
        "toImageButtonOptions": {
         "height": null,
         "width": null
        }
       },
       "data": [
        {
         "base": 0.012982633241141125,
         "hoverinfo": "text",
         "hoverlabel": {
          "bgcolor": "rgba(0,0,0,0.8)"
         },
         "hovertext": [
          "Model: RF Explainer loss after<br>variable: time is permuted: 0.102<br>Drop-out loss change: +0.089",
          "Model: RF Explainer loss after<br>variable: job_education is permuted: 0.06<br>Drop-out loss change: +0.047",
          "Model: RF Explainer loss after<br>variable: personal_status is permuted: 0.053<br>Drop-out loss change: +0.04",
          "Model: RF Explainer loss after<br>variable: previous_campaign is permuted: 0.052<br>Drop-out loss change: +0.039",
          "Model: RF Explainer loss after<br>variable: current_default_information is permuted: 0.048<br>Drop-out loss change: +0.035",
          "Model: RF Explainer loss after<br>variable: contact_details is permuted: 0.034<br>Drop-out loss change: +0.021"
         ],
         "marker": {
          "color": "#46bac2"
         },
         "orientation": "h",
         "showlegend": false,
         "text": [
          "+0.089",
          "+0.047",
          "+0.04",
          "+0.039",
          "+0.035",
          "+0.021"
         ],
         "textposition": "outside",
         "type": "bar",
         "x": [
          0.08893514766893233,
          0.04669919990918886,
          0.0397565805240989,
          0.03896550391728808,
          0.03466947290352039,
          0.021148375833391655
         ],
         "xaxis": "x",
         "y": [
          "time",
          "job_education",
          "personal_status",
          "previous_campaign",
          "current_default_information",
          "contact_details"
         ],
         "yaxis": "y"
        }
       ],
       "layout": {
        "annotations": [
         {
          "font": {
           "size": 16
          },
          "showarrow": false,
          "text": "RF Explainer",
          "x": 0.5,
          "xanchor": "center",
          "xref": "paper",
          "y": 1,
          "yanchor": "bottom",
          "yref": "paper"
         },
         {
          "font": {
           "size": 16
          },
          "showarrow": false,
          "text": "drop-out loss",
          "x": 0.5,
          "xanchor": "center",
          "xref": "paper",
          "y": 0,
          "yanchor": "top",
          "yref": "paper",
          "yshift": -30
         }
        ],
        "font": {
         "color": "#371ea3"
        },
        "height": 303,
        "margin": {
         "b": 71,
         "r": 30,
         "t": 78
        },
        "shapes": [
         {
          "line": {
           "color": "#371ea3",
           "dash": "dot",
           "width": 1.5
          },
          "type": "line",
          "x0": 0.012982633241141125,
          "x1": 0.012982633241141125,
          "xref": "x",
          "y0": -1,
          "y1": 6,
          "yref": "y"
         }
        ],
        "template": {
         "data": {
          "scatter": [
           {
            "type": "scatter"
           }
          ]
         }
        },
        "title": {
         "text": "Variable Importance",
         "x": 0.15
        },
        "xaxis": {
         "anchor": "y",
         "automargin": true,
         "domain": [
          0,
          1
         ],
         "fixedrange": true,
         "gridwidth": 2,
         "range": [
          -0.0003576389091987254,
          0.11525805306041331
         ],
         "tickcolor": "white",
         "ticklen": 3,
         "ticks": "outside",
         "type": "linear",
         "zeroline": false
        },
        "yaxis": {
         "anchor": "x",
         "automargin": true,
         "autorange": "reversed",
         "domain": [
          0,
          1
         ],
         "fixedrange": true,
         "gridwidth": 2,
         "tickcolor": "white",
         "ticklen": 10,
         "ticks": "outside",
         "type": "category"
        }
       }
      },
      "text/html": [
       "<div>                            <div id=\"e3b36eb7-7219-4b1f-bba5-5fd163da68b2\" class=\"plotly-graph-div\" style=\"height:303.0px; width:100%;\"></div>            <script type=\"text/javascript\">                require([\"plotly\"], function(Plotly) {                    window.PLOTLYENV=window.PLOTLYENV || {};                                    if (document.getElementById(\"e3b36eb7-7219-4b1f-bba5-5fd163da68b2\")) {                    Plotly.newPlot(                        \"e3b36eb7-7219-4b1f-bba5-5fd163da68b2\",                        [{\"base\": 0.012982633241141125, \"hoverinfo\": \"text\", \"hoverlabel\": {\"bgcolor\": \"rgba(0,0,0,0.8)\"}, \"hovertext\": [\"Model: RF Explainer loss after<br>variable: time is permuted: 0.102<br>Drop-out loss change: +0.089\", \"Model: RF Explainer loss after<br>variable: job_education is permuted: 0.06<br>Drop-out loss change: +0.047\", \"Model: RF Explainer loss after<br>variable: personal_status is permuted: 0.053<br>Drop-out loss change: +0.04\", \"Model: RF Explainer loss after<br>variable: previous_campaign is permuted: 0.052<br>Drop-out loss change: +0.039\", \"Model: RF Explainer loss after<br>variable: current_default_information is permuted: 0.048<br>Drop-out loss change: +0.035\", \"Model: RF Explainer loss after<br>variable: contact_details is permuted: 0.034<br>Drop-out loss change: +0.021\"], \"marker\": {\"color\": \"#46bac2\"}, \"orientation\": \"h\", \"showlegend\": false, \"text\": [\"+0.089\", \"+0.047\", \"+0.04\", \"+0.039\", \"+0.035\", \"+0.021\"], \"textposition\": \"outside\", \"type\": \"bar\", \"x\": [0.08893514766893233, 0.04669919990918886, 0.0397565805240989, 0.03896550391728808, 0.03466947290352039, 0.021148375833391655], \"xaxis\": \"x\", \"y\": [\"time\", \"job_education\", \"personal_status\", \"previous_campaign\", \"current_default_information\", \"contact_details\"], \"yaxis\": \"y\"}],                        {\"annotations\": [{\"font\": {\"size\": 16}, \"showarrow\": false, \"text\": \"RF Explainer\", \"x\": 0.5, \"xanchor\": \"center\", \"xref\": \"paper\", \"y\": 1.0, \"yanchor\": \"bottom\", \"yref\": \"paper\"}, {\"font\": {\"size\": 16}, \"showarrow\": false, \"text\": \"drop-out loss\", \"x\": 0.5, \"xanchor\": \"center\", \"xref\": \"paper\", \"y\": 0, \"yanchor\": \"top\", \"yref\": \"paper\", \"yshift\": -30}], \"font\": {\"color\": \"#371ea3\"}, \"height\": 303.0, \"margin\": {\"b\": 71, \"r\": 30, \"t\": 78}, \"shapes\": [{\"line\": {\"color\": \"#371ea3\", \"dash\": \"dot\", \"width\": 1.5}, \"type\": \"line\", \"x0\": 0.012982633241141125, \"x1\": 0.012982633241141125, \"xref\": \"x\", \"y0\": -1, \"y1\": 6, \"yref\": \"y\"}], \"template\": {\"data\": {\"scatter\": [{\"type\": \"scatter\"}]}}, \"title\": {\"text\": \"Variable Importance\", \"x\": 0.15}, \"xaxis\": {\"anchor\": \"y\", \"automargin\": true, \"domain\": [0.0, 1.0], \"fixedrange\": true, \"gridwidth\": 2, \"range\": [-0.0003576389091987254, 0.11525805306041331], \"tickcolor\": \"white\", \"ticklen\": 3, \"ticks\": \"outside\", \"type\": \"linear\", \"zeroline\": false}, \"yaxis\": {\"anchor\": \"x\", \"automargin\": true, \"autorange\": \"reversed\", \"domain\": [0.0, 1.0], \"fixedrange\": true, \"gridwidth\": 2, \"tickcolor\": \"white\", \"ticklen\": 10, \"ticks\": \"outside\", \"type\": \"category\"}},                        {\"displaylogo\": false, \"staticPlot\": false, \"toImageButtonOptions\": {\"height\": null, \"width\": null}, \"modeBarButtonsToRemove\": [\"sendDataToCloud\", \"lasso2d\", \"autoScale2d\", \"select2d\", \"zoom2d\", \"pan2d\", \"zoomIn2d\", \"zoomOut2d\", \"resetScale2d\", \"toggleSpikelines\", \"hoverCompareCartesian\", \"hoverClosestCartesian\"], \"responsive\": true}                    ).then(function(){\n",
       "                            \n",
       "var gd = document.getElementById('e3b36eb7-7219-4b1f-bba5-5fd163da68b2');\n",
       "var x = new MutationObserver(function (mutations, observer) {{\n",
       "        var display = window.getComputedStyle(gd).display;\n",
       "        if (!display || display === 'none') {{\n",
       "            console.log([gd, 'removed!']);\n",
       "            Plotly.purge(gd);\n",
       "            observer.disconnect();\n",
       "        }}\n",
       "}});\n",
       "\n",
       "// Listen for the removal of the full notebook cells\n",
       "var notebookContainer = gd.closest('#notebook-container');\n",
       "if (notebookContainer) {{\n",
       "    x.observe(notebookContainer, {childList: true});\n",
       "}}\n",
       "\n",
       "// Listen for the clearing of the current output cell\n",
       "var outputEl = gd.closest('.output');\n",
       "if (outputEl) {{\n",
       "    x.observe(outputEl, {childList: true});\n",
       "}}\n",
       "\n",
       "                        })                };                });            </script>        </div>"
      ]
     },
     "metadata": {},
     "output_type": "display_data"
    }
   ],
   "source": [
    "model = RandomForestClassifier()\n",
    "model.fit(X, y)\n",
    "model_exp = dx.Explainer(model, X, y, label = \"RF Explainer\")\n",
    "mp_rf = model_exp.model_parts(type='variable_importance', \n",
    "                              loss_function='mse', \n",
    "                              N=None, \n",
    "                              B=10,\n",
    "                              variables=None,\n",
    "                              variable_groups={'time': ['contact_year', 'contact_month', 'contact_day_of_month', 'contact_day_of_week'],\n",
    "                                               'job_education': ['job_cat', 'education_cat'],\n",
    "                                               'personal_status': ['age', 'marital_cat'],\n",
    "                                               'contact_details': ['contact_cat'],\n",
    "                                               'previous_campaign': ['poutcome_cat', 'campaign', 'pdays'],\n",
    "                                               'current_default_information': ['default_cat', 'some_loan', 'housing_cat', 'loan_cat']\n",
    "                                              }, \n",
    "                              processes=6)\n",
    "mp_rf.plot()"
   ]
  },
  {
   "cell_type": "code",
   "execution_count": 103,
   "metadata": {},
   "outputs": [
    {
     "name": "stdout",
     "output_type": "stream",
     "text": [
      "Preparation of a new explainer is initiated\n",
      "\n",
      "  -> data              : 20799 rows 17 cols\n",
      "  -> target variable   : 20799 values\n",
      "  -> model_class       : sklearn.ensemble._forest.RandomForestClassifier (default)\n",
      "  -> label             : RF depth 2 Explainer\n",
      "  -> predict function  : <function yhat_proba_default at 0x7f854e479dd0> will be used (default)\n",
      "  -> predict function  : Accepts pandas.DataFrame and numpy.ndarray.\n",
      "  -> predicted values  : min = 0.0694, mean = 0.115, max = 0.623\n",
      "  -> model type        : classification will be used (default)\n",
      "  -> residual function : difference between y and yhat (default)\n",
      "  -> residuals         : min = -0.61, mean = -0.000209, max = 0.93\n",
      "  -> model_info        : package sklearn\n",
      "\n",
      "A new explainer has been created!\n"
     ]
    },
    {
     "data": {
      "application/vnd.plotly.v1+json": {
       "config": {
        "displaylogo": false,
        "modeBarButtonsToRemove": [
         "sendDataToCloud",
         "lasso2d",
         "autoScale2d",
         "select2d",
         "zoom2d",
         "pan2d",
         "zoomIn2d",
         "zoomOut2d",
         "resetScale2d",
         "toggleSpikelines",
         "hoverCompareCartesian",
         "hoverClosestCartesian"
        ],
        "plotlyServerURL": "https://plot.ly",
        "staticPlot": false,
        "toImageButtonOptions": {
         "height": null,
         "width": null
        }
       },
       "data": [
        {
         "base": 0.08668302137063255,
         "hoverinfo": "text",
         "hoverlabel": {
          "bgcolor": "rgba(0,0,0,0.8)"
         },
         "hovertext": [
          "Model: RF depth 2 Explainer loss after<br>variable: previous_campaign is permuted: 0.096<br>Drop-out loss change: +0.01",
          "Model: RF depth 2 Explainer loss after<br>variable: time is permuted: 0.092<br>Drop-out loss change: +0.006",
          "Model: RF depth 2 Explainer loss after<br>variable: contact_details is permuted: 0.087<br>Drop-out loss change: +0.0",
          "Model: RF depth 2 Explainer loss after<br>variable: job_education is permuted: 0.087<br>Drop-out loss change: +0.0",
          "Model: RF depth 2 Explainer loss after<br>variable: personal_status is permuted: 0.087<br>Drop-out loss change: +0.0",
          "Model: RF depth 2 Explainer loss after<br>variable: current_default_information is permuted: 0.087<br>Drop-out loss change: +0.0"
         ],
         "marker": {
          "color": "#46bac2"
         },
         "orientation": "h",
         "showlegend": false,
         "text": [
          "+0.01",
          "+0.006",
          "+0.0",
          "+0.0",
          "+0.0",
          "+0.0"
         ],
         "textposition": "outside",
         "type": "bar",
         "x": [
          0.009523711925847445,
          0.005651615148250369,
          0.0004404140085425001,
          0.00025285949106815253,
          7.589132244137375e-05,
          5.4254141761980734e-05
         ],
         "xaxis": "x",
         "y": [
          "previous_campaign",
          "time",
          "contact_details",
          "job_education",
          "personal_status",
          "current_default_information"
         ],
         "yaxis": "y"
        }
       ],
       "layout": {
        "annotations": [
         {
          "font": {
           "size": 16
          },
          "showarrow": false,
          "text": "RF depth 2 Explainer",
          "x": 0.5,
          "xanchor": "center",
          "xref": "paper",
          "y": 1,
          "yanchor": "bottom",
          "yref": "paper"
         },
         {
          "font": {
           "size": 16
          },
          "showarrow": false,
          "text": "drop-out loss",
          "x": 0.5,
          "xanchor": "center",
          "xref": "paper",
          "y": 0,
          "yanchor": "top",
          "yref": "paper",
          "yshift": -30
         }
        ],
        "font": {
         "color": "#371ea3"
        },
        "height": 303,
        "margin": {
         "b": 71,
         "r": 30,
         "t": 78
        },
        "shapes": [
         {
          "line": {
           "color": "#371ea3",
           "dash": "dot",
           "width": 1.5
          },
          "type": "line",
          "x0": 0.08668302137063255,
          "x1": 0.08668302137063255,
          "xref": "x",
          "y0": -1,
          "y1": 6,
          "yref": "y"
         }
        ],
        "template": {
         "data": {
          "scatter": [
           {
            "type": "scatter"
           }
          ]
         }
        },
        "title": {
         "text": "Variable Importance",
         "x": 0.15
        },
        "xaxis": {
         "anchor": "y",
         "automargin": true,
         "domain": [
          0,
          1
         ],
         "fixedrange": true,
         "gridwidth": 2,
         "range": [
          0.08525446458175544,
          0.09763529008535711
         ],
         "tickcolor": "white",
         "ticklen": 3,
         "ticks": "outside",
         "type": "linear",
         "zeroline": false
        },
        "yaxis": {
         "anchor": "x",
         "automargin": true,
         "autorange": "reversed",
         "domain": [
          0,
          1
         ],
         "fixedrange": true,
         "gridwidth": 2,
         "tickcolor": "white",
         "ticklen": 10,
         "ticks": "outside",
         "type": "category"
        }
       }
      },
      "text/html": [
       "<div>                            <div id=\"3133ce37-9574-4c20-bed6-0b75e05b0020\" class=\"plotly-graph-div\" style=\"height:303.0px; width:100%;\"></div>            <script type=\"text/javascript\">                require([\"plotly\"], function(Plotly) {                    window.PLOTLYENV=window.PLOTLYENV || {};                                    if (document.getElementById(\"3133ce37-9574-4c20-bed6-0b75e05b0020\")) {                    Plotly.newPlot(                        \"3133ce37-9574-4c20-bed6-0b75e05b0020\",                        [{\"base\": 0.08668302137063255, \"hoverinfo\": \"text\", \"hoverlabel\": {\"bgcolor\": \"rgba(0,0,0,0.8)\"}, \"hovertext\": [\"Model: RF depth 2 Explainer loss after<br>variable: previous_campaign is permuted: 0.096<br>Drop-out loss change: +0.01\", \"Model: RF depth 2 Explainer loss after<br>variable: time is permuted: 0.092<br>Drop-out loss change: +0.006\", \"Model: RF depth 2 Explainer loss after<br>variable: contact_details is permuted: 0.087<br>Drop-out loss change: +0.0\", \"Model: RF depth 2 Explainer loss after<br>variable: job_education is permuted: 0.087<br>Drop-out loss change: +0.0\", \"Model: RF depth 2 Explainer loss after<br>variable: personal_status is permuted: 0.087<br>Drop-out loss change: +0.0\", \"Model: RF depth 2 Explainer loss after<br>variable: current_default_information is permuted: 0.087<br>Drop-out loss change: +0.0\"], \"marker\": {\"color\": \"#46bac2\"}, \"orientation\": \"h\", \"showlegend\": false, \"text\": [\"+0.01\", \"+0.006\", \"+0.0\", \"+0.0\", \"+0.0\", \"+0.0\"], \"textposition\": \"outside\", \"type\": \"bar\", \"x\": [0.009523711925847445, 0.005651615148250369, 0.0004404140085425001, 0.00025285949106815253, 7.589132244137375e-05, 5.4254141761980734e-05], \"xaxis\": \"x\", \"y\": [\"previous_campaign\", \"time\", \"contact_details\", \"job_education\", \"personal_status\", \"current_default_information\"], \"yaxis\": \"y\"}],                        {\"annotations\": [{\"font\": {\"size\": 16}, \"showarrow\": false, \"text\": \"RF depth 2 Explainer\", \"x\": 0.5, \"xanchor\": \"center\", \"xref\": \"paper\", \"y\": 1.0, \"yanchor\": \"bottom\", \"yref\": \"paper\"}, {\"font\": {\"size\": 16}, \"showarrow\": false, \"text\": \"drop-out loss\", \"x\": 0.5, \"xanchor\": \"center\", \"xref\": \"paper\", \"y\": 0, \"yanchor\": \"top\", \"yref\": \"paper\", \"yshift\": -30}], \"font\": {\"color\": \"#371ea3\"}, \"height\": 303.0, \"margin\": {\"b\": 71, \"r\": 30, \"t\": 78}, \"shapes\": [{\"line\": {\"color\": \"#371ea3\", \"dash\": \"dot\", \"width\": 1.5}, \"type\": \"line\", \"x0\": 0.08668302137063255, \"x1\": 0.08668302137063255, \"xref\": \"x\", \"y0\": -1, \"y1\": 6, \"yref\": \"y\"}], \"template\": {\"data\": {\"scatter\": [{\"type\": \"scatter\"}]}}, \"title\": {\"text\": \"Variable Importance\", \"x\": 0.15}, \"xaxis\": {\"anchor\": \"y\", \"automargin\": true, \"domain\": [0.0, 1.0], \"fixedrange\": true, \"gridwidth\": 2, \"range\": [0.08525446458175544, 0.09763529008535711], \"tickcolor\": \"white\", \"ticklen\": 3, \"ticks\": \"outside\", \"type\": \"linear\", \"zeroline\": false}, \"yaxis\": {\"anchor\": \"x\", \"automargin\": true, \"autorange\": \"reversed\", \"domain\": [0.0, 1.0], \"fixedrange\": true, \"gridwidth\": 2, \"tickcolor\": \"white\", \"ticklen\": 10, \"ticks\": \"outside\", \"type\": \"category\"}},                        {\"displaylogo\": false, \"staticPlot\": false, \"toImageButtonOptions\": {\"height\": null, \"width\": null}, \"modeBarButtonsToRemove\": [\"sendDataToCloud\", \"lasso2d\", \"autoScale2d\", \"select2d\", \"zoom2d\", \"pan2d\", \"zoomIn2d\", \"zoomOut2d\", \"resetScale2d\", \"toggleSpikelines\", \"hoverCompareCartesian\", \"hoverClosestCartesian\"], \"responsive\": true}                    ).then(function(){\n",
       "                            \n",
       "var gd = document.getElementById('3133ce37-9574-4c20-bed6-0b75e05b0020');\n",
       "var x = new MutationObserver(function (mutations, observer) {{\n",
       "        var display = window.getComputedStyle(gd).display;\n",
       "        if (!display || display === 'none') {{\n",
       "            console.log([gd, 'removed!']);\n",
       "            Plotly.purge(gd);\n",
       "            observer.disconnect();\n",
       "        }}\n",
       "}});\n",
       "\n",
       "// Listen for the removal of the full notebook cells\n",
       "var notebookContainer = gd.closest('#notebook-container');\n",
       "if (notebookContainer) {{\n",
       "    x.observe(notebookContainer, {childList: true});\n",
       "}}\n",
       "\n",
       "// Listen for the clearing of the current output cell\n",
       "var outputEl = gd.closest('.output');\n",
       "if (outputEl) {{\n",
       "    x.observe(outputEl, {childList: true});\n",
       "}}\n",
       "\n",
       "                        })                };                });            </script>        </div>"
      ]
     },
     "metadata": {},
     "output_type": "display_data"
    }
   ],
   "source": [
    "model = RandomForestClassifier(max_depth=2)\n",
    "model.fit(X, y)\n",
    "model_exp = dx.Explainer(model, X, y, label = \"RF depth 2 Explainer\")\n",
    "mp_rf = model_exp.model_parts(type='variable_importance', \n",
    "                              loss_function='mse', \n",
    "                              N=None, \n",
    "                              B=10,\n",
    "                              variables=None,\n",
    "                              variable_groups={'time': ['contact_year', 'contact_month', 'contact_day_of_month', 'contact_day_of_week'],\n",
    "                                               'job_education': ['job_cat', 'education_cat'],\n",
    "                                               'personal_status': ['age', 'marital_cat'],\n",
    "                                               'contact_details': ['contact_cat'],\n",
    "                                               'previous_campaign': ['poutcome_cat', 'campaign', 'pdays'],\n",
    "                                               'current_default_information': ['default_cat', 'some_loan', 'housing_cat', 'loan_cat']\n",
    "                                              }, \n",
    "                              processes=6)\n",
    "mp_rf.plot()"
   ]
  },
  {
   "cell_type": "code",
   "execution_count": null,
   "metadata": {},
   "outputs": [],
   "source": []
  }
 ],
 "metadata": {
  "accelerator": "GPU",
  "colab": {
   "collapsed_sections": [],
   "name": "BankMarketingFinal.ipynb",
   "provenance": [],
   "toc_visible": true
  },
  "kernelspec": {
   "display_name": "Python 3",
   "language": "python",
   "name": "python3"
  },
  "language_info": {
   "codemirror_mode": {
    "name": "ipython",
    "version": 3
   },
   "file_extension": ".py",
   "mimetype": "text/x-python",
   "name": "python",
   "nbconvert_exporter": "python",
   "pygments_lexer": "ipython3",
   "version": "3.7.10"
  }
 },
 "nbformat": 4,
 "nbformat_minor": 1
}
