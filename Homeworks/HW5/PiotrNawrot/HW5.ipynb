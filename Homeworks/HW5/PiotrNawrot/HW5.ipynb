{
 "cells": [
  {
   "cell_type": "markdown",
   "id": "1014608a",
   "metadata": {},
   "source": [
    "## Praca domowa 3, WUM \n",
    "* Autor: Piotr Nawrot\n",
    "* Data: 26.03.2021"
   ]
  },
  {
   "cell_type": "markdown",
   "id": "68265a7a",
   "metadata": {},
   "source": [
    "# Problem Portugalskiego banku i oferty lokat terminowych\n",
    "\n",
    "* Celem zadania jest zbudowanie modelu, który na podstawie historycznych danych określi czy klient zechce założyć lokatę w naszym portugalskim banku.\n",
    "* Od predykcji modelu będzie zależała strategia banku, na podstawie prawdopodobieństwa skorzystania z oferty przez potencjalnego klienta pracownicy banku będą decydować czy warto się z nim kontaktować.\n",
    "    * Z tego powodu będziemy optymalizować metrykę ROC_AUC\n",
    "* Dane użyte w poniższym notebooku są oparte o https://archive.ics.uci.edu/ml/datasets/bank+marketing \n",
    "    * Jedyna modyfikacja danych polega na tym, że zostało usunięte kilka kolumn celem utrudnienia zadania - w danych wyjściowo był dosyć duży leak, a mianowicie kolumna z czasem ostatniej rozmowy banku z klientem. \n",
    "    * Czas tej rozmowy miał bardzo dużą korelację z faktem założenia lokaty. "
   ]
  },
  {
   "cell_type": "markdown",
   "id": "36fb22b6",
   "metadata": {},
   "source": [
    "# Variable importance dla RandomForest, Lasso regression, GBM\n",
    "\n",
    "- Akurat te statystyki muszę przyznać, że wyglądają okropnie\n",
    "    - Random forest skupia się praktycznie tylko na dacie kontaktu, to prawda rok ma znaczenie, ale dzień miesiąca nie powinien mieć praktycznie żadnego\n",
    "    - XGB to samo, najważniejszą zmienną globalnie w optymalizowaniu AUC jest dzień miesiąca"
   ]
  },
  {
   "cell_type": "markdown",
   "id": "4122c374",
   "metadata": {},
   "source": [
    "![RF](img/RF.png)\n",
    "![XGB](img/XGB.png)"
   ]
  },
  {
   "cell_type": "markdown",
   "id": "58082594",
   "metadata": {},
   "source": [
    "- Wpadłem na pomysł, że okej, to jest niemożliwe, że te zmienne mają taki wpływ i jedyną szansą na coś takiego jest fakt, że te modele są zbyt złożone.\n",
    "- Postanowiłem więc zmienić hiperparametr Random Forestu i ustawiłem max_depth na 2, co wbrew pozorom jest strasznie małą wartością\n",
    "- Wykres zmienił się na o wiele bardziej sensowny, teraz najważniejszą zmienną jest contact_year, a dalej statystyki odnośnie poprzednich kampanii i zachowań klienta co potwierdza się ze wcześniejszą analizą danych\n",
    "- Można by też powiedzieć, że tak bardzo mniej złożony model osiągnie gorszy wynik, ale nic bardziej mylnego - RF o głębokości 2, osiągnął lepszy wynik niż defaultowy Random Forest co było dla mnie bardzo zaskakujące i utwierdziło mnie, że naprawdę trzeba zawsze wyjaśniać swoje modele!"
   ]
  },
  {
   "cell_type": "markdown",
   "id": "75f38203",
   "metadata": {},
   "source": [
    "![RF_2](img/RF_2depth.png)"
   ]
  },
  {
   "cell_type": "markdown",
   "id": "cc30f8ee",
   "metadata": {},
   "source": [
    "- Pogrupowałem sobie jeszcze zmienne w trochę większe kategorie i powtórzyłem eksperyment, bardziej złożone RF bardziej zoverfitował i rozdysponował swoją moc predykcyjną pomiędzy wiele, mało znaczących zmiennych, podczas gdy mniej złożony RF skupił się na zmiennych mających największą korelację z wynikiem\n",
    "- Niestety te zmienne to status poprzedniej kampanii i rok kontaktu, ale takie też są wnioski z danych, nie jest to przykład sytuacji w której z danych wyciągamy przy pomocy modelu wiele ciekawych informacji na temat klientów. Przy takich danych jakie mamy jednak, mniej złożony RF sprawuje się lepiej"
   ]
  },
  {
   "cell_type": "markdown",
   "id": "896a3f6d",
   "metadata": {},
   "source": [
    "![RF](img/RF_grouped.png)\n",
    "![RF_2](img/RF_2d_grouped.png)"
   ]
  }
 ],
 "metadata": {
  "kernelspec": {
   "display_name": "Python 3",
   "language": "python",
   "name": "python3"
  },
  "language_info": {
   "codemirror_mode": {
    "name": "ipython",
    "version": 3
   },
   "file_extension": ".py",
   "mimetype": "text/x-python",
   "name": "python",
   "nbconvert_exporter": "python",
   "pygments_lexer": "ipython3",
   "version": "3.7.10"
  }
 },
 "nbformat": 4,
 "nbformat_minor": 5
}
