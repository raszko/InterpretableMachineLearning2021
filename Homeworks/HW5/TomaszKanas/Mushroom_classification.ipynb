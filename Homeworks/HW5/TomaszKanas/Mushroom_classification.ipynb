{
 "cells": [
  {
   "cell_type": "markdown",
   "metadata": {},
   "source": [
    "Solving mushroom classification problem from https://github.com/pbiecek/InterpretableMachineLearning2020/issues/5"
   ]
  },
  {
   "cell_type": "code",
   "execution_count": 1,
   "metadata": {
    "tags": [
     "remove_cell"
    ]
   },
   "outputs": [],
   "source": [
    "import numpy as np\n",
    "import pandas as pd\n",
    "from sklearn import preprocessing\n",
    "from sklearn.ensemble import RandomForestClassifier\n",
    "from sklearn.linear_model import LogisticRegression\n",
    "from sklearn.ensemble import GradientBoostingClassifier\n",
    "from sklearn.neural_network import MLPClassifier\n",
    "from sklearn.model_selection import train_test_split\n",
    "from sklearn.inspection import permutation_importance\n",
    "import matplotlib.pyplot as plt"
   ]
  },
  {
   "cell_type": "code",
   "execution_count": 2,
   "metadata": {
    "tags": [
     "remove_cell"
    ]
   },
   "outputs": [
    {
     "data": {
      "text/html": [
       "<div>\n",
       "<style scoped>\n",
       "    .dataframe tbody tr th:only-of-type {\n",
       "        vertical-align: middle;\n",
       "    }\n",
       "\n",
       "    .dataframe tbody tr th {\n",
       "        vertical-align: top;\n",
       "    }\n",
       "\n",
       "    .dataframe thead th {\n",
       "        text-align: right;\n",
       "    }\n",
       "</style>\n",
       "<table border=\"1\" class=\"dataframe\">\n",
       "  <thead>\n",
       "    <tr style=\"text-align: right;\">\n",
       "      <th></th>\n",
       "      <th>cap-shape</th>\n",
       "      <th>cap-surface</th>\n",
       "      <th>cap-color</th>\n",
       "      <th>bruises%3F</th>\n",
       "      <th>odor</th>\n",
       "      <th>gill-attachment</th>\n",
       "      <th>gill-spacing</th>\n",
       "      <th>gill-size</th>\n",
       "      <th>gill-color</th>\n",
       "      <th>stalk-shape</th>\n",
       "      <th>...</th>\n",
       "      <th>stalk-color-above-ring</th>\n",
       "      <th>stalk-color-below-ring</th>\n",
       "      <th>veil-type</th>\n",
       "      <th>veil-color</th>\n",
       "      <th>ring-number</th>\n",
       "      <th>ring-type</th>\n",
       "      <th>spore-print-color</th>\n",
       "      <th>population</th>\n",
       "      <th>habitat</th>\n",
       "      <th>class</th>\n",
       "    </tr>\n",
       "  </thead>\n",
       "  <tbody>\n",
       "    <tr>\n",
       "      <th>0</th>\n",
       "      <td>x</td>\n",
       "      <td>s</td>\n",
       "      <td>n</td>\n",
       "      <td>t</td>\n",
       "      <td>p</td>\n",
       "      <td>f</td>\n",
       "      <td>c</td>\n",
       "      <td>n</td>\n",
       "      <td>k</td>\n",
       "      <td>e</td>\n",
       "      <td>...</td>\n",
       "      <td>w</td>\n",
       "      <td>w</td>\n",
       "      <td>p</td>\n",
       "      <td>w</td>\n",
       "      <td>o</td>\n",
       "      <td>p</td>\n",
       "      <td>k</td>\n",
       "      <td>s</td>\n",
       "      <td>u</td>\n",
       "      <td>p</td>\n",
       "    </tr>\n",
       "    <tr>\n",
       "      <th>1</th>\n",
       "      <td>x</td>\n",
       "      <td>s</td>\n",
       "      <td>y</td>\n",
       "      <td>t</td>\n",
       "      <td>a</td>\n",
       "      <td>f</td>\n",
       "      <td>c</td>\n",
       "      <td>b</td>\n",
       "      <td>k</td>\n",
       "      <td>e</td>\n",
       "      <td>...</td>\n",
       "      <td>w</td>\n",
       "      <td>w</td>\n",
       "      <td>p</td>\n",
       "      <td>w</td>\n",
       "      <td>o</td>\n",
       "      <td>p</td>\n",
       "      <td>n</td>\n",
       "      <td>n</td>\n",
       "      <td>g</td>\n",
       "      <td>e</td>\n",
       "    </tr>\n",
       "    <tr>\n",
       "      <th>2</th>\n",
       "      <td>b</td>\n",
       "      <td>s</td>\n",
       "      <td>w</td>\n",
       "      <td>t</td>\n",
       "      <td>l</td>\n",
       "      <td>f</td>\n",
       "      <td>c</td>\n",
       "      <td>b</td>\n",
       "      <td>n</td>\n",
       "      <td>e</td>\n",
       "      <td>...</td>\n",
       "      <td>w</td>\n",
       "      <td>w</td>\n",
       "      <td>p</td>\n",
       "      <td>w</td>\n",
       "      <td>o</td>\n",
       "      <td>p</td>\n",
       "      <td>n</td>\n",
       "      <td>n</td>\n",
       "      <td>m</td>\n",
       "      <td>e</td>\n",
       "    </tr>\n",
       "    <tr>\n",
       "      <th>3</th>\n",
       "      <td>x</td>\n",
       "      <td>y</td>\n",
       "      <td>w</td>\n",
       "      <td>t</td>\n",
       "      <td>p</td>\n",
       "      <td>f</td>\n",
       "      <td>c</td>\n",
       "      <td>n</td>\n",
       "      <td>n</td>\n",
       "      <td>e</td>\n",
       "      <td>...</td>\n",
       "      <td>w</td>\n",
       "      <td>w</td>\n",
       "      <td>p</td>\n",
       "      <td>w</td>\n",
       "      <td>o</td>\n",
       "      <td>p</td>\n",
       "      <td>k</td>\n",
       "      <td>s</td>\n",
       "      <td>u</td>\n",
       "      <td>p</td>\n",
       "    </tr>\n",
       "    <tr>\n",
       "      <th>4</th>\n",
       "      <td>x</td>\n",
       "      <td>s</td>\n",
       "      <td>g</td>\n",
       "      <td>f</td>\n",
       "      <td>n</td>\n",
       "      <td>f</td>\n",
       "      <td>w</td>\n",
       "      <td>b</td>\n",
       "      <td>k</td>\n",
       "      <td>t</td>\n",
       "      <td>...</td>\n",
       "      <td>w</td>\n",
       "      <td>w</td>\n",
       "      <td>p</td>\n",
       "      <td>w</td>\n",
       "      <td>o</td>\n",
       "      <td>e</td>\n",
       "      <td>n</td>\n",
       "      <td>a</td>\n",
       "      <td>g</td>\n",
       "      <td>e</td>\n",
       "    </tr>\n",
       "  </tbody>\n",
       "</table>\n",
       "<p>5 rows × 23 columns</p>\n",
       "</div>"
      ],
      "text/plain": [
       "  cap-shape cap-surface cap-color bruises%3F odor gill-attachment  \\\n",
       "0         x           s         n          t    p               f   \n",
       "1         x           s         y          t    a               f   \n",
       "2         b           s         w          t    l               f   \n",
       "3         x           y         w          t    p               f   \n",
       "4         x           s         g          f    n               f   \n",
       "\n",
       "  gill-spacing gill-size gill-color stalk-shape  ... stalk-color-above-ring  \\\n",
       "0            c         n          k           e  ...                      w   \n",
       "1            c         b          k           e  ...                      w   \n",
       "2            c         b          n           e  ...                      w   \n",
       "3            c         n          n           e  ...                      w   \n",
       "4            w         b          k           t  ...                      w   \n",
       "\n",
       "  stalk-color-below-ring veil-type veil-color ring-number ring-type  \\\n",
       "0                      w         p          w           o         p   \n",
       "1                      w         p          w           o         p   \n",
       "2                      w         p          w           o         p   \n",
       "3                      w         p          w           o         p   \n",
       "4                      w         p          w           o         e   \n",
       "\n",
       "  spore-print-color population habitat class  \n",
       "0                 k          s       u     p  \n",
       "1                 n          n       g     e  \n",
       "2                 n          n       m     e  \n",
       "3                 k          s       u     p  \n",
       "4                 n          a       g     e  \n",
       "\n",
       "[5 rows x 23 columns]"
      ]
     },
     "execution_count": 2,
     "metadata": {},
     "output_type": "execute_result"
    }
   ],
   "source": [
    "data = pd.read_csv(\"dataset_24_mushroom.csv\")\n",
    "#remove aphostrophes from values\n",
    "for col in data.columns:\n",
    "    data[col] = data[col].str.replace(\"'\", \"\")\n",
    "data.head()"
   ]
  },
  {
   "cell_type": "markdown",
   "metadata": {},
   "source": [
    "Target class is in column \"class\", \"p\" means poissonous, \"e\" means eatable. Let's preprocess the data ie. encode classes."
   ]
  },
  {
   "cell_type": "code",
   "execution_count": 3,
   "metadata": {
    "tags": [
     "remove_cell"
    ]
   },
   "outputs": [
    {
     "name": "stdout",
     "output_type": "stream",
     "text": [
      "Number of samples: 8124\n"
     ]
    }
   ],
   "source": [
    "X = data.drop(columns=[\"class\"])\n",
    "class_enc = preprocessing.LabelEncoder().fit(data[\"class\"])\n",
    "y = class_enc.transform(data[\"class\"])\n",
    "encoders = {}\n",
    "categorical_names = {}\n",
    "for col in X.columns:\n",
    "    encoders[col] = preprocessing.LabelEncoder().fit(X[col])\n",
    "    categorical_names[X.columns.get_loc(col)] = encoders[col].classes_\n",
    "    X[col] = encoders[col].transform(X[col])\n",
    "\n",
    "print(\"Number of samples: %d\" % len(y))"
   ]
  },
  {
   "cell_type": "markdown",
   "metadata": {},
   "source": [
    "Let's train and evaluate Random Forest model. Using 20% of data as test set."
   ]
  },
  {
   "cell_type": "code",
   "execution_count": 4,
   "metadata": {
    "tags": [
     "remove_cell"
    ]
   },
   "outputs": [
    {
     "name": "stdout",
     "output_type": "stream",
     "text": [
      "Accuracy: 1.000000\n"
     ]
    }
   ],
   "source": [
    "encoder = preprocessing.OneHotEncoder().fit(X)\n",
    "X_train, X_test, y_train, y_test = train_test_split(X, y, test_size=0.2, random_state=3234)\n",
    "X_train_enc = encoder.transform(X_train)\n",
    "classifier = RandomForestClassifier().fit(X_train_enc, y_train)\n",
    "pred = classifier.predict(encoder.transform(X_test))\n",
    "acc = np.mean(pred == y_test)\n",
    "print(\"Accuracy: %f\" % acc)"
   ]
  },
  {
   "cell_type": "markdown",
   "metadata": {},
   "source": [
    "We have perfect accuracy. Now let's examine feature importances for Random Forest Classifier"
   ]
  },
  {
   "cell_type": "code",
   "execution_count": 5,
   "metadata": {
    "tags": [
     "remove_cell"
    ]
   },
   "outputs": [
    {
     "data": {
      "image/png": "[encoded data removed]",
      "text/plain": [
       "<Figure size 432x288 with 1 Axes>"
      ]
     },
     "metadata": {
      "needs_background": "light"
     },
     "output_type": "display_data"
    }
   ],
   "source": [
    "importance_vals = classifier.feature_importances_\n",
    "std = np.std([tree.feature_importances_ for tree in classifier.estimators_], axis=0)\n",
    "indices = np.argsort(importance_vals)#[::-1]\n",
    "\n",
    "features = []\n",
    "for i in range(X.shape[1]):\n",
    "    features = features + [X.columns[i] + '=' + val for val in categorical_names[i]]\n",
    "features = np.array(features)\n",
    "\n",
    "# Plot the feature importances of the forest\n",
    "plt.figure()\n",
    "plt.title(\"Random Forest feature importance\")\n",
    "plt.barh(range(10), importance_vals[indices[-10:]],\n",
    "        xerr=std[indices[-10:]])\n",
    "plt.yticks(range(10), features[indices[-10:]])\n",
    "plt.xlim([0, 0.5])\n",
    "plt.show()"
   ]
  },
  {
   "cell_type": "markdown",
   "metadata": {},
   "source": [
    "Let's train 3 more models: Logistic Regression, Boosting and Neural Network"
   ]
  },
  {
   "cell_type": "code",
   "execution_count": 6,
   "metadata": {
    "tags": [
     "remove_cell"
    ]
   },
   "outputs": [
    {
     "name": "stdout",
     "output_type": "stream",
     "text": [
      "Logistic Regression Accuracy: 1.000000\n",
      "Boosting Accuracy: 1.000000\n",
      "Neural Network Accuracy: 1.000000\n"
     ]
    }
   ],
   "source": [
    "logistic_classifier = LogisticRegression().fit(X_train_enc, y_train)\n",
    "pred = logistic_classifier.predict(encoder.transform(X_test))\n",
    "acc = np.mean(pred == y_test)\n",
    "print(\"Logistic Regression Accuracy: %f\" % acc)\n",
    "\n",
    "boosting_classifier = GradientBoostingClassifier().fit(X_train_enc, y_train)\n",
    "pred = boosting_classifier.predict(encoder.transform(X_test))\n",
    "acc = np.mean(pred == y_test)\n",
    "print(\"Boosting Accuracy: %f\" % acc)\n",
    "\n",
    "neural_classifier = MLPClassifier().fit(X_train_enc, y_train)\n",
    "pred = neural_classifier.predict(encoder.transform(X_test))\n",
    "acc = np.mean(pred == y_test)\n",
    "print(\"Neural Network Accuracy: %f\" % acc)"
   ]
  },
  {
   "cell_type": "markdown",
   "metadata": {},
   "source": [
    "Every model achives perfect accuracy. Let's now examine their feature importances"
   ]
  },
  {
   "cell_type": "code",
   "execution_count": 7,
   "metadata": {
    "tags": [
     "remove_cell"
    ]
   },
   "outputs": [
    {
     "data": {
      "image/png": "[encoded data removed]",
      "text/plain": [
       "<Figure size 432x288 with 1 Axes>"
      ]
     },
     "metadata": {
      "needs_background": "light"
     },
     "output_type": "display_data"
    },
    {
     "data": {
      "image/png": "[encoded data removed]",
      "text/plain": [
       "<Figure size 432x288 with 1 Axes>"
      ]
     },
     "metadata": {
      "needs_background": "light"
     },
     "output_type": "display_data"
    },
    {
     "data": {
      "image/png": "[encoded data removed]",
      "text/plain": [
       "<Figure size 432x288 with 1 Axes>"
      ]
     },
     "metadata": {
      "needs_background": "light"
     },
     "output_type": "display_data"
    }
   ],
   "source": [
    "importance = permutation_importance(logistic_classifier, X_train_enc.toarray(), y_train, n_repeats=10)\n",
    "sorted_idx = importance.importances_mean.argsort()\n",
    "\n",
    "plt.figure()\n",
    "plt.title(\"Logistic Regression feature importance\")\n",
    "plt.barh(range(10), importance.importances_mean[sorted_idx[-10:]],\n",
    "        xerr=importance.importances_std[sorted_idx[-10:]])\n",
    "plt.yticks(range(10), features[sorted_idx[-10:]])\n",
    "#plt.xlim([0, 0.5])\n",
    "plt.show()\n",
    "\n",
    "importance = permutation_importance(boosting_classifier, X_train_enc.toarray(), y_train, n_repeats=10)\n",
    "sorted_idx = importance.importances_mean.argsort()\n",
    "\n",
    "plt.figure()\n",
    "plt.title(\"Boosting feature importance\")\n",
    "plt.barh(range(10), importance.importances_mean[sorted_idx[-10:]],\n",
    "        xerr=importance.importances_std[sorted_idx[-10:]])\n",
    "plt.yticks(range(10), features[sorted_idx[-10:]])\n",
    "#plt.xlim([0, 0.5])\n",
    "plt.show()\n",
    "\n",
    "importance = permutation_importance(neural_classifier, X_train_enc.toarray(), y_train, n_repeats=10)\n",
    "sorted_idx = importance.importances_mean.argsort()\n",
    "\n",
    "plt.figure()\n",
    "plt.title(\"Neural Network feature importance\")\n",
    "plt.barh(range(10), importance.importances_mean[sorted_idx[-10:]],\n",
    "        xerr=importance.importances_std[sorted_idx[-10:]])\n",
    "plt.yticks(range(10), features[sorted_idx[-10:]])\n",
    "#plt.xlim([0, 0.5])\n",
    "plt.show()"
   ]
  },
  {
   "cell_type": "markdown",
   "metadata": {},
   "source": [
    "Widzimy, że wszystkie modele są zgodne, że najbardziej istotną cechą jest \"odor\". Kolejne najważniejsze cechy się już różnią między modelami. Widzimy też różnice między odchyleniami standardowymi: model drzewiasty ma duże odchylenia, pozostałe modele mają znacznie mniejsze, boosting ma najmniejsze (prawie zerowe). Jeszcze jedną różnicą jest skala wyników (proszę spojżeć na osie x).\n",
    "\n",
    "Wyniki ważności zmiennych zgadzają się z poprzednimi wynikami dla tego problemu. Różnice między modelami mogą być też powodowane faktem, że większość przypadków testowych można poprawnie sklasyfikować z pomocą jednej / 2 cech."
   ]
  },
  {
   "cell_type": "markdown",
   "metadata": {},
   "source": [
    "## Appendix: code"
   ]
  },
  {
   "cell_type": "code",
   "execution_count": null,
   "metadata": {},
   "outputs": [],
   "source": [
    "import numpy as np\n",
    "import pandas as pd\n",
    "from sklearn import preprocessing\n",
    "from sklearn.ensemble import RandomForestClassifier\n",
    "from sklearn.linear_model import LogisticRegression\n",
    "from sklearn.model_selection import train_test_split\n",
    "from ceteris_paribus import explainer, profiles\n",
    "from ceteris_paribus.plots import plots\n",
    "\n",
    "data = pd.read_csv(\"dataset_24_mushroom.csv\")\n",
    "#remove aphostrophes from values\n",
    "for col in data.columns:\n",
    "    data[col] = data[col].str.replace(\"'\", \"\")\n",
    "data.head()\n",
    "\n",
    "X = data.drop(columns=[\"class\"])\n",
    "class_enc = preprocessing.LabelEncoder().fit(data[\"class\"])\n",
    "y = class_enc.transform(data[\"class\"])\n",
    "encoders = {}\n",
    "categorical_names = {}\n",
    "for col in X.columns:\n",
    "    encoders[col] = preprocessing.LabelEncoder().fit(X[col])\n",
    "    categorical_names[X.columns.get_loc(col)] = encoders[col].classes_\n",
    "    X[col] = encoders[col].transform(X[col])\n",
    "\n",
    "print(\"Number of samples: %d\" % len(y))\n",
    "\n",
    "encoder = preprocessing.OneHotEncoder().fit(X)\n",
    "X_train, X_test, y_train, y_test = train_test_split(X, y, test_size=0.2, random_state=3234)\n",
    "X_train_enc = encoder.transform(X_train)\n",
    "classifier = RandomForestClassifier().fit(X_train_enc, y_train)\n",
    "pred = classifier.predict(encoder.transform(X_test))\n",
    "acc = np.mean(pred == y_test)\n",
    "print(\"Accuracy: %f\" % acc)\n",
    "\n",
    "importance_vals = classifier.feature_importances_\n",
    "std = np.std([tree.feature_importances_ for tree in classifier.estimators_], axis=0)\n",
    "indices = np.argsort(importance_vals)#[::-1]\n",
    "\n",
    "features = []\n",
    "for i in range(X.shape[1]):\n",
    "    features = features + [X.columns[i] + '=' + val for val in categorical_names[i]]\n",
    "features = np.array(features)\n",
    "\n",
    "# Plot the feature importances of the forest\n",
    "plt.figure()\n",
    "plt.title(\"Random Forest feature importance\")\n",
    "plt.barh(range(10), importance_vals[indices[-10:]],\n",
    "        xerr=std[indices[-10:]])\n",
    "plt.yticks(range(10), features[indices[-10:]])\n",
    "plt.xlim([0, 0.5])\n",
    "plt.show()\n",
    "\n",
    "logistic_classifier = LogisticRegression().fit(X_train_enc, y_train)\n",
    "pred = logistic_classifier.predict(encoder.transform(X_test))\n",
    "acc = np.mean(pred == y_test)\n",
    "print(\"Logistic Regression Accuracy: %f\" % acc)\n",
    "\n",
    "boosting_classifier = GradientBoostingClassifier().fit(X_train_enc, y_train)\n",
    "pred = boosting_classifier.predict(encoder.transform(X_test))\n",
    "acc = np.mean(pred == y_test)\n",
    "print(\"Boosting Accuracy: %f\" % acc)\n",
    "\n",
    "neural_classifier = MLPClassifier().fit(X_train_enc, y_train)\n",
    "pred = neural_classifier.predict(encoder.transform(X_test))\n",
    "acc = np.mean(pred == y_test)\n",
    "print(\"Neural Network Accuracy: %f\" % acc)\n",
    "\n",
    "importance = permutation_importance(logistic_classifier, X_train_enc.toarray(), y_train, n_repeats=10)\n",
    "sorted_idx = importance.importances_mean.argsort()\n",
    "\n",
    "plt.figure()\n",
    "plt.title(\"Logistic Regression feature importance\")\n",
    "plt.barh(range(10), importance.importances_mean[sorted_idx[-10:]],\n",
    "        xerr=importance.importances_std[sorted_idx[-10:]])\n",
    "plt.yticks(range(10), features[sorted_idx[-10:]])\n",
    "plt.show()\n",
    "\n",
    "importance = permutation_importance(boosting_classifier, X_train_enc.toarray(), y_train, n_repeats=10)\n",
    "sorted_idx = importance.importances_mean.argsort()\n",
    "\n",
    "plt.figure()\n",
    "plt.title(\"Boosting feature importance\")\n",
    "plt.barh(range(10), importance.importances_mean[sorted_idx[-10:]],\n",
    "        xerr=importance.importances_std[sorted_idx[-10:]])\n",
    "plt.yticks(range(10), features[sorted_idx[-10:]])\n",
    "plt.show()\n",
    "\n",
    "importance = permutation_importance(neural_classifier, X_train_enc.toarray(), y_train, n_repeats=10)\n",
    "sorted_idx = importance.importances_mean.argsort()\n",
    "\n",
    "plt.figure()\n",
    "plt.title(\"Neural Network feature importance\")\n",
    "plt.barh(range(10), importance.importances_mean[sorted_idx[-10:]],\n",
    "        xerr=importance.importances_std[sorted_idx[-10:]])\n",
    "plt.yticks(range(10), features[sorted_idx[-10:]])\n",
    "plt.show()"
   ]
  }
 ],
 "metadata": {
  "celltoolbar": "Edit Metadata",
  "kernelspec": {
   "display_name": "Python 3",
   "language": "python",
   "name": "python3"
  },
  "language_info": {
   "codemirror_mode": {
    "name": "ipython",
    "version": 3
   },
   "file_extension": ".py",
   "mimetype": "text/x-python",
   "name": "python",
   "nbconvert_exporter": "python",
   "pygments_lexer": "ipython3",
   "version": "3.9.4"
  },
  "name": "Mushroom_classification.ipynb"
 },
 "nbformat": 4,
 "nbformat_minor": 4
}
