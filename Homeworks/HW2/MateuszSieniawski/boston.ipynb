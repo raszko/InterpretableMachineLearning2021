{
 "cells": [
  {
   "cell_type": "markdown",
   "metadata": {},
   "source": [
    "# Homework 2\n",
    "### Author: Mateusz Sieniawski"
   ]
  },
  {
   "cell_type": "markdown",
   "metadata": {},
   "source": [
    "#### Import dataset (Boston Housing)"
   ]
  },
  {
   "cell_type": "code",
   "execution_count": 26,
   "metadata": {},
   "outputs": [],
   "source": [
    "import shap\n",
    "import random\n",
    "import pandas as pd\n",
    "import seaborn as sns\n",
    "import numpy as np\n",
    "import matplotlib.pyplot as plt\n",
    "import xgboost as xgb\n",
    "from sklearn.model_selection import train_test_split\n",
    "from sklearn.metrics import mean_squared_log_error as msle\n",
    "\n",
    "X, y = shap.datasets.boston()"
   ]
  },
  {
   "cell_type": "markdown",
   "metadata": {},
   "source": [
    "#### Understand the data\n",
    "\n",
    "Interesing fact: There are a lot of houses priced at $50k - it might suggest that data was censored and houses with higher prices were shrinked. Authors of the dataset don't mention it.\n",
    "\n",
    "Theres is no missing values in the dataset.\n",
    "\n",
    "#### Dataset features:\n",
    "\n",
    "crim\n",
    "per capita crime rate by town.\n",
    "\n",
    "zn\n",
    "proportion of residential land zoned for lots over 25,000 sq.ft.\n",
    "\n",
    "indus\n",
    "proportion of non-retail business acres per town.\n",
    "\n",
    "chas\n",
    "Charles River dummy variable (= 1 if tract bounds river; 0 otherwise).\n",
    "\n",
    "nox\n",
    "nitrogen oxides concentration (parts per 10 million).\n",
    "\n",
    "rm\n",
    "average number of rooms per dwelling.\n",
    "\n",
    "age\n",
    "proportion of owner-occupied units built prior to 1940.\n",
    "\n",
    "dis\n",
    "weighted mean of distances to five Boston employment centres.\n",
    "\n",
    "rad\n",
    "index of accessibility to radial highways.\n",
    "\n",
    "tax\n",
    "full-value property-tax rate per \\$10,000.\n",
    "\n",
    "ptratio\n",
    "pupil-teacher ratio by town.\n",
    "\n",
    "black\n",
    "1000(Bk - 0.63)^2 where Bk is the proportion of blacks by town.\n",
    "\n",
    "lstat\n",
    "lower status of the population (percent).\n",
    "\n",
    "medv\n",
    "median value of owner-occupied homes in \\$1000s."
   ]
  },
  {
   "cell_type": "code",
   "execution_count": 2,
   "metadata": {},
   "outputs": [
    {
     "data": {
      "text/plain": [
       "<matplotlib.axes._subplots.AxesSubplot at 0x7f031cae2470>"
      ]
     },
     "execution_count": 2,
     "metadata": {},
     "output_type": "execute_result"
    },
    {
     "data": {
      "image/png": "[encoded data removed]",
      "text/plain": [
       "<Figure size 432x288 with 1 Axes>"
      ]
     },
     "metadata": {
      "needs_background": "light"
     },
     "output_type": "display_data"
    }
   ],
   "source": [
    "# House prices distribution\n",
    "sns.distplot(y)"
   ]
  },
  {
   "cell_type": "code",
   "execution_count": 3,
   "metadata": {},
   "outputs": [
    {
     "data": {
      "text/html": [
       "<div>\n",
       "<style scoped>\n",
       "    .dataframe tbody tr th:only-of-type {\n",
       "        vertical-align: middle;\n",
       "    }\n",
       "\n",
       "    .dataframe tbody tr th {\n",
       "        vertical-align: top;\n",
       "    }\n",
       "\n",
       "    .dataframe thead th {\n",
       "        text-align: right;\n",
       "    }\n",
       "</style>\n",
       "<table border=\"1\" class=\"dataframe\">\n",
       "  <thead>\n",
       "    <tr style=\"text-align: right;\">\n",
       "      <th></th>\n",
       "      <th>CRIM</th>\n",
       "      <th>ZN</th>\n",
       "      <th>INDUS</th>\n",
       "      <th>CHAS</th>\n",
       "      <th>NOX</th>\n",
       "      <th>RM</th>\n",
       "      <th>AGE</th>\n",
       "      <th>DIS</th>\n",
       "      <th>RAD</th>\n",
       "      <th>TAX</th>\n",
       "      <th>PTRATIO</th>\n",
       "      <th>B</th>\n",
       "      <th>LSTAT</th>\n",
       "    </tr>\n",
       "  </thead>\n",
       "  <tbody>\n",
       "    <tr>\n",
       "      <th>0</th>\n",
       "      <td>0.00632</td>\n",
       "      <td>18.0</td>\n",
       "      <td>2.31</td>\n",
       "      <td>0.0</td>\n",
       "      <td>0.538</td>\n",
       "      <td>6.575</td>\n",
       "      <td>65.2</td>\n",
       "      <td>4.0900</td>\n",
       "      <td>1.0</td>\n",
       "      <td>296.0</td>\n",
       "      <td>15.3</td>\n",
       "      <td>396.90</td>\n",
       "      <td>4.98</td>\n",
       "    </tr>\n",
       "    <tr>\n",
       "      <th>1</th>\n",
       "      <td>0.02731</td>\n",
       "      <td>0.0</td>\n",
       "      <td>7.07</td>\n",
       "      <td>0.0</td>\n",
       "      <td>0.469</td>\n",
       "      <td>6.421</td>\n",
       "      <td>78.9</td>\n",
       "      <td>4.9671</td>\n",
       "      <td>2.0</td>\n",
       "      <td>242.0</td>\n",
       "      <td>17.8</td>\n",
       "      <td>396.90</td>\n",
       "      <td>9.14</td>\n",
       "    </tr>\n",
       "    <tr>\n",
       "      <th>2</th>\n",
       "      <td>0.02729</td>\n",
       "      <td>0.0</td>\n",
       "      <td>7.07</td>\n",
       "      <td>0.0</td>\n",
       "      <td>0.469</td>\n",
       "      <td>7.185</td>\n",
       "      <td>61.1</td>\n",
       "      <td>4.9671</td>\n",
       "      <td>2.0</td>\n",
       "      <td>242.0</td>\n",
       "      <td>17.8</td>\n",
       "      <td>392.83</td>\n",
       "      <td>4.03</td>\n",
       "    </tr>\n",
       "    <tr>\n",
       "      <th>3</th>\n",
       "      <td>0.03237</td>\n",
       "      <td>0.0</td>\n",
       "      <td>2.18</td>\n",
       "      <td>0.0</td>\n",
       "      <td>0.458</td>\n",
       "      <td>6.998</td>\n",
       "      <td>45.8</td>\n",
       "      <td>6.0622</td>\n",
       "      <td>3.0</td>\n",
       "      <td>222.0</td>\n",
       "      <td>18.7</td>\n",
       "      <td>394.63</td>\n",
       "      <td>2.94</td>\n",
       "    </tr>\n",
       "    <tr>\n",
       "      <th>4</th>\n",
       "      <td>0.06905</td>\n",
       "      <td>0.0</td>\n",
       "      <td>2.18</td>\n",
       "      <td>0.0</td>\n",
       "      <td>0.458</td>\n",
       "      <td>7.147</td>\n",
       "      <td>54.2</td>\n",
       "      <td>6.0622</td>\n",
       "      <td>3.0</td>\n",
       "      <td>222.0</td>\n",
       "      <td>18.7</td>\n",
       "      <td>396.90</td>\n",
       "      <td>5.33</td>\n",
       "    </tr>\n",
       "  </tbody>\n",
       "</table>\n",
       "</div>"
      ],
      "text/plain": [
       "      CRIM    ZN  INDUS  CHAS    NOX     RM   AGE     DIS  RAD    TAX  \\\n",
       "0  0.00632  18.0   2.31   0.0  0.538  6.575  65.2  4.0900  1.0  296.0   \n",
       "1  0.02731   0.0   7.07   0.0  0.469  6.421  78.9  4.9671  2.0  242.0   \n",
       "2  0.02729   0.0   7.07   0.0  0.469  7.185  61.1  4.9671  2.0  242.0   \n",
       "3  0.03237   0.0   2.18   0.0  0.458  6.998  45.8  6.0622  3.0  222.0   \n",
       "4  0.06905   0.0   2.18   0.0  0.458  7.147  54.2  6.0622  3.0  222.0   \n",
       "\n",
       "   PTRATIO       B  LSTAT  \n",
       "0     15.3  396.90   4.98  \n",
       "1     17.8  396.90   9.14  \n",
       "2     17.8  392.83   4.03  \n",
       "3     18.7  394.63   2.94  \n",
       "4     18.7  396.90   5.33  "
      ]
     },
     "execution_count": 3,
     "metadata": {},
     "output_type": "execute_result"
    }
   ],
   "source": [
    "X.head()"
   ]
  },
  {
   "cell_type": "code",
   "execution_count": 4,
   "metadata": {},
   "outputs": [
    {
     "data": {
      "text/plain": [
       "CRIM       0\n",
       "ZN         0\n",
       "INDUS      0\n",
       "CHAS       0\n",
       "NOX        0\n",
       "RM         0\n",
       "AGE        0\n",
       "DIS        0\n",
       "RAD        0\n",
       "TAX        0\n",
       "PTRATIO    0\n",
       "B          0\n",
       "LSTAT      0\n",
       "dtype: int64"
      ]
     },
     "execution_count": 4,
     "metadata": {},
     "output_type": "execute_result"
    }
   ],
   "source": [
    "X.isna().sum()"
   ]
  },
  {
   "cell_type": "code",
   "execution_count": 6,
   "metadata": {},
   "outputs": [
    {
     "name": "stderr",
     "output_type": "stream",
     "text": [
      "To output multiple subplots, the figure containing the passed axes is being cleared\n"
     ]
    },
    {
     "data": {
      "text/plain": [
       "array([[<matplotlib.axes._subplots.AxesSubplot object at 0x7f024a5b20b8>,\n",
       "        <matplotlib.axes._subplots.AxesSubplot object at 0x7f024a065c88>,\n",
       "        <matplotlib.axes._subplots.AxesSubplot object at 0x7f024a0ca358>,\n",
       "        <matplotlib.axes._subplots.AxesSubplot object at 0x7f0249fd3588>],\n",
       "       [<matplotlib.axes._subplots.AxesSubplot object at 0x7f0249f867f0>,\n",
       "        <matplotlib.axes._subplots.AxesSubplot object at 0x7f0249f39a58>,\n",
       "        <matplotlib.axes._subplots.AxesSubplot object at 0x7f0249eedcc0>,\n",
       "        <matplotlib.axes._subplots.AxesSubplot object at 0x7f0249f23ef0>],\n",
       "       [<matplotlib.axes._subplots.AxesSubplot object at 0x7f024a0db2e8>,\n",
       "        <matplotlib.axes._subplots.AxesSubplot object at 0x7f0249ec25c0>,\n",
       "        <matplotlib.axes._subplots.AxesSubplot object at 0x7f0249e40828>,\n",
       "        <matplotlib.axes._subplots.AxesSubplot object at 0x7f0249df4ac8>],\n",
       "       [<matplotlib.axes._subplots.AxesSubplot object at 0x7f0249e26d30>,\n",
       "        <matplotlib.axes._subplots.AxesSubplot object at 0x7f0249dddf98>,\n",
       "        <matplotlib.axes._subplots.AxesSubplot object at 0x7f0249d9c240>,\n",
       "        <matplotlib.axes._subplots.AxesSubplot object at 0x7f0249d4f4a8>]],\n",
       "      dtype=object)"
      ]
     },
     "execution_count": 6,
     "metadata": {},
     "output_type": "execute_result"
    },
    {
     "data": {
      "image/png": "[encoded data removed]",
      "text/plain": [
       "<Figure size 1800x1080 with 16 Axes>"
      ]
     },
     "metadata": {
      "needs_background": "light"
     },
     "output_type": "display_data"
    }
   ],
   "source": [
    "# Plot the data\n",
    "fig = plt.figure(figsize = (25,15))\n",
    "ax = fig.gca()\n",
    "X.hist(ax = ax)"
   ]
  },
  {
   "cell_type": "markdown",
   "metadata": {},
   "source": [
    "### (1) For the selected data set, train at least one tree-based ensemble model (random forest, gbm, catboost or any other boosting)\n",
    "Train a xgboost model"
   ]
  },
  {
   "cell_type": "code",
   "execution_count": 24,
   "metadata": {},
   "outputs": [
    {
     "name": "stdout",
     "output_type": "stream",
     "text": [
      "XGBRegressor(base_score=0.5, booster='gbtree', colsample_bylevel=1,\n",
      "             colsample_bynode=1, colsample_bytree=1, eval_metric='rmse',\n",
      "             gamma=0, gpu_id=-1, importance_type='gain',\n",
      "             interaction_constraints='', learning_rate=0.300000012,\n",
      "             max_delta_step=0, max_depth=6, min_child_weight=1, missing=nan,\n",
      "             monotone_constraints='()', n_estimators=100, n_jobs=8,\n",
      "             num_parallel_tree=1, objective='reg:squarederror', random_state=0,\n",
      "             reg_alpha=0, reg_lambda=1, scale_pos_weight=1, subsample=1,\n",
      "             tree_method='exact', validate_parameters=1, verbosity=None)\n",
      "Loss: 0.013\n"
     ]
    }
   ],
   "source": [
    "# split data into train and test sets\n",
    "seed = 42\n",
    "test_size = 0.2\n",
    "train_size = 0.8\n",
    "X_train, X_test, y_train, y_test = train_test_split(X, y, test_size=test_size, train_size=train_size, random_state=seed)\n",
    "\n",
    "model = xgb.XGBRegressor(eval_metric=\"rmse\")\n",
    "model.fit(X_train, y_train)\n",
    "print(model)\n",
    "\n",
    "y_pred = model.predict(X_test)\n",
    "loss = msle(y_test, y_pred)\n",
    "print(f\"Loss: {loss:.3f}\")"
   ]
  },
  {
   "cell_type": "markdown",
   "metadata": {},
   "source": [
    "### (2) for some selected observations (two or three) from this dataset, calculate predictions for model (1)"
   ]
  },
  {
   "cell_type": "code",
   "execution_count": 38,
   "metadata": {},
   "outputs": [
    {
     "data": {
      "text/html": [
       "<div>\n",
       "<style scoped>\n",
       "    .dataframe tbody tr th:only-of-type {\n",
       "        vertical-align: middle;\n",
       "    }\n",
       "\n",
       "    .dataframe tbody tr th {\n",
       "        vertical-align: top;\n",
       "    }\n",
       "\n",
       "    .dataframe thead th {\n",
       "        text-align: right;\n",
       "    }\n",
       "</style>\n",
       "<table border=\"1\" class=\"dataframe\">\n",
       "  <thead>\n",
       "    <tr style=\"text-align: right;\">\n",
       "      <th></th>\n",
       "      <th>CRIM</th>\n",
       "      <th>ZN</th>\n",
       "      <th>INDUS</th>\n",
       "      <th>CHAS</th>\n",
       "      <th>NOX</th>\n",
       "      <th>RM</th>\n",
       "      <th>AGE</th>\n",
       "      <th>DIS</th>\n",
       "      <th>RAD</th>\n",
       "      <th>TAX</th>\n",
       "      <th>PTRATIO</th>\n",
       "      <th>B</th>\n",
       "      <th>LSTAT</th>\n",
       "    </tr>\n",
       "  </thead>\n",
       "  <tbody>\n",
       "    <tr>\n",
       "      <th>391</th>\n",
       "      <td>5.29305</td>\n",
       "      <td>0.0</td>\n",
       "      <td>18.10</td>\n",
       "      <td>0.0</td>\n",
       "      <td>0.700</td>\n",
       "      <td>6.051</td>\n",
       "      <td>82.5</td>\n",
       "      <td>2.1678</td>\n",
       "      <td>24.0</td>\n",
       "      <td>666.0</td>\n",
       "      <td>20.2</td>\n",
       "      <td>378.38</td>\n",
       "      <td>18.76</td>\n",
       "    </tr>\n",
       "    <tr>\n",
       "      <th>385</th>\n",
       "      <td>16.81180</td>\n",
       "      <td>0.0</td>\n",
       "      <td>18.10</td>\n",
       "      <td>0.0</td>\n",
       "      <td>0.700</td>\n",
       "      <td>5.277</td>\n",
       "      <td>98.1</td>\n",
       "      <td>1.4261</td>\n",
       "      <td>24.0</td>\n",
       "      <td>666.0</td>\n",
       "      <td>20.2</td>\n",
       "      <td>396.90</td>\n",
       "      <td>30.81</td>\n",
       "    </tr>\n",
       "    <tr>\n",
       "      <th>81</th>\n",
       "      <td>0.04462</td>\n",
       "      <td>25.0</td>\n",
       "      <td>4.86</td>\n",
       "      <td>0.0</td>\n",
       "      <td>0.426</td>\n",
       "      <td>6.619</td>\n",
       "      <td>70.4</td>\n",
       "      <td>5.4007</td>\n",
       "      <td>4.0</td>\n",
       "      <td>281.0</td>\n",
       "      <td>19.0</td>\n",
       "      <td>395.63</td>\n",
       "      <td>7.22</td>\n",
       "    </tr>\n",
       "  </tbody>\n",
       "</table>\n",
       "</div>"
      ],
      "text/plain": [
       "         CRIM    ZN  INDUS  CHAS    NOX     RM   AGE     DIS   RAD    TAX  \\\n",
       "391   5.29305   0.0  18.10   0.0  0.700  6.051  82.5  2.1678  24.0  666.0   \n",
       "385  16.81180   0.0  18.10   0.0  0.700  5.277  98.1  1.4261  24.0  666.0   \n",
       "81    0.04462  25.0   4.86   0.0  0.426  6.619  70.4  5.4007   4.0  281.0   \n",
       "\n",
       "     PTRATIO       B  LSTAT  \n",
       "391     20.2  378.38  18.76  \n",
       "385     20.2  396.90  30.81  \n",
       "81      19.0  395.63   7.22  "
      ]
     },
     "execution_count": 38,
     "metadata": {},
     "output_type": "execute_result"
    }
   ],
   "source": [
    "X3 = X_train.sample(3)\n",
    "X3"
   ]
  },
  {
   "cell_type": "markdown",
   "metadata": {},
   "source": [
    "Calculate model predictions for sample 3 observations"
   ]
  },
  {
   "cell_type": "code",
   "execution_count": 39,
   "metadata": {},
   "outputs": [
    {
     "data": {
      "text/plain": [
       "array([23.161224 ,  7.2053533, 23.928858 ], dtype=float32)"
      ]
     },
     "execution_count": 39,
     "metadata": {},
     "output_type": "execute_result"
    }
   ],
   "source": [
    "model.predict(X3)"
   ]
  },
  {
   "cell_type": "markdown",
   "metadata": {},
   "source": [
    "#### Calculate global variable importance"
   ]
  },
  {
   "cell_type": "code",
   "execution_count": 42,
   "metadata": {},
   "outputs": [
    {
     "data": {
      "image/png": "[encoded data removed]",
      "text/plain": [
       "<Figure size 576x482.4 with 1 Axes>"
      ]
     },
     "metadata": {
      "needs_background": "light"
     },
     "output_type": "display_data"
    }
   ],
   "source": [
    "shap_values = shap.TreeExplainer(model).shap_values(X_train)\n",
    "shap.summary_plot(shap_values, X_train, plot_type=\"bar\")"
   ]
  },
  {
   "cell_type": "markdown",
   "metadata": {},
   "source": [
    "### (3) for observations selected in (2), calculate the decomposition of model prediction using SHAP, Break Down or both (packages for R: DALEX, iml, packages for python: shap, dalex)."
   ]
  },
  {
   "cell_type": "code",
   "execution_count": 141,
   "metadata": {},
   "outputs": [],
   "source": [
    "def shap_plot(model, data, j):\n",
    "    explainerModel = shap.TreeExplainer(model)\n",
    "    shap_values_Model = explainerModel.shap_values(data)\n",
    "    return shap.force_plot(explainerModel.expected_value, shap_values_Model[j], data.iloc[[j]])"
   ]
  },
  {
   "cell_type": "markdown",
   "metadata": {},
   "source": [
    "SHAP values of sample 3 observations"
   ]
  },
  {
   "cell_type": "code",
   "execution_count": 243,
   "metadata": {},
   "outputs": [
    {
     "data": {
      "text/html": [
       "\n",
       "<div id='i5LU2U9RY1VGBBWJX2EDW'>\n",
       "<div style='color: #900; text-align: center;'>\n",
       "  <b>Visualization omitted, Javascript library not loaded!</b><br>\n",
       "  Have you run `initjs()` in this notebook? If this notebook was from another\n",
       "  user you must also trust this notebook (File -> Trust notebook). If you are viewing\n",
       "  this notebook on github the Javascript has been stripped for security. If you are using\n",
       "  JupyterLab this error is because a JupyterLab extension has not yet been written.\n",
       "</div></div>\n",
       " <script>\n",
       "   if (window.SHAP) SHAP.ReactDom.render(\n",
       "    SHAP.React.createElement(SHAP.AdditiveForceVisualizer, {\"outNames\": [\"f(x)\"], \"baseValue\": 22.796537399291992, \"outValue\": 23.16124153137207, \"link\": \"identity\", \"featureNames\": [\"CRIM\", \"ZN\", \"INDUS\", \"CHAS\", \"NOX\", \"RM\", \"AGE\", \"DIS\", \"RAD\", \"TAX\", \"PTRATIO\", \"B\", \"LSTAT\"], \"features\": {\"0\": {\"effect\": 1.854689359664917, \"value\": 5.29305}, \"1\": {\"effect\": 0.009103765711188316, \"value\": 0.0}, \"2\": {\"effect\": 0.10865885764360428, \"value\": 18.1}, \"3\": {\"effect\": 1.022599190036999e-05, \"value\": 0.0}, \"4\": {\"effect\": -0.436079740524292, \"value\": 0.7}, \"5\": {\"effect\": -0.4504261314868927, \"value\": 6.051}, \"6\": {\"effect\": 0.13907384872436523, \"value\": 82.5}, \"7\": {\"effect\": 0.9295700788497925, \"value\": 2.1678}, \"8\": {\"effect\": -0.007495872676372528, \"value\": 24.0}, \"9\": {\"effect\": 0.02800310216844082, \"value\": 666.0}, \"10\": {\"effect\": -0.4024950861930847, \"value\": 20.2}, \"11\": {\"effect\": 1.40176522731781, \"value\": 378.38}, \"12\": {\"effect\": -2.80967378616333, \"value\": 18.76}}, \"plot_cmap\": \"RdBu\", \"labelMargin\": 20}),\n",
       "    document.getElementById('i5LU2U9RY1VGBBWJX2EDW')\n",
       "  );\n",
       "</script>"
      ],
      "text/plain": [
       "<shap.plots._force.AdditiveForceVisualizer at 0x7f02482d2e80>"
      ]
     },
     "execution_count": 243,
     "metadata": {},
     "output_type": "execute_result"
    }
   ],
   "source": [
    "shap_plot(model, X3, 0)"
   ]
  },
  {
   "cell_type": "code",
   "execution_count": 244,
   "metadata": {},
   "outputs": [
    {
     "data": {
      "text/html": [
       "\n",
       "<div id='iZYRAB3XTOTQAMOLE0F0V'>\n",
       "<div style='color: #900; text-align: center;'>\n",
       "  <b>Visualization omitted, Javascript library not loaded!</b><br>\n",
       "  Have you run `initjs()` in this notebook? If this notebook was from another\n",
       "  user you must also trust this notebook (File -> Trust notebook). If you are viewing\n",
       "  this notebook on github the Javascript has been stripped for security. If you are using\n",
       "  JupyterLab this error is because a JupyterLab extension has not yet been written.\n",
       "</div></div>\n",
       " <script>\n",
       "   if (window.SHAP) SHAP.ReactDom.render(\n",
       "    SHAP.React.createElement(SHAP.AdditiveForceVisualizer, {\"outNames\": [\"f(x)\"], \"baseValue\": 22.796537399291992, \"outValue\": 7.205361366271973, \"link\": \"identity\", \"featureNames\": [\"CRIM\", \"ZN\", \"INDUS\", \"CHAS\", \"NOX\", \"RM\", \"AGE\", \"DIS\", \"RAD\", \"TAX\", \"PTRATIO\", \"B\", \"LSTAT\"], \"features\": {\"0\": {\"effect\": -0.719592273235321, \"value\": 16.8118}, \"1\": {\"effect\": 0.0082412613555789, \"value\": 0.0}, \"2\": {\"effect\": 0.0048064799048006535, \"value\": 18.1}, \"3\": {\"effect\": 0.001200759201310575, \"value\": 0.0}, \"4\": {\"effect\": -1.8381119966506958, \"value\": 0.7}, \"5\": {\"effect\": -2.2145516872406006, \"value\": 5.277}, \"6\": {\"effect\": -0.8333933353424072, \"value\": 98.1}, \"7\": {\"effect\": 0.06864258646965027, \"value\": 1.4261}, \"8\": {\"effect\": 0.006590878590941429, \"value\": 24.0}, \"9\": {\"effect\": -0.18886949121952057, \"value\": 666.0}, \"10\": {\"effect\": -0.3979671895503998, \"value\": 20.2}, \"11\": {\"effect\": 0.008428228087723255, \"value\": 396.9}, \"12\": {\"effect\": -9.496600151062012, \"value\": 30.81}}, \"plot_cmap\": \"RdBu\", \"labelMargin\": 20}),\n",
       "    document.getElementById('iZYRAB3XTOTQAMOLE0F0V')\n",
       "  );\n",
       "</script>"
      ],
      "text/plain": [
       "<shap.plots._force.AdditiveForceVisualizer at 0x7f02482d2320>"
      ]
     },
     "execution_count": 244,
     "metadata": {},
     "output_type": "execute_result"
    }
   ],
   "source": [
    "shap_plot(model, X3, 1)"
   ]
  },
  {
   "cell_type": "code",
   "execution_count": 245,
   "metadata": {},
   "outputs": [
    {
     "data": {
      "text/html": [
       "\n",
       "<div id='iX39YZLOEZ3OIUV3OVPPM'>\n",
       "<div style='color: #900; text-align: center;'>\n",
       "  <b>Visualization omitted, Javascript library not loaded!</b><br>\n",
       "  Have you run `initjs()` in this notebook? If this notebook was from another\n",
       "  user you must also trust this notebook (File -> Trust notebook). If you are viewing\n",
       "  this notebook on github the Javascript has been stripped for security. If you are using\n",
       "  JupyterLab this error is because a JupyterLab extension has not yet been written.\n",
       "</div></div>\n",
       " <script>\n",
       "   if (window.SHAP) SHAP.ReactDom.render(\n",
       "    SHAP.React.createElement(SHAP.AdditiveForceVisualizer, {\"outNames\": [\"f(x)\"], \"baseValue\": 22.796537399291992, \"outValue\": 23.928863525390625, \"link\": \"identity\", \"featureNames\": [\"CRIM\", \"ZN\", \"INDUS\", \"CHAS\", \"NOX\", \"RM\", \"AGE\", \"DIS\", \"RAD\", \"TAX\", \"PTRATIO\", \"B\", \"LSTAT\"], \"features\": {\"0\": {\"effect\": -0.7695186138153076, \"value\": 0.04462}, \"1\": {\"effect\": 0.05708642676472664, \"value\": 25.0}, \"2\": {\"effect\": -0.18017299473285675, \"value\": 4.86}, \"3\": {\"effect\": 0.0038696101401001215, \"value\": 0.0}, \"4\": {\"effect\": 0.019061937928199768, \"value\": 0.426}, \"5\": {\"effect\": -0.3921964168548584, \"value\": 6.619}, \"6\": {\"effect\": -0.0246785469353199, \"value\": 70.4}, \"7\": {\"effect\": -0.1795443743467331, \"value\": 5.4007}, \"8\": {\"effect\": 0.002891566837206483, \"value\": 4.0}, \"9\": {\"effect\": -0.18261660635471344, \"value\": 281.0}, \"10\": {\"effect\": 0.03587886318564415, \"value\": 19.0}, \"11\": {\"effect\": 0.09917343407869339, \"value\": 395.63}, \"12\": {\"effect\": 2.6430909633636475, \"value\": 7.22}}, \"plot_cmap\": \"RdBu\", \"labelMargin\": 20}),\n",
       "    document.getElementById('iX39YZLOEZ3OIUV3OVPPM')\n",
       "  );\n",
       "</script>"
      ],
      "text/plain": [
       "<shap.plots._force.AdditiveForceVisualizer at 0x7f02482d2278>"
      ]
     },
     "execution_count": 245,
     "metadata": {},
     "output_type": "execute_result"
    }
   ],
   "source": [
    "shap_plot(model, X3, 2)"
   ]
  },
  {
   "cell_type": "markdown",
   "metadata": {},
   "source": [
    "### (4) find two observations in the data set, such that they have different most important variables (e.g. age and gender are the most important for observation A, but race and class for observation B)\n",
    "\n",
    "For observaton no. 42 the most important variables are LSTAT and NOX, but for observation no. 14 the most importantvariables are RM and TAX. These houses are very different - the first's house price is very low, whilst the second's very high. "
   ]
  },
  {
   "cell_type": "markdown",
   "metadata": {},
   "source": [
    "SHAP values of observation no. 42"
   ]
  },
  {
   "cell_type": "code",
   "execution_count": 84,
   "metadata": {},
   "outputs": [
    {
     "data": {
      "text/html": [
       "\n",
       "<div id='iHK5Q9U80HWM9QWZKSE49'>\n",
       "<div style='color: #900; text-align: center;'>\n",
       "  <b>Visualization omitted, Javascript library not loaded!</b><br>\n",
       "  Have you run `initjs()` in this notebook? If this notebook was from another\n",
       "  user you must also trust this notebook (File -> Trust notebook). If you are viewing\n",
       "  this notebook on github the Javascript has been stripped for security. If you are using\n",
       "  JupyterLab this error is because a JupyterLab extension has not yet been written.\n",
       "</div></div>\n",
       " <script>\n",
       "   if (window.SHAP) SHAP.ReactDom.render(\n",
       "    SHAP.React.createElement(SHAP.AdditiveForceVisualizer, {\"outNames\": [\"f(x)\"], \"baseValue\": 22.796537399291992, \"outValue\": 8.495614051818848, \"link\": \"identity\", \"featureNames\": [\"CRIM\", \"ZN\", \"INDUS\", \"CHAS\", \"NOX\", \"RM\", \"AGE\", \"DIS\", \"RAD\", \"TAX\", \"PTRATIO\", \"B\", \"LSTAT\"], \"features\": {\"0\": {\"effect\": -1.5594334602355957, \"value\": 41.5292}, \"1\": {\"effect\": 0.010458631440997124, \"value\": 0.0}, \"2\": {\"effect\": 0.008800383657217026, \"value\": 18.1}, \"3\": {\"effect\": 0.010429861955344677, \"value\": 0.0}, \"4\": {\"effect\": -2.1791720390319824, \"value\": 0.693}, \"5\": {\"effect\": -2.17602801322937, \"value\": 5.531}, \"6\": {\"effect\": -0.018924688920378685, \"value\": 85.4}, \"7\": {\"effect\": 0.15953676402568817, \"value\": 1.6074}, \"8\": {\"effect\": -0.00039847532752901316, \"value\": 24.0}, \"9\": {\"effect\": -0.23448550701141357, \"value\": 666.0}, \"10\": {\"effect\": -0.505760669708252, \"value\": 20.2}, \"11\": {\"effect\": -0.019114261493086815, \"value\": 329.46}, \"12\": {\"effect\": -7.7968316078186035, \"value\": 27.38}}, \"plot_cmap\": \"RdBu\", \"labelMargin\": 20}),\n",
       "    document.getElementById('iHK5Q9U80HWM9QWZKSE49')\n",
       "  );\n",
       "</script>"
      ],
      "text/plain": [
       "<shap.plots._force.AdditiveForceVisualizer at 0x7f02241ee7f0>"
      ]
     },
     "execution_count": 84,
     "metadata": {},
     "output_type": "execute_result"
    }
   ],
   "source": [
    "shap_plot(model, X_train, 42)"
   ]
  },
  {
   "cell_type": "markdown",
   "metadata": {},
   "source": [
    "SHAP values of observation no. 14"
   ]
  },
  {
   "cell_type": "code",
   "execution_count": 85,
   "metadata": {},
   "outputs": [
    {
     "data": {
      "text/html": [
       "\n",
       "<div id='iNGN7XPWR8AHZ6NFQS9AM'>\n",
       "<div style='color: #900; text-align: center;'>\n",
       "  <b>Visualization omitted, Javascript library not loaded!</b><br>\n",
       "  Have you run `initjs()` in this notebook? If this notebook was from another\n",
       "  user you must also trust this notebook (File -> Trust notebook). If you are viewing\n",
       "  this notebook on github the Javascript has been stripped for security. If you are using\n",
       "  JupyterLab this error is because a JupyterLab extension has not yet been written.\n",
       "</div></div>\n",
       " <script>\n",
       "   if (window.SHAP) SHAP.ReactDom.render(\n",
       "    SHAP.React.createElement(SHAP.AdditiveForceVisualizer, {\"outNames\": [\"f(x)\"], \"baseValue\": 22.796537399291992, \"outValue\": 39.79107666015625, \"link\": \"identity\", \"featureNames\": [\"CRIM\", \"ZN\", \"INDUS\", \"CHAS\", \"NOX\", \"RM\", \"AGE\", \"DIS\", \"RAD\", \"TAX\", \"PTRATIO\", \"B\", \"LSTAT\"], \"features\": {\"0\": {\"effect\": 0.3334568440914154, \"value\": 0.06588}, \"1\": {\"effect\": 0.01137668825685978, \"value\": 0.0}, \"2\": {\"effect\": 0.08680460602045059, \"value\": 2.46}, \"3\": {\"effect\": -0.008038125932216644, \"value\": 0.0}, \"4\": {\"effect\": 0.1286906898021698, \"value\": 0.488}, \"5\": {\"effect\": 12.441028594970703, \"value\": 7.765}, \"6\": {\"effect\": -0.7667547464370728, \"value\": 83.3}, \"7\": {\"effect\": 0.17419502139091492, \"value\": 2.741}, \"8\": {\"effect\": -0.025104332715272903, \"value\": 3.0}, \"9\": {\"effect\": 2.564937114715576, \"value\": 193.0}, \"10\": {\"effect\": 0.11402449756860733, \"value\": 17.8}, \"11\": {\"effect\": 0.04958979785442352, \"value\": 395.56}, \"12\": {\"effect\": 1.8903316259384155, \"value\": 7.56}}, \"plot_cmap\": \"RdBu\", \"labelMargin\": 20}),\n",
       "    document.getElementById('iNGN7XPWR8AHZ6NFQS9AM')\n",
       "  );\n",
       "</script>"
      ],
      "text/plain": [
       "<shap.plots._force.AdditiveForceVisualizer at 0x7f02241ee278>"
      ]
     },
     "execution_count": 85,
     "metadata": {},
     "output_type": "execute_result"
    }
   ],
   "source": [
    "shap_plot(model, X_train, 14)"
   ]
  },
  {
   "cell_type": "markdown",
   "metadata": {},
   "source": [
    "### (5) (if possible) select one variable and find two observations in the data set such that for one observation this variable has a positive effect and for the other a negative effect"
   ]
  },
  {
   "cell_type": "markdown",
   "metadata": {},
   "source": [
    "In observation no. 0 the LSTAT variable has negative effect on the prediciton, whilst in observation no. 1 the LSTAT variable has positive effect."
   ]
  },
  {
   "cell_type": "markdown",
   "metadata": {},
   "source": [
    "SHAP values of observation no. 0"
   ]
  },
  {
   "cell_type": "code",
   "execution_count": 240,
   "metadata": {},
   "outputs": [
    {
     "data": {
      "text/html": [
       "\n",
       "<div id='iEOC35M2KNZVD0R6D97SC'>\n",
       "<div style='color: #900; text-align: center;'>\n",
       "  <b>Visualization omitted, Javascript library not loaded!</b><br>\n",
       "  Have you run `initjs()` in this notebook? If this notebook was from another\n",
       "  user you must also trust this notebook (File -> Trust notebook). If you are viewing\n",
       "  this notebook on github the Javascript has been stripped for security. If you are using\n",
       "  JupyterLab this error is because a JupyterLab extension has not yet been written.\n",
       "</div></div>\n",
       " <script>\n",
       "   if (window.SHAP) SHAP.ReactDom.render(\n",
       "    SHAP.React.createElement(SHAP.AdditiveForceVisualizer, {\"outNames\": [\"f(x)\"], \"baseValue\": 22.796537399291992, \"outValue\": 12.006795883178711, \"link\": \"identity\", \"featureNames\": [\"CRIM\", \"ZN\", \"INDUS\", \"CHAS\", \"NOX\", \"RM\", \"AGE\", \"DIS\", \"RAD\", \"TAX\", \"PTRATIO\", \"B\", \"LSTAT\"], \"features\": {\"0\": {\"effect\": 0.006152265705168247, \"value\": 15.0234}, \"1\": {\"effect\": 0.007061799056828022, \"value\": 0.0}, \"2\": {\"effect\": 0.024885322898626328, \"value\": 18.1}, \"3\": {\"effect\": -0.0036085592582821846, \"value\": 0.0}, \"4\": {\"effect\": 0.7549042105674744, \"value\": 0.614}, \"5\": {\"effect\": -2.5974514484405518, \"value\": 5.304}, \"6\": {\"effect\": -0.9399185180664062, \"value\": 97.3}, \"7\": {\"effect\": 0.8071241974830627, \"value\": 2.1007}, \"8\": {\"effect\": -0.006995369214564562, \"value\": 24.0}, \"9\": {\"effect\": -0.2225363701581955, \"value\": 666.0}, \"10\": {\"effect\": -0.5391536951065063, \"value\": 20.2}, \"11\": {\"effect\": 0.08348457515239716, \"value\": 349.48}, \"12\": {\"effect\": -8.163689613342285, \"value\": 24.91}}, \"plot_cmap\": \"RdBu\", \"labelMargin\": 20}),\n",
       "    document.getElementById('iEOC35M2KNZVD0R6D97SC')\n",
       "  );\n",
       "</script>"
      ],
      "text/plain": [
       "<shap.plots._force.AdditiveForceVisualizer at 0x7f02482d2f98>"
      ]
     },
     "execution_count": 240,
     "metadata": {},
     "output_type": "execute_result"
    }
   ],
   "source": [
    "shap_plot(model, X_train, 0)"
   ]
  },
  {
   "cell_type": "markdown",
   "metadata": {},
   "source": [
    "SHAP values of observation no. 1"
   ]
  },
  {
   "cell_type": "code",
   "execution_count": 242,
   "metadata": {},
   "outputs": [
    {
     "data": {
      "text/html": [
       "\n",
       "<div id='iPS0YN3KYQG93TXVBQPV2'>\n",
       "<div style='color: #900; text-align: center;'>\n",
       "  <b>Visualization omitted, Javascript library not loaded!</b><br>\n",
       "  Have you run `initjs()` in this notebook? If this notebook was from another\n",
       "  user you must also trust this notebook (File -> Trust notebook). If you are viewing\n",
       "  this notebook on github the Javascript has been stripped for security. If you are using\n",
       "  JupyterLab this error is because a JupyterLab extension has not yet been written.\n",
       "</div></div>\n",
       " <script>\n",
       "   if (window.SHAP) SHAP.ReactDom.render(\n",
       "    SHAP.React.createElement(SHAP.AdditiveForceVisualizer, {\"outNames\": [\"f(x)\"], \"baseValue\": 22.796537399291992, \"outValue\": 19.914335250854492, \"link\": \"identity\", \"featureNames\": [\"CRIM\", \"ZN\", \"INDUS\", \"CHAS\", \"NOX\", \"RM\", \"AGE\", \"DIS\", \"RAD\", \"TAX\", \"PTRATIO\", \"B\", \"LSTAT\"], \"features\": {\"0\": {\"effect\": 0.5783352851867676, \"value\": 0.62739}, \"1\": {\"effect\": 0.014873366802930832, \"value\": 0.0}, \"2\": {\"effect\": -0.012920345179736614, \"value\": 8.14}, \"3\": {\"effect\": 0.0029366936068981886, \"value\": 0.0}, \"4\": {\"effect\": -0.1734500676393509, \"value\": 0.538}, \"5\": {\"effect\": -3.047853946685791, \"value\": 5.834}, \"6\": {\"effect\": 0.3247574269771576, \"value\": 56.5}, \"7\": {\"effect\": -0.14110928773880005, \"value\": 4.4986}, \"8\": {\"effect\": -0.1681053191423416, \"value\": 4.0}, \"9\": {\"effect\": -0.36094212532043457, \"value\": 307.0}, \"10\": {\"effect\": -1.6707831621170044, \"value\": 21.0}, \"11\": {\"effect\": 0.2203374207019806, \"value\": 395.62}, \"12\": {\"effect\": 1.5517222881317139, \"value\": 8.47}}, \"plot_cmap\": \"RdBu\", \"labelMargin\": 20}),\n",
       "    document.getElementById('iPS0YN3KYQG93TXVBQPV2')\n",
       "  );\n",
       "</script>"
      ],
      "text/plain": [
       "<shap.plots._force.AdditiveForceVisualizer at 0x7f02482d2ef0>"
      ]
     },
     "execution_count": 242,
     "metadata": {},
     "output_type": "execute_result"
    }
   ],
   "source": [
    "shap_plot(model, X_train, 1)"
   ]
  },
  {
   "cell_type": "markdown",
   "metadata": {},
   "source": [
    "### (6) train a second model (of any class, neural nets, linear, other boosting) and find an observation for which BD/shap attributions are different between the models\n",
    "Train decision tree"
   ]
  },
  {
   "cell_type": "code",
   "execution_count": 229,
   "metadata": {},
   "outputs": [
    {
     "name": "stdout",
     "output_type": "stream",
     "text": [
      "Loss: 5.098351782289174\n"
     ]
    }
   ],
   "source": [
    "from sklearn.tree import DecisionTreeRegressor\n",
    "\n",
    "model_2 = DecisionTreeRegressor(max_depth=2).fit(X_train, y_train)\n",
    "y_pred = model_2.predict(X_test)\n",
    "rms = mean_squared_error(y_test, y_pred, squared=False)\n",
    "print(f\"Loss: {rms}\")"
   ]
  },
  {
   "cell_type": "markdown",
   "metadata": {},
   "source": [
    "#### Samples where SHAP values differ between models\n",
    "\n",
    "For observation no. 131 SHAP attributions are different for XGBoost model and Decision Tree model. The most important variables for XGBoost model are TAX and CRIM, whilst for Decision Tree LSTAT and RM."
   ]
  },
  {
   "cell_type": "markdown",
   "metadata": {},
   "source": [
    "XGBoost SHAP values"
   ]
  },
  {
   "cell_type": "code",
   "execution_count": null,
   "metadata": {},
   "outputs": [],
   "source": [
    "shap.initjs()"
   ]
  },
  {
   "cell_type": "code",
   "execution_count": 230,
   "metadata": {},
   "outputs": [
    {
     "data": {
      "text/html": [
       "\n",
       "<div id='iH3NT2EWCSA0RTVWNYGB7'>\n",
       "<div style='color: #900; text-align: center;'>\n",
       "  <b>Visualization omitted, Javascript library not loaded!</b><br>\n",
       "  Have you run `initjs()` in this notebook? If this notebook was from another\n",
       "  user you must also trust this notebook (File -> Trust notebook). If you are viewing\n",
       "  this notebook on github the Javascript has been stripped for security. If you are using\n",
       "  JupyterLab this error is because a JupyterLab extension has not yet been written.\n",
       "</div></div>\n",
       " <script>\n",
       "   if (window.SHAP) SHAP.ReactDom.render(\n",
       "    SHAP.React.createElement(SHAP.AdditiveForceVisualizer, {\"outNames\": [\"f(x)\"], \"baseValue\": 22.796537399291992, \"outValue\": 22.79969596862793, \"link\": \"identity\", \"featureNames\": [\"CRIM\", \"ZN\", \"INDUS\", \"CHAS\", \"NOX\", \"RM\", \"AGE\", \"DIS\", \"RAD\", \"TAX\", \"PTRATIO\", \"B\", \"LSTAT\"], \"features\": {\"0\": {\"effect\": 0.509789764881134, \"value\": 0.10084}, \"1\": {\"effect\": -0.0020178332924842834, \"value\": 0.0}, \"2\": {\"effect\": 0.025486772879958153, \"value\": 10.01}, \"3\": {\"effect\": 0.006578113418072462, \"value\": 0.0}, \"4\": {\"effect\": 0.13550639152526855, \"value\": 0.547}, \"5\": {\"effect\": -0.24529090523719788, \"value\": 6.715}, \"6\": {\"effect\": -0.10812702775001526, \"value\": 81.6}, \"7\": {\"effect\": 0.4087629020214081, \"value\": 2.6775}, \"8\": {\"effect\": 0.025775862857699394, \"value\": 6.0}, \"9\": {\"effect\": -0.9469413757324219, \"value\": 432.0}, \"10\": {\"effect\": 0.15246151387691498, \"value\": 17.8}, \"11\": {\"effect\": 0.3522060513496399, \"value\": 395.59}, \"12\": {\"effect\": -0.3110320568084717, \"value\": 10.16}}, \"plot_cmap\": \"RdBu\", \"labelMargin\": 20}),\n",
       "    document.getElementById('iH3NT2EWCSA0RTVWNYGB7')\n",
       "  );\n",
       "</script>"
      ],
      "text/plain": [
       "<shap.plots._force.AdditiveForceVisualizer at 0x7f02246e9908>"
      ]
     },
     "execution_count": 230,
     "metadata": {},
     "output_type": "execute_result"
    }
   ],
   "source": [
    "shap_plot(model, X_train, 131)"
   ]
  },
  {
   "cell_type": "markdown",
   "metadata": {},
   "source": [
    "Decision tree SHAP values"
   ]
  },
  {
   "cell_type": "code",
   "execution_count": 228,
   "metadata": {},
   "outputs": [
    {
     "data": {
      "text/html": [
       "\n",
       "<div id='iFEI2QRSTS0IR18R34Q37'>\n",
       "<div style='color: #900; text-align: center;'>\n",
       "  <b>Visualization omitted, Javascript library not loaded!</b><br>\n",
       "  Have you run `initjs()` in this notebook? If this notebook was from another\n",
       "  user you must also trust this notebook (File -> Trust notebook). If you are viewing\n",
       "  this notebook on github the Javascript has been stripped for security. If you are using\n",
       "  JupyterLab this error is because a JupyterLab extension has not yet been written.\n",
       "</div></div>\n",
       " <script>\n",
       "   if (window.SHAP) SHAP.ReactDom.render(\n",
       "    SHAP.React.createElement(SHAP.AdditiveForceVisualizer, {\"outNames\": [\"f(x)\"], \"baseValue\": 22.79653465346535, \"outValue\": 23.324630541871926, \"link\": \"identity\", \"featureNames\": [\"CRIM\", \"ZN\", \"INDUS\", \"CHAS\", \"NOX\", \"RM\", \"AGE\", \"DIS\", \"RAD\", \"TAX\", \"PTRATIO\", \"B\", \"LSTAT\"], \"features\": {\"5\": {\"effect\": -2.5698371147393795, \"value\": 6.715}, \"12\": {\"effect\": 3.0979330031459558, \"value\": 10.16}}, \"plot_cmap\": \"RdBu\", \"labelMargin\": 20}),\n",
       "    document.getElementById('iFEI2QRSTS0IR18R34Q37')\n",
       "  );\n",
       "</script>"
      ],
      "text/plain": [
       "<shap.plots._force.AdditiveForceVisualizer at 0x7f0224515dd8>"
      ]
     },
     "execution_count": 228,
     "metadata": {},
     "output_type": "execute_result"
    }
   ],
   "source": [
    "shap_plot(model_2, X_train, 131)"
   ]
  },
  {
   "cell_type": "markdown",
   "metadata": {},
   "source": [
    "# (7) Comments\n",
    "\n",
    "#### (4) find two observations in the data set, such that they have different most important variables (e.g. age and gender are the most important for observation A, but race and class for observation B)\n",
    "For observaton no. 42 the most important variables are LSTAT and NOX, but for observation no. 14 the most importantvariables are RM and TAX. These houses are very different - the first's house price is very low, whilst the second's very high. \n",
    "\n",
    "#### (5) (if possible) select one variable and find two observations in the data set such that for one observation this variable has a positive effect and for the other a negative effect\n",
    "In observation no. 0 the LSTAT variable has negative effect on the prediciton, whilst in observation no. 1 the LSTAT variable has positive effect.\n",
    "\n",
    "#### (6) train a second model (of any class, neural nets, linear, other boosting) and find an observation for which BD/shap attributions are different between the models\n",
    "For the second model I have trained a Decision Tree. For observation no. 131 SHAP attributions are different for XGBoost model and Decision Tree model. The most important variables for XGBoost model are TAX and CRIM, whilst for Decision Tree LSTAT and RM."
   ]
  }
 ],
 "metadata": {
  "kernelspec": {
   "display_name": "Python 3",
   "language": "python",
   "name": "python3"
  },
  "language_info": {
   "codemirror_mode": {
    "name": "ipython",
    "version": 3
   },
   "file_extension": ".py",
   "mimetype": "text/x-python",
   "name": "python",
   "nbconvert_exporter": "python",
   "pygments_lexer": "ipython3",
   "version": "3.6.9"
  }
 },
 "nbformat": 4,
 "nbformat_minor": 4
}
