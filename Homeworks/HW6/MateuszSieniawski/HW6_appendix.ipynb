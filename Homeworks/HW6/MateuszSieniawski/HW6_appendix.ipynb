{
 "cells": [
  {
   "cell_type": "markdown",
   "metadata": {},
   "source": [
    "# Homework 6 (appendix)\n",
    "### Author: Mateusz Sieniawski"
   ]
  },
  {
   "cell_type": "code",
   "execution_count": 1,
   "metadata": {},
   "outputs": [],
   "source": [
    "import shap\n",
    "import random\n",
    "import pickle\n",
    "\n",
    "import pandas as pd\n",
    "import numpy as np\n",
    "import seaborn as sns\n",
    "import xgboost as xgb\n",
    "import lightgbm as lgb\n",
    "\n",
    "from pdpbox import pdp, get_dataset, info_plots\n",
    "from sklearn.inspection import plot_partial_dependence\n",
    "from sklearn.model_selection import train_test_split\n",
    "from sklearn.metrics import mean_squared_log_error as msle\n",
    "from sklearn.linear_model import LogisticRegression\n",
    "from sklearn.metrics import mean_squared_error as mse\n",
    "import matplotlib.pyplot as plt\n",
    "from collections.abc import Iterable\n",
    "from sklearn.metrics import accuracy_score\n",
    "\n",
    "np.random.seed(42)\n",
    "random.seed(42)"
   ]
  },
  {
   "cell_type": "code",
   "execution_count": 2,
   "metadata": {},
   "outputs": [],
   "source": [
    "df = pd.read_csv(\"titanic.csv\")\n",
    "df = df.drop(['Name'], axis=1)\n",
    "df = pd.get_dummies(df)\n",
    "\n",
    "target_col = \"Survived\"\n",
    "X = df.drop([target_col], axis=1)\n",
    "Y = df[[target_col]]"
   ]
  },
  {
   "cell_type": "code",
   "execution_count": 3,
   "metadata": {},
   "outputs": [],
   "source": [
    "# split data into train and test sets\n",
    "seed = 42\n",
    "test_size = 0.5\n",
    "X_train, X_test, y_train, y_test = train_test_split(X, Y, test_size=test_size, random_state=seed)"
   ]
  },
  {
   "cell_type": "code",
   "execution_count": 4,
   "metadata": {},
   "outputs": [],
   "source": [
    "# https://stackoverflow.com/questions/31324218/scikit-learn-how-to-obtain-true-positive-true-negative-false-positive-and-fal\n",
    "def perf_measure(y_actual, y_hat):\n",
    "    TP = 0\n",
    "    FP = 0\n",
    "    TN = 0\n",
    "    FN = 0\n",
    "\n",
    "    for i in range(len(y_hat)): \n",
    "        if y_actual[i]==y_hat[i]==1:\n",
    "           TP += 1\n",
    "        if y_hat[i]==1 and y_actual[i]!=y_hat[i]:\n",
    "           FP += 1\n",
    "        if y_actual[i]==y_hat[i]==0:\n",
    "           TN += 1\n",
    "        if y_hat[i]==0 and y_actual[i]!=y_hat[i]:\n",
    "           FN += 1\n",
    "\n",
    "    return(TP, FP, TN, FN)"
   ]
  },
  {
   "cell_type": "code",
   "execution_count": 5,
   "metadata": {},
   "outputs": [],
   "source": [
    "def get_statistics(y_actual, y_hat):\n",
    "    (TP, FP, TN, FN) = perf_measure(y_actual, y_hat)\n",
    "    accuracy_equality_ratio = (TP + TN) / (TP + FP + TN + FN)\n",
    "    equal_opportunity_ratio = TP/(TP + FN)\n",
    "    predictive_equality_ratio = FP / (FP + TN)\n",
    "    predictive_parity_ratio = TP / (TP + FP)\n",
    "    statistical_parity_ratio = (TP +FP)/(TP + FP + TN + FN)\n",
    "    return accuracy_equality_ratio, equal_opportunity_ratio, predictive_equality_ratio, predictive_parity_ratio, statistical_parity_ratio"
   ]
  },
  {
   "cell_type": "code",
   "execution_count": 6,
   "metadata": {},
   "outputs": [
    {
     "name": "stdout",
     "output_type": "stream",
     "text": [
      "294\n",
      "150\n"
     ]
    }
   ],
   "source": [
    "X_test_female = X_test[X_test['Sex_female'] == 1]\n",
    "y_test_female = y_test[X_test['Sex_female'] == 1]\n",
    "X_test_male = X_test[X_test['Sex_female'] == 0]\n",
    "y_test_male = y_test[X_test['Sex_female'] == 0]\n",
    "print(len(X_test_male))\n",
    "print(len(X_test_female))"
   ]
  },
  {
   "cell_type": "code",
   "execution_count": 7,
   "metadata": {},
   "outputs": [],
   "source": [
    "columns = ['model', \"sex\", 'accuracy_equality_ratio', 'equal_opportunity_ratio', 'predictive_equality_ratio', 'predictive_parity_ratio', 'statistical_parity_ratio']\n",
    "plot_data = pd.DataFrame(columns=columns)"
   ]
  },
  {
   "cell_type": "markdown",
   "metadata": {},
   "source": [
    "### XGBoost"
   ]
  },
  {
   "cell_type": "code",
   "execution_count": 8,
   "metadata": {},
   "outputs": [
    {
     "name": "stdout",
     "output_type": "stream",
     "text": [
      "[21:34:11] WARNING: ../src/learner.cc:1061: Starting in XGBoost 1.3.0, the default evaluation metric used with the objective 'binary:logistic' was changed from 'error' to 'logloss'. Explicitly set eval_metric if you'd like to restore the old behavior.\n",
      "XGBClassifier(base_score=0.5, booster='gbtree', colsample_bylevel=1,\n",
      "              colsample_bynode=1, colsample_bytree=1, gamma=0, gpu_id=-1,\n",
      "              importance_type='gain', interaction_constraints='',\n",
      "              learning_rate=0.300000012, max_delta_step=0, max_depth=6,\n",
      "              min_child_weight=1, missing=nan, monotone_constraints='()',\n",
      "              n_estimators=100, n_jobs=8, num_parallel_tree=1,\n",
      "              objective='binary:logistic', random_state=0, reg_alpha=0,\n",
      "              reg_lambda=1, scale_pos_weight=1, subsample=1,\n",
      "              tree_method='exact', use_label_encoder=True,\n",
      "              validate_parameters=1, verbosity=None)\n",
      "XGBoost accuracy: 78.4%\n"
     ]
    }
   ],
   "source": [
    "model = xgb.XGBClassifier()\n",
    "model.fit(X_train, y_train)\n",
    "print(model)\n",
    "\n",
    "y_pred = model.predict(X_test)\n",
    "xgboost_accuracy = accuracy_score(y_test, y_pred)\n",
    "print(f\"XGBoost accuracy: {xgboost_accuracy*100:.1f}%\")"
   ]
  },
  {
   "cell_type": "code",
   "execution_count": 9,
   "metadata": {},
   "outputs": [
    {
     "name": "stdout",
     "output_type": "stream",
     "text": [
      "0.7837837837837838 0.6460674157303371 0.12406015037593984 0.777027027027027 0.3333333333333333\n"
     ]
    }
   ],
   "source": [
    "y_pred_female = model.predict(X_test_female)\n",
    "y_pred_male = model.predict(X_test_male)\n",
    "(f1, f2, f3, f4, f5) = get_statistics(y_test_female.to_numpy(), y_pred_female)\n",
    "(m1, m2, m3, m4, m5) = get_statistics(y_test_male.to_numpy(), y_pred_male)\n",
    "(t1, t2, t3, t4, t5) = get_statistics(y_test.to_numpy(), y_pred)\n",
    "#print(f1, f2, f3, f4, f5)\n",
    "#print(m1, m2, m3, m4, m5)\n",
    "print(t1, t2, t3, t4, t5)\n",
    "#print(f1/t1, f2/t2, f3/t3, f4/t4, f5/t5)\n",
    "plot_data = plot_data.append(pd.DataFrame([['XGBoost', \"female\", min(f1/m1, f1/f1), min(f2/m2, f2/f2), min(f3/m3, f3/f3), min(f4/m4, f4/f4), min(f5/m5, f5/f5)]], columns=columns))\n",
    "plot_data = plot_data.append(pd.DataFrame([['XGBoost', \"male\", min(m1/m1, m1/f1), min(m2/m2, m2/f2), min(m3/m3, m3/f3), min(m4/m4, m4/f4), min(m5/m5, m5/f5)]], columns=columns))"
   ]
  },
  {
   "cell_type": "markdown",
   "metadata": {},
   "source": [
    "### Logistic regression"
   ]
  },
  {
   "cell_type": "code",
   "execution_count": 10,
   "metadata": {},
   "outputs": [
    {
     "name": "stdout",
     "output_type": "stream",
     "text": [
      "LogisticRegression(C=1.0, class_weight=None, dual=False, fit_intercept=True,\n",
      "                   intercept_scaling=1, l1_ratio=None, max_iter=100,\n",
      "                   multi_class='auto', n_jobs=None, penalty='l2',\n",
      "                   random_state=None, solver='lbfgs', tol=0.0001, verbose=0,\n",
      "                   warm_start=False)\n",
      "Logistic regression accuracy: 79.3%\n"
     ]
    },
    {
     "data": {
      "text/plain": [
       "'\\nfor (coef, col) in zip(reg.coef_[0], X_train.columns):\\n    print(f\"{col} - {coef}\")\\n\\n\\n\\nplt.figure(figsize = (20,14))\\nsns.barplot(X_train.columns, reg.coef_[0])\\n#g.set(ylim=(0.9, 1.25))\\n\\nplt.title(\"Linear regression coefficients\", fontsize=20)\\nplt.xlabel(\"variable\", fontsize=20)\\nplt.ylabel(\"coefficient\", fontsize=20)\\nplt.xticks(fontsize=14, rotation=45)\\nplt.yticks(fontsize=14)\\n\\n#plt.show()\\n#plt.savefig(\"img/reg_coef.png\")\\n'"
      ]
     },
     "execution_count": 10,
     "metadata": {},
     "output_type": "execute_result"
    }
   ],
   "source": [
    "reg = LogisticRegression().fit(X_train, y_train)\n",
    "print(reg)\n",
    "\n",
    "y_pred = reg.predict(X_test)\n",
    "reg_accuracy = accuracy_score(y_test, y_pred)\n",
    "print(f\"Logistic regression accuracy: {reg_accuracy*100:.1f}%\")\n",
    "\n",
    "\"\"\"\n",
    "for (coef, col) in zip(reg.coef_[0], X_train.columns):\n",
    "    print(f\"{col} - {coef}\")\n",
    "\n",
    "\n",
    "\n",
    "plt.figure(figsize = (20,14))\n",
    "sns.barplot(X_train.columns, reg.coef_[0])\n",
    "#g.set(ylim=(0.9, 1.25))\n",
    "\n",
    "plt.title(\"Linear regression coefficients\", fontsize=20)\n",
    "plt.xlabel(\"variable\", fontsize=20)\n",
    "plt.ylabel(\"coefficient\", fontsize=20)\n",
    "plt.xticks(fontsize=14, rotation=45)\n",
    "plt.yticks(fontsize=14)\n",
    "\n",
    "#plt.show()\n",
    "#plt.savefig(\"img/reg_coef.png\")\n",
    "\"\"\" "
   ]
  },
  {
   "cell_type": "code",
   "execution_count": 11,
   "metadata": {},
   "outputs": [
    {
     "name": "stdout",
     "output_type": "stream",
     "text": [
      "0.7927927927927928 0.6348314606741573 0.10150375939849623 0.8071428571428572 0.3153153153153153\n",
      "1.0259090909090909 1.4637011512256246 5.325325325325326 1.0407079646017698 2.642857142857143\n"
     ]
    }
   ],
   "source": [
    "y_pred_female = reg.predict(X_test_female)\n",
    "y_pred_male = reg.predict(X_test_male)\n",
    "(f1, f2, f3, f4, f5) = get_statistics(y_test_female.to_numpy(), y_pred_female)\n",
    "(m1, m2, m3, m4, m5) = get_statistics(y_test_male.to_numpy(), y_pred_male)\n",
    "(t1, t2, t3, t4, t5) = get_statistics(y_test.to_numpy(), y_pred)\n",
    "#print(f1, f2, f3, f4, f5)\n",
    "#print(m1, m2, m3, m4, m5)\n",
    "print(t1, t2, t3, t4, t5)\n",
    "#print(f1/t1, f2/t2, f3/t3, f4/t4, f5/t5)\n",
    "plot_data = plot_data.append(pd.DataFrame([['Logistic regression', \"female\", min(f1/m1, f1/f1), min(f2/m2, f2/f2), min(f3/m3, f3/f3), min(f4/m4, f4/f4), min(f5/m5, f5/f5)]], columns=columns))\n",
    "plot_data = plot_data.append(pd.DataFrame([['Logistic regression', \"male\", min(m1/m1, m1/f1), min(m2/m2, m2/f2), min(m3/m3, m3/f3), min(m4/m4, m4/f4), min(m5/m5, m5/f5)]], columns=columns))"
   ]
  },
  {
   "cell_type": "markdown",
   "metadata": {},
   "source": [
    "### Random forest"
   ]
  },
  {
   "cell_type": "code",
   "execution_count": 12,
   "metadata": {},
   "outputs": [
    {
     "name": "stdout",
     "output_type": "stream",
     "text": [
      "RandomForestClassifier(bootstrap=True, ccp_alpha=0.0, class_weight=None,\n",
      "                       criterion='gini', max_depth=None, max_features='auto',\n",
      "                       max_leaf_nodes=None, max_samples=None,\n",
      "                       min_impurity_decrease=0.0, min_impurity_split=None,\n",
      "                       min_samples_leaf=1, min_samples_split=2,\n",
      "                       min_weight_fraction_leaf=0.0, n_estimators=100,\n",
      "                       n_jobs=None, oob_score=False, random_state=None,\n",
      "                       verbose=0, warm_start=False)\n",
      "Random forest accuracy: 78.6%\n"
     ]
    }
   ],
   "source": [
    "from sklearn.ensemble import RandomForestClassifier\n",
    "\n",
    "rf = RandomForestClassifier()\n",
    "rf.fit(X_train, y_train)\n",
    "print(rf)\n",
    "\n",
    "y_pred = rf.predict(X_test)\n",
    "rf_accuracy = accuracy_score(y_test, y_pred)\n",
    "print(f\"Random forest accuracy: {rf_accuracy*100:.1f}%\")"
   ]
  },
  {
   "cell_type": "code",
   "execution_count": 13,
   "metadata": {},
   "outputs": [
    {
     "name": "stdout",
     "output_type": "stream",
     "text": [
      "0.786036036036036 0.6292134831460674 0.10902255639097744 0.7943262411347518 0.31756756756756754\n",
      "0.9244699140401147 1.265802781289507 4.4622553588070835 1.0491071428571428 2.2672340425531914\n"
     ]
    }
   ],
   "source": [
    "y_pred_female = rf.predict(X_test_female)\n",
    "y_pred_male = rf.predict(X_test_male)\n",
    "(f1, f2, f3, f4, f5) = get_statistics(y_test_female.to_numpy(), y_pred_female)\n",
    "(m1, m2, m3, m4, m5) = get_statistics(y_test_male.to_numpy(), y_pred_male)\n",
    "(t1, t2, t3, t4, t5) = get_statistics(y_test.to_numpy(), y_pred)\n",
    "#print(f1, f2, f3, f4, f5)\n",
    "#print(m1, m2, m3, m4, m5)\n",
    "print(t1, t2, t3, t4, t5)\n",
    "print(f1/t1, f2/t2, f3/t3, f4/t4, f5/t5)\n",
    "plot_data = plot_data.append(pd.DataFrame([['Random forest', \"female\", min(f1/m1, f1/f1), min(f2/m2, f2/f2), min(f3/m3, f3/f3), min(f4/m4, f4/f4), min(f5/m5, f5/f5)]], columns=columns))\n",
    "plot_data = plot_data.append(pd.DataFrame([['Random forest', \"male\", min(m1/m1, m1/f1), min(m2/m2, m2/f2), min(m3/m3, m3/f3), min(m4/m4, m4/f4), min(m5/m5, m5/f5)]], columns=columns))"
   ]
  },
  {
   "cell_type": "markdown",
   "metadata": {},
   "source": [
    "### KNN"
   ]
  },
  {
   "cell_type": "code",
   "execution_count": 14,
   "metadata": {},
   "outputs": [
    {
     "name": "stdout",
     "output_type": "stream",
     "text": [
      "KNeighborsClassifier(algorithm='auto', leaf_size=30, metric='minkowski',\n",
      "                     metric_params=None, n_jobs=None, n_neighbors=5, p=2,\n",
      "                     weights='uniform')\n",
      "KNN accuracy: 70.0%\n"
     ]
    }
   ],
   "source": [
    "from sklearn.neighbors import KNeighborsClassifier\n",
    "\n",
    "knn = KNeighborsClassifier()\n",
    "knn.fit(X_train, y_train)\n",
    "print(knn)\n",
    "\n",
    "y_pred = knn.predict(X_test)\n",
    "knn_accuracy = accuracy_score(y_test, y_pred)\n",
    "print(f\"KNN accuracy: {knn_accuracy*100:.1f}%\")"
   ]
  },
  {
   "cell_type": "code",
   "execution_count": 15,
   "metadata": {},
   "outputs": [
    {
     "name": "stdout",
     "output_type": "stream",
     "text": [
      "0.7004504504504504 0.5786516853932584 0.21804511278195488 0.639751552795031 0.36261261261261263\n",
      "0.8470739549839229 1.0093650657272963 1.735321528424977 1.2895631067961164 1.470807453416149\n"
     ]
    }
   ],
   "source": [
    "y_pred_female = knn.predict(X_test_female)\n",
    "y_pred_male = knn.predict(X_test_male)\n",
    "(f1, f2, f3, f4, f5) = get_statistics(y_test_female.to_numpy(), y_pred_female)\n",
    "(m1, m2, m3, m4, m5) = get_statistics(y_test_male.to_numpy(), y_pred_male)\n",
    "(t1, t2, t3, t4, t5) = get_statistics(y_test.to_numpy(), y_pred)\n",
    "#print(f1, f2, f3, f4, f5)\n",
    "#print(m1, m2, m3, m4, m5)\n",
    "print(t1, t2, t3, t4, t5)\n",
    "print(f1/t1, f2/t2, f3/t3, f4/t4, f5/t5)\n",
    "plot_data = plot_data.append(pd.DataFrame([['KNN', \"female\", min(f1/m1, f1/f1), min(f2/m2, f2/f2), min(f3/m3, f3/f3), min(f4/m4, f4/f4), min(f5/m5, f5/f5)]], columns=columns))\n",
    "plot_data = plot_data.append(pd.DataFrame([['KNN', \"male\", min(m1/m1, m1/f1), min(m2/m2, m2/f2), min(m3/m3, m3/f3), min(m4/m4, m4/f4), min(m5/m5, m5/f5)]], columns=columns))"
   ]
  },
  {
   "cell_type": "code",
   "execution_count": 16,
   "metadata": {},
   "outputs": [
    {
     "data": {
      "text/html": [
       "<div>\n",
       "<style scoped>\n",
       "    .dataframe tbody tr th:only-of-type {\n",
       "        vertical-align: middle;\n",
       "    }\n",
       "\n",
       "    .dataframe tbody tr th {\n",
       "        vertical-align: top;\n",
       "    }\n",
       "\n",
       "    .dataframe thead th {\n",
       "        text-align: right;\n",
       "    }\n",
       "</style>\n",
       "<table border=\"1\" class=\"dataframe\">\n",
       "  <thead>\n",
       "    <tr style=\"text-align: right;\">\n",
       "      <th></th>\n",
       "      <th>model</th>\n",
       "      <th>sex</th>\n",
       "      <th>accuracy_equality_ratio</th>\n",
       "      <th>equal_opportunity_ratio</th>\n",
       "      <th>predictive_equality_ratio</th>\n",
       "      <th>predictive_parity_ratio</th>\n",
       "      <th>statistical_parity_ratio</th>\n",
       "    </tr>\n",
       "  </thead>\n",
       "  <tbody>\n",
       "    <tr>\n",
       "      <th>0</th>\n",
       "      <td>XGBoost</td>\n",
       "      <td>female</td>\n",
       "      <td>0.930169</td>\n",
       "      <td>1.000000</td>\n",
       "      <td>1.000000</td>\n",
       "      <td>1.000000</td>\n",
       "      <td>1.000000</td>\n",
       "    </tr>\n",
       "    <tr>\n",
       "      <th>0</th>\n",
       "      <td>XGBoost</td>\n",
       "      <td>male</td>\n",
       "      <td>1.000000</td>\n",
       "      <td>0.533392</td>\n",
       "      <td>0.248572</td>\n",
       "      <td>0.659333</td>\n",
       "      <td>0.237422</td>\n",
       "    </tr>\n",
       "    <tr>\n",
       "      <th>0</th>\n",
       "      <td>Logistic regression</td>\n",
       "      <td>female</td>\n",
       "      <td>1.000000</td>\n",
       "      <td>1.000000</td>\n",
       "      <td>1.000000</td>\n",
       "      <td>1.000000</td>\n",
       "      <td>1.000000</td>\n",
       "    </tr>\n",
       "    <tr>\n",
       "      <th>0</th>\n",
       "      <td>Logistic regression</td>\n",
       "      <td>male</td>\n",
       "      <td>0.961860</td>\n",
       "      <td>0.132454</td>\n",
       "      <td>0.056550</td>\n",
       "      <td>0.634921</td>\n",
       "      <td>0.061224</td>\n",
       "    </tr>\n",
       "    <tr>\n",
       "      <th>0</th>\n",
       "      <td>Random forest</td>\n",
       "      <td>female</td>\n",
       "      <td>0.890167</td>\n",
       "      <td>1.000000</td>\n",
       "      <td>1.000000</td>\n",
       "      <td>1.000000</td>\n",
       "      <td>1.000000</td>\n",
       "    </tr>\n",
       "    <tr>\n",
       "      <th>0</th>\n",
       "      <td>Random forest</td>\n",
       "      <td>male</td>\n",
       "      <td>1.000000</td>\n",
       "      <td>0.424957</td>\n",
       "      <td>0.098738</td>\n",
       "      <td>0.800000</td>\n",
       "      <td>0.155896</td>\n",
       "    </tr>\n",
       "    <tr>\n",
       "      <th>0</th>\n",
       "      <td>KNN</td>\n",
       "      <td>female</td>\n",
       "      <td>0.785766</td>\n",
       "      <td>1.000000</td>\n",
       "      <td>1.000000</td>\n",
       "      <td>1.000000</td>\n",
       "      <td>1.000000</td>\n",
       "    </tr>\n",
       "    <tr>\n",
       "      <th>0</th>\n",
       "      <td>KNN</td>\n",
       "      <td>male</td>\n",
       "      <td>1.000000</td>\n",
       "      <td>0.974592</td>\n",
       "      <td>0.507798</td>\n",
       "      <td>0.553685</td>\n",
       "      <td>0.516582</td>\n",
       "    </tr>\n",
       "  </tbody>\n",
       "</table>\n",
       "</div>"
      ],
      "text/plain": [
       "                 model     sex  accuracy_equality_ratio  \\\n",
       "0              XGBoost  female                 0.930169   \n",
       "0              XGBoost    male                 1.000000   \n",
       "0  Logistic regression  female                 1.000000   \n",
       "0  Logistic regression    male                 0.961860   \n",
       "0        Random forest  female                 0.890167   \n",
       "0        Random forest    male                 1.000000   \n",
       "0                  KNN  female                 0.785766   \n",
       "0                  KNN    male                 1.000000   \n",
       "\n",
       "   equal_opportunity_ratio  predictive_equality_ratio  \\\n",
       "0                 1.000000                   1.000000   \n",
       "0                 0.533392                   0.248572   \n",
       "0                 1.000000                   1.000000   \n",
       "0                 0.132454                   0.056550   \n",
       "0                 1.000000                   1.000000   \n",
       "0                 0.424957                   0.098738   \n",
       "0                 1.000000                   1.000000   \n",
       "0                 0.974592                   0.507798   \n",
       "\n",
       "   predictive_parity_ratio  statistical_parity_ratio  \n",
       "0                 1.000000                  1.000000  \n",
       "0                 0.659333                  0.237422  \n",
       "0                 1.000000                  1.000000  \n",
       "0                 0.634921                  0.061224  \n",
       "0                 1.000000                  1.000000  \n",
       "0                 0.800000                  0.155896  \n",
       "0                 1.000000                  1.000000  \n",
       "0                 0.553685                  0.516582  "
      ]
     },
     "execution_count": 16,
     "metadata": {},
     "output_type": "execute_result"
    }
   ],
   "source": [
    "plot_data"
   ]
  },
  {
   "cell_type": "code",
   "execution_count": 17,
   "metadata": {},
   "outputs": [
    {
     "data": {
      "text/plain": [
       "<Figure size 1008x1440 with 0 Axes>"
      ]
     },
     "metadata": {},
     "output_type": "display_data"
    },
    {
     "data": {
      "image/png": "[encoded data removed]",
      "text/plain": [
       "<Figure size 502.5x432 with 1 Axes>"
      ]
     },
     "metadata": {
      "needs_background": "light"
     },
     "output_type": "display_data"
    }
   ],
   "source": [
    "plt.figure(figsize = (14,20))\n",
    "\n",
    "g = sns.catplot(\n",
    "    data=plot_data, kind=\"bar\", hue=\"sex\",\n",
    "    x=\"model\", y='accuracy_equality_ratio',\n",
    "    ci=\"sd\", palette=\"dark\", alpha=.6, height=6\n",
    ")\n",
    "g.despine(left=True)\n",
    "g.set_axis_labels(\"\", \"\")\n",
    "\n",
    "plt.axhline(y=0.8, color='b', linestyle='--')\n",
    "\n",
    "plt.title(\"Accuracy equality ratio\")\n",
    "plt.savefig(\"img/accuracy_equality_ratio.png\", bbox_inches='tight')"
   ]
  },
  {
   "cell_type": "code",
   "execution_count": 18,
   "metadata": {},
   "outputs": [
    {
     "data": {
      "image/png": "[encoded data removed]",
      "text/plain": [
       "<Figure size 502.5x432 with 1 Axes>"
      ]
     },
     "metadata": {
      "needs_background": "light"
     },
     "output_type": "display_data"
    }
   ],
   "source": [
    "g = sns.catplot(\n",
    "    data=plot_data, kind=\"bar\", hue=\"sex\",\n",
    "    x=\"model\", y='equal_opportunity_ratio',\n",
    "    ci=\"sd\", palette=\"dark\", alpha=.6, height=6\n",
    ")\n",
    "g.despine(left=True)\n",
    "g.set_axis_labels(\"\", \"\")\n",
    "\n",
    "plt.axhline(y=0.8, color='b', linestyle='--')\n",
    "\n",
    "plt.title(\"Equal opportunity ratio\")\n",
    "plt.savefig(\"img/equal_opportunity_ratio.png\", bbox_inches='tight')"
   ]
  },
  {
   "cell_type": "code",
   "execution_count": 19,
   "metadata": {},
   "outputs": [
    {
     "data": {
      "image/png": "[encoded data removed]",
      "text/plain": [
       "<Figure size 502.5x432 with 1 Axes>"
      ]
     },
     "metadata": {
      "needs_background": "light"
     },
     "output_type": "display_data"
    }
   ],
   "source": [
    "g = sns.catplot(\n",
    "    data=plot_data, kind=\"bar\", hue=\"sex\",\n",
    "    x=\"model\", y='predictive_equality_ratio',\n",
    "    ci=\"sd\", palette=\"dark\", alpha=.6, height=6\n",
    ")\n",
    "g.despine(left=True)\n",
    "g.set_axis_labels(\"\", \"\")\n",
    "\n",
    "plt.axhline(y=0.8, color='b', linestyle='--')\n",
    "\n",
    "plt.title(\"Predictive equality ratio\")\n",
    "plt.savefig(\"img/predictive_equality_ratio.png\", bbox_inches='tight')"
   ]
  },
  {
   "cell_type": "code",
   "execution_count": 20,
   "metadata": {},
   "outputs": [
    {
     "data": {
      "image/png": "[encoded data removed]",
      "text/plain": [
       "<Figure size 502.5x432 with 1 Axes>"
      ]
     },
     "metadata": {
      "needs_background": "light"
     },
     "output_type": "display_data"
    }
   ],
   "source": [
    "g = sns.catplot(\n",
    "    data=plot_data, kind=\"bar\", hue=\"sex\",\n",
    "    x=\"model\", y='predictive_parity_ratio',\n",
    "    ci=\"sd\", palette=\"dark\", alpha=.6, height=6\n",
    ")\n",
    "g.despine(left=True)\n",
    "g.set_axis_labels(\"\", \"\")\n",
    "\n",
    "plt.axhline(y=0.8, color='b', linestyle='--')\n",
    "\n",
    "plt.title(\"Predictive parity ratio\")\n",
    "plt.savefig(\"img/predictive_parity_ratio.png\", bbox_inches='tight')"
   ]
  },
  {
   "cell_type": "code",
   "execution_count": 21,
   "metadata": {},
   "outputs": [
    {
     "data": {
      "image/png": "[encoded data removed]",
      "text/plain": [
       "<Figure size 502.5x432 with 1 Axes>"
      ]
     },
     "metadata": {
      "needs_background": "light"
     },
     "output_type": "display_data"
    }
   ],
   "source": [
    "g = sns.catplot(\n",
    "    data=plot_data, kind=\"bar\", hue=\"sex\",\n",
    "    x=\"model\", y='statistical_parity_ratio',\n",
    "    ci=\"sd\", palette=\"dark\", alpha=.6, height=6\n",
    ")\n",
    "g.despine(left=True)\n",
    "g.set_axis_labels(\"\", \"\")\n",
    "\n",
    "plt.axhline(y=0.8, color='b', linestyle='--')\n",
    "\n",
    "plt.title(\"Statistical parity ratio\")\n",
    "plt.savefig(\"img/statistical_parity_ratio.png\", bbox_inches='tight')"
   ]
  },
  {
   "cell_type": "code",
   "execution_count": null,
   "metadata": {},
   "outputs": [],
   "source": []
  }
 ],
 "metadata": {
  "kernelspec": {
   "display_name": "Python 3",
   "language": "python",
   "name": "python3"
  },
  "language_info": {
   "codemirror_mode": {
    "name": "ipython",
    "version": 3
   },
   "file_extension": ".py",
   "mimetype": "text/x-python",
   "name": "python",
   "nbconvert_exporter": "python",
   "pygments_lexer": "ipython3",
   "version": "3.6.9"
  }
 },
 "nbformat": 4,
 "nbformat_minor": 4
}
