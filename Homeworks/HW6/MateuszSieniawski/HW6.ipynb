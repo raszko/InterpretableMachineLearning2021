{
 "cells": [
  {
   "cell_type": "markdown",
   "metadata": {},
   "source": [
    "# Homework 6\n",
    "### Author: Mateusz Sieniawski"
   ]
  },
  {
   "cell_type": "markdown",
   "metadata": {},
   "source": [
    "I worked on the Titanic dataset (https://www.kaggle.com/c/titanic). In this dataset there is a column `Sex`, which was the protected variable. I've trained 4 models: XGBoost, Logistic Regression, Random Forest, and KNN. Their fairness perfomance was evaluated using 5 different metrics. I calculated the value of the metrics for both females and males, as each of them was a protected group.\n",
    "\n",
    "The first 3 models achieved similar accuracy, whilst the KNN performance was a bit poorer:\n",
    "- XGBoost - 78.4%\n",
    "- Logistic Regression - 79.3%\n",
    "- Random Forest - 78.6%\n",
    "- KNN - 70.0%\n",
    "\n",
    "The blue dashed lines in the pictures represent the 80% (the four-fifths rule). Value below 80% is regarded by the Federal enforcement agencies as evidence of adverse impact."
   ]
  },
  {
   "cell_type": "markdown",
   "metadata": {},
   "source": [
    "![aer](img/accuracy_equality_ratio.png)"
   ]
  },
  {
   "cell_type": "markdown",
   "metadata": {},
   "source": [
    "Almost all models were contained within the 80% threshold (except for KNN in *female* group, which was close)"
   ]
  },
  {
   "cell_type": "markdown",
   "metadata": {},
   "source": [
    "![aer](img/equal_opportunity_ratio.png)"
   ]
  },
  {
   "cell_type": "markdown",
   "metadata": {},
   "source": [
    "Only KNN preserved equal opportunity ratio for both groups. Other models struggled a lot in the *male* group"
   ]
  },
  {
   "cell_type": "markdown",
   "metadata": {},
   "source": [
    "![aer](img/predictive_equality_ratio.png)"
   ]
  },
  {
   "cell_type": "markdown",
   "metadata": {},
   "source": [
    "None of the models preserved the predictive equality ratio. However, similiarly as in equal opportunity ratio, the KNN performed the best in this metric"
   ]
  },
  {
   "cell_type": "markdown",
   "metadata": {},
   "source": [
    "![aer](img/predictive_parity_ratio.png)"
   ]
  },
  {
   "cell_type": "markdown",
   "metadata": {},
   "source": [
    "Only the Random Forest model surpassed the 4/5 mark of predictive parity ratio for *male* group"
   ]
  },
  {
   "cell_type": "markdown",
   "metadata": {},
   "source": [
    "![aer](img/statistical_parity_ratio.png)"
   ]
  },
  {
   "cell_type": "markdown",
   "metadata": {},
   "source": [
    "Similarly as in predictive equality ratio, none of the models achieved 80% and KNN was by far the best algorithm"
   ]
  },
  {
   "cell_type": "markdown",
   "metadata": {},
   "source": [
    "### Summary\n",
    "\n",
    "It was interesting, that KNN, which was the model with the worst accuracy, performed better than other models in 3 out of 5 fairness metrics.\n",
    "\n",
    "None of the groups (*females* nor *males*) were discriminated in terms of accuracy equality ratio (with a small exception for KNN in *females* groups, which was close). However, these models turned out to be discrimitive towards *males* in other 4 metrics."
   ]
  },
  {
   "cell_type": "code",
   "execution_count": null,
   "metadata": {},
   "outputs": [],
   "source": []
  }
 ],
 "metadata": {
  "kernelspec": {
   "display_name": "Python 3",
   "language": "python",
   "name": "python3"
  },
  "language_info": {
   "codemirror_mode": {
    "name": "ipython",
    "version": 3
   },
   "file_extension": ".py",
   "mimetype": "text/x-python",
   "name": "python",
   "nbconvert_exporter": "python",
   "pygments_lexer": "ipython3",
   "version": "3.6.9"
  }
 },
 "nbformat": 4,
 "nbformat_minor": 4
}
